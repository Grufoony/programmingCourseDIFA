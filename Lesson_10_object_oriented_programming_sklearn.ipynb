{
 "cells": [
  {
   "cell_type": "code",
   "execution_count": 59,
   "metadata": {
    "slideshow": {
     "slide_type": "skip"
    }
   },
   "outputs": [],
   "source": [
    "# https://github.com/laike9m/pdir2/wiki/User-Configuration\n",
    "!export PDIR2_CONFIG_FILE=\"~/.pdir2config\""
   ]
  },
  {
   "cell_type": "code",
   "execution_count": 1,
   "metadata": {
    "slideshow": {
     "slide_type": "skip"
    }
   },
   "outputs": [
    {
     "name": "stdout",
     "output_type": "stream",
     "text": [
      "Overwriting /home/enrico/.pdir2config\n"
     ]
    }
   ],
   "source": [
    "%%file ~/.pdir2config\n",
    "[global]\n",
    "category-color = magenta\n",
    "attribute-color = bright blue\n",
    "comma-color = bright blue\n",
    "doc-color = bright black\n",
    "#uniform-color = bright black"
   ]
  },
  {
   "cell_type": "markdown",
   "metadata": {
    "slideshow": {
     "slide_type": "slide"
    }
   },
   "source": [
    "# Object Oriented Programming in Python\n",
    "\n",
    "How to develop libraries and program with human API"
   ]
  },
  {
   "cell_type": "markdown",
   "metadata": {
    "slideshow": {
     "slide_type": "slide"
    }
   },
   "source": [
    "## code categorization\n",
    "\n",
    "#### prompt\n",
    "\n",
    "In a prompt one writes commands, they executes and they are forgotten.\n",
    "This is the most common case for bash, but can be done in python as well once one is sufficiently well versed in it using smart shells like **IPython**\n",
    "\n",
    "#### scripts\n",
    "\n",
    "A script can be seen as a way of repeating a series of commands.\n",
    "It has a very well defined scope and does not need configurations, option managements, and so on.\n",
    "They are mostly run just once to perform a specific job and that's it\n",
    "\n",
    "(continue...)"
   ]
  },
  {
   "cell_type": "markdown",
   "metadata": {
    "slideshow": {
     "slide_type": "slide"
    }
   },
   "source": [
    "#### libraries\n",
    "\n",
    "A library is an organized collection of functions, routines and objects that are designed to be used by someone else than the original writer.\n",
    "This is where good programming practice start to matter seriously.\n",
    "Library need an API (Application Programming Interface) that defines what and how is possible to do with the library.\n",
    "\n",
    "Library design is one of the main reasons for object oriented programming: it allows to design consistent and well structured interfaces that helps the user obtaining what they wants and guide them down the right path avoiding bad practices\n",
    "\n",
    "(continue...)"
   ]
  },
  {
   "cell_type": "markdown",
   "metadata": {
    "slideshow": {
     "slide_type": "slide"
    }
   },
   "source": [
    "#### programs\n",
    "\n",
    "A program is a higher level interaction: the user does not need to write code, aside some configuration files in case.\n",
    "It performs a specific goal, and might be run very often or even continuously by the user.\n",
    "\n",
    "they are often classified based on their interface (even if this is often just different possibilities of interacting with the same underlying commands):\n",
    "* **GUI** - graphical user interface\n",
    "* **CLI** - command line interface\n",
    "* **TUI** - text-based user interface\n",
    "* **WUI** - web-based user interface (not a real term)\n",
    "\n",
    "there are more exotic ones, such are Voice User Interface (Siri), Tangible User Interface (joysticks and buttons) and so on, but they go out of the scope of this discussion.\n",
    "\n",
    "(continue...)"
   ]
  },
  {
   "cell_type": "markdown",
   "metadata": {
    "slideshow": {
     "slide_type": "slide"
    }
   },
   "source": [
    "#### frameworks\n",
    "\n",
    "a framework is basically a program (or a set of libraries that can be compiled as such) that can be configured by writing code, typically in the form of classes.\n",
    "\n",
    "Basically they are the opposite of a library.\n",
    "Your program call the library, while a framework calls the code you wrote.\n",
    "\n",
    "A very well known framework in python is Django, a web content management systems, where the user need to write the code for database connection and display, and runs calling the user code."
   ]
  },
  {
   "cell_type": "markdown",
   "metadata": {
    "slideshow": {
     "slide_type": "slide"
    }
   },
   "source": [
    "# What is an Object Oriented Programming? and why do we care?\n",
    "\n",
    "In python you've been using objects without knowing what they are already.\n",
    "\n",
    "Literally everything is an object in python.\n",
    "\n",
    "**And I mean LITERALLY**\n",
    "\n",
    "Today we will talk about Object Oriented Programming (OOP), with particular focus on Python's approach to it.\n",
    "\n",
    "The advantage of OOP is that it allows to write beautiful and robust libraries and programs.\n",
    "\n",
    "If done well.\n",
    "\n",
    "It requires a specific way of thinking about your program, and it need some time to be internalized."
   ]
  },
  {
   "cell_type": "markdown",
   "metadata": {
    "slideshow": {
     "slide_type": "slide"
    }
   },
   "source": [
    "## Using OOP\n",
    "\n",
    "OOP is a great programming paradigm to implement libraries that are easy to explore and to program with.\n",
    "This (when done properly) allow to write simpler and better programs.\n",
    "\n",
    "It allow us to write nice, readable code.\n",
    "\n",
    "This is true both for creating a new library, or to do **wrapping**: taking another library and create a nice interface to it"
   ]
  },
  {
   "cell_type": "markdown",
   "metadata": {
    "slideshow": {
     "slide_type": "slide"
    }
   },
   "source": [
    "# What is an object?\n",
    "\n",
    "Starting from a very abstract perspective, an object is a black box with whom we can communicate, giving commands to perform and asking questions (think of the routines and functions we talked previously).\n",
    "\n",
    "How does the object work internally should not interest us (in an ideal world), we just care about how to communicate with it."
   ]
  },
  {
   "cell_type": "markdown",
   "metadata": {
    "slideshow": {
     "slide_type": "slide"
    }
   },
   "source": [
    "Take for example the python's `list`.\n",
    "\n",
    "We know it stores things inside it, and we can ask to retrieve them, add and remove them, put them in order and so forth.\n",
    "\n",
    "How does a list work under the hood? **I don't have to care**\n",
    "\n",
    "We might choose to use a list or an array based on their properties, but I don't (almost) ever need to know how they function to use them. \n",
    "\n",
    "A good object should be self sufficient (have high *cohesion*) and not depend on specific other object (have low *coupling*)"
   ]
  },
  {
   "cell_type": "markdown",
   "metadata": {
    "slideshow": {
     "slide_type": "slide"
    }
   },
   "source": [
    "# Classes and Interfaces: describing common properties\n",
    "\n",
    "In OOP one of the most common concepts is the idea of a specific object being referred to as an **instance** of a **class**, which implements several **interfaces**.\n",
    "\n",
    "Rather than trying to describe them in abstract terms, I'll give you an example.\n",
    "\n",
    "Consider the ideas of:\n",
    "* animal (something that needs to be fed and cared for)\n",
    "* mechanical object (something non living that can be repaired)\n",
    "* vehicle (something that I can use to move around)\n",
    "* producer (something that I can use to make things)"
   ]
  },
  {
   "cell_type": "markdown",
   "metadata": {
    "slideshow": {
     "slide_type": "slide"
    }
   },
   "source": [
    "|                | producer       | vehicle |\n",
    "|----------------|----------------|---------|\n",
    "| **animal**     | cow            | horse   |\n",
    "| **mechanical** | coffee machine | car     |\n",
    "\n",
    "* Coffee machine is a class that implements two interfaces (mechanical and producer) that describe how you can interact with them\n",
    "* **My Coffee Machine** is an instance of the Coffee machine class\n",
    "\n",
    "---\n",
    "\n",
    "* the instance is the object with which I interact\n",
    "* the class describe the \"kind\" of object I'm interacting with, telling me how I can interact with it\n",
    "* the interfaces are the various ways I can interact with it\n",
    "* the interface **should not** specify how the class works internally, only how I can interact with it!"
   ]
  },
  {
   "cell_type": "markdown",
   "metadata": {
    "slideshow": {
     "slide_type": "slide"
    }
   },
   "source": [
    "## Example of Python Interfaces and Classes\n",
    "\n",
    "\n",
    "|                 | indexable | non-indexable |\n",
    "|-----------------|-----------|---------------|\n",
    "| **mutable**     | list      | set           |\n",
    "| **non-mutable** | string    | int           |\n",
    "\n",
    "* mutability: I can change the values inside the object once it has been created\n",
    "* indexable: I can extract items from inside the object with the `[ ]` syntax"
   ]
  },
  {
   "cell_type": "markdown",
   "metadata": {
    "slideshow": {
     "slide_type": "slide"
    }
   },
   "source": [
    "## How to comunicate with an object?\n",
    "\n",
    "**methods**, we communicate with methods.\n",
    "\n",
    "Methods have the same logic as normal functions, and they can behave like *routines* (change the state of the object and don't return anything) of *functions* (return something without changing the state of the object).\n",
    "\n",
    "the syntax of method calling is:\n",
    "\n",
    "    <instance>.<method>(<parameters>)\n",
    "    \n",
    "for example, for lists:\n",
    "\n",
    "```python\n",
    "a = [1, 2, 3]\n",
    "a.append(4) # add a new element to the list\n",
    "a.index(3) # return the index of the element, without changing the object\n",
    "```"
   ]
  },
  {
   "cell_type": "markdown",
   "metadata": {
    "slideshow": {
     "slide_type": "slide"
    }
   },
   "source": [
    "## Internal state\n",
    "\n",
    "As users we are interested in the object only for its behavior, so ideally we only approch it by its methods, but to do something useful they have to have a way to store some internal state.\n",
    "\n",
    "This internal state is represented by the object's **attributes**.\n",
    "\n",
    "Attributes management is one point where python tends to differ from most other programming languages (that I know of), but we'll talk about that later"
   ]
  },
  {
   "cell_type": "markdown",
   "metadata": {
    "slideshow": {
     "slide_type": "slide"
    }
   },
   "source": [
    "## Using objects: Polymorphism and Substitution Principle\n",
    "\n",
    "When we pass objects around, what we care about is some idea of how we can interact with it.\n",
    "\n",
    "the function:\n",
    "\n",
    "```python\n",
    "def add(a, b):\n",
    "    return a+b\n",
    "```\n",
    "\n",
    "assumes that a and b know how to be added together, but does not make assumptions on what they are.\n",
    "It can work with integers, floating points, strings, numpy array, etc..\n",
    "As long as they implement the `+` interface, they are fine to work with.\n",
    "\n",
    "```python\n",
    "def head(sequence):\n",
    "    return sequence[0]\n",
    "```\n",
    "\n",
    "In this case we only care that our object can be indexed with numbers: lists, dictionaries, numpy arrays, strings, they are all fine."
   ]
  },
  {
   "cell_type": "markdown",
   "metadata": {
    "slideshow": {
     "slide_type": "slide"
    }
   },
   "source": [
    "the idea is that when I define a function, I'm defining the interface I expect from my objects.\n",
    "\n",
    "In some languages I do that explicitely (C++, Java, etc..), in others I do it implicitely (Python, R, etc...), but the idea is the same.\n",
    "O\n",
    "ften this is done by fixing the **class** that the function accept, but this is generally incorrect, we should be fixing the **interface** we want our objects to provide.\n",
    "\n",
    "We should try to be as general as possible in the definition of the interface we require: if we only need to iterate over an object, we should just state that it should be an `Iterable`, not a `list`, we would be limiting ourselves for no reason.\n",
    "\n",
    "The principle of substitusion states that once I've defined the interface, any object that follows that interface should be accepted (the original one is referred to inheritance, but don't worry about that for now)."
   ]
  },
  {
   "cell_type": "markdown",
   "metadata": {
    "slideshow": {
     "slide_type": "slide"
    }
   },
   "source": [
    "# How to use objects to make a library\n",
    "\n",
    "rule number 1:\n",
    "> don't start writing the code to implement the features, write the code you want to be able to write!\n",
    "\n",
    "* write how the features should look like in real code\n",
    "* write tests that assert that behavior (and initially fail)\n",
    "* now you can implement them!"
   ]
  },
  {
   "cell_type": "markdown",
   "metadata": {
    "slideshow": {
     "slide_type": "slide"
    }
   },
   "source": [
    "Let's say that we want to implement a class to represent and manage some kind of object.\n",
    "\n",
    "to do this, the best starting point is to try and write the code that we would like to have with that class, and then proceed to implement it.\n",
    "\n",
    "This has two advantages:\n",
    "* it guides us on which are the most important feature first\n",
    "* it paved the road for testing in a very easy way"
   ]
  },
  {
   "cell_type": "markdown",
   "metadata": {
    "slideshow": {
     "slide_type": "slide"
    }
   },
   "source": [
    "When designing classes, think of the unix principles:\n",
    "\n",
    "* one class should have one goal (or job), and only one, and should do it well\n",
    "* the class should be as small as you can get away with to do the job\n",
    "* it should not make assumptions on who (which other object) is going to communicate with it"
   ]
  },
  {
   "cell_type": "markdown",
   "metadata": {
    "slideshow": {
     "slide_type": "slide"
    }
   },
   "source": [
    "### note\n",
    "previous years' lectures used seaborn `distplot` for this demonstration, but the function has been deprecated and not suitable for use anymore, don't use that code if you find it!"
   ]
  },
  {
   "cell_type": "markdown",
   "metadata": {
    "slideshow": {
     "slide_type": "slide"
    }
   },
   "source": [
    "## example - logging timer\n",
    "\n",
    "For our simulations we might want to have a timer/logger of events,\n",
    " but without the overhead of printing to screen during execution to avoid slowind down the computation!\n",
    "\n",
    "```python\n",
    ">>> timer = Timer()\n",
    ">>> timer.tick(\"event\")\n",
    ">>> timer.log()\n",
    "```\n",
    "\n",
    "    'event' at time xx:xx\n"
   ]
  },
  {
   "cell_type": "code",
   "execution_count": 54,
   "metadata": {
    "slideshow": {
     "slide_type": "slide"
    }
   },
   "outputs": [
    {
     "name": "stdout",
     "output_type": "stream",
     "text": [
      "'hello, world!' happened at 1615649618.2291648\n"
     ]
    }
   ],
   "source": [
    "import time\n",
    "\n",
    "class Timer:\n",
    "    def __init__(self):\n",
    "        self._ticks: dict[str, int] = {}\n",
    "            \n",
    "    def tick(self, event_name: str):\n",
    "        self._ticks[event_name] = time.time()\n",
    "            \n",
    "    def log(self):\n",
    "        for name, epoch in self._ticks.items():\n",
    "            print(repr(name), \"happened at\", epoch)\n",
    "                \n",
    "timer = Timer()\n",
    "timer.tick(\"hello, world!\")\n",
    "timer.log()"
   ]
  },
  {
   "cell_type": "markdown",
   "metadata": {
    "slideshow": {
     "slide_type": "slide"
    }
   },
   "source": [
    "how do we deal with duplicated events?\n",
    "\n",
    "```python\n",
    ">>> timer = Timer()\n",
    ">>> timer.tick(\"event\")\n",
    ">>> timer.tick(\"event\")\n",
    ">>> timer.log()\n",
    "```\n",
    "\n",
    "    'event' at time xx:xx and time xx:xx\n"
   ]
  },
  {
   "cell_type": "code",
   "execution_count": 55,
   "metadata": {
    "slideshow": {
     "slide_type": "slide"
    }
   },
   "outputs": [
    {
     "name": "stdout",
     "output_type": "stream",
     "text": [
      "'hello, world!' happened at 1615649833.8234465 and 1615649833.8235137\n"
     ]
    }
   ],
   "source": [
    "import time\n",
    "from collections import defaultdict\n",
    "\n",
    "class Timer:\n",
    "    def __init__(self):\n",
    "        self._ticks: dict[str, list[int]] = defaultdict(list)\n",
    "            \n",
    "    def tick(self, event_name: str):\n",
    "        self._ticks[event_name].append(time.time())\n",
    "            \n",
    "    def log(self):\n",
    "        for name, epochs in self._ticks.items():\n",
    "            joined_str = \" and \".join(str(e) for e in epochs)\n",
    "            print(repr(name), \"happened at\", joined_str)\n",
    "            \n",
    "                \n",
    "timer = Timer()\n",
    "timer.tick(\"hello, world!\")\n",
    "timer.tick(\"hello, world!\")\n",
    "timer.log()"
   ]
  },
  {
   "cell_type": "markdown",
   "metadata": {
    "slideshow": {
     "slide_type": "slide"
    }
   },
   "source": [
    "We could decide to filter the events we want to see:\n",
    "\n",
    "```python\n",
    ">>> timer = Timer()\n",
    ">>> timer.tick(\"fun1/event\")\n",
    ">>> timer.tick(\"fun2/event\")\n",
    ">>> timer.log(\"fun1/\")\n",
    "```\n",
    "\n",
    "    'fun1/event' at time xx:xx and time xx:xx\n"
   ]
  },
  {
   "cell_type": "code",
   "execution_count": 59,
   "metadata": {
    "slideshow": {
     "slide_type": "slide"
    }
   },
   "outputs": [
    {
     "name": "stdout",
     "output_type": "stream",
     "text": [
      "'fun1/event' happened at 1615651954.5938675\n",
      "'fun2/event' happened at 1615651954.5939393\n",
      "------------------------------------------------------------\n",
      "'fun1/event' happened at 1615651954.5938675\n"
     ]
    }
   ],
   "source": [
    "import time\n",
    "from collections import defaultdict\n",
    "\n",
    "class Timer:\n",
    "    def __init__(self):\n",
    "        self._ticks: dict[str, list[int]] = defaultdict(list)\n",
    "            \n",
    "    def tick(self, event_name: str):\n",
    "        self._ticks[event_name].append(time.time())\n",
    "            \n",
    "    def log(self, filter=\"\"):\n",
    "        for name, epochs in self._ticks.items():\n",
    "            if filter not in name:\n",
    "                continue\n",
    "            joined_str = \" and \".join(str(e) for e in epochs)\n",
    "            print(repr(name), \"happened at\", joined_str)\n",
    "            \n",
    "                \n",
    "timer = Timer()\n",
    "timer.tick(\"fun1/event\")\n",
    "timer.tick(\"fun2/event\")\n",
    "timer.log()\n",
    "print(\"-\"*60)\n",
    "timer.log(\"fun1/\")"
   ]
  },
  {
   "cell_type": "markdown",
   "metadata": {
    "slideshow": {
     "slide_type": "slide"
    }
   },
   "source": [
    "# Scikit-learn (sklearn) use case\n",
    "\n",
    "scikit learn is the main machine learning library in python.\n",
    "For our current discussion, we can say that sklearn is based on two pillars:\n",
    "\n",
    "* Classifiers, Regressors and Transformers\n",
    "* pipelines and unions\n",
    "\n",
    "Sklearn employs a very simple interface api for the first group, and leverage the second group to hierarchically create the whole analysis pipeline"
   ]
  },
  {
   "cell_type": "markdown",
   "metadata": {
    "slideshow": {
     "slide_type": "fragment"
    }
   },
   "source": [
    "This allowed anyone to write classes compatible with all the other sklearn compatible classes, driving an explosion of methods and libraries that all work together nicely.\n",
    "\n",
    "These good API choices basically singlehandedly put python in the machine learning community attention"
   ]
  },
  {
   "cell_type": "markdown",
   "metadata": {
    "slideshow": {
     "slide_type": "slide"
    }
   },
   "source": [
    "The basic idea of `Classifiers`, `Regressors` and `Transformers`, is that all of them implement a compatible interface:\n",
    "\n",
    "* **Transformers** implements a method `fit` and a method `transform`\n",
    "* **Regressors** and **Classifiers** implement the methods `fit` and `predict`\n",
    "\n",
    "the idea is that with the `fit` function this object \"learns\" from the data, then they apply to (ideally) new data to predict the expected value or to transform them."
   ]
  },
  {
   "cell_type": "markdown",
   "metadata": {
    "slideshow": {
     "slide_type": "slide"
    }
   },
   "source": [
    "* **fit(X, y)** should take:\n",
    "    * an array-like **X** (rows for the obsersations, columns for the features)\n",
    "    * an array-like **y** (rows for the observations, potentially multiple column values)\n",
    "    * **returns**: the predictor itself\n",
    "* **predict(X)** should take:\n",
    "    * an array-like **X** (rows for the obsersations, columns for the features)\n",
    "    * **returns**: an array-like (rows for the observations, potentially multiple column values)\n",
    "* **transform(X)** should take:\n",
    "    * an array-like **X** (rows for the obsersations, columns for the features)\n",
    "    * **returns**: an array-like (rows for the observations, potentially multiple column values)"
   ]
  },
  {
   "cell_type": "markdown",
   "metadata": {
    "slideshow": {
     "slide_type": "slide"
    }
   },
   "source": [
    "The real magic bits are **pipelines** and **unions**.\n",
    "\n",
    "* **unions** take a series of transformers and combined all of their output in a single transformed dataset. **it behaves like a transformer itself**\n",
    "* **pipelines** take a list of transformers (and optionally a classifier/regressor at the end) and pipe the data from one to the other. **it behaves like a transformer or estimator itself**\n",
    "\n",
    "the fact that both unions and pipelines expose the same interface as the objects that they are wrapping means that they can be used inside other unions and pipelines, creating a full data-flow structure that behaves correctly (for example about data leaking)."
   ]
  },
  {
   "cell_type": "code",
   "execution_count": 15,
   "metadata": {
    "slideshow": {
     "slide_type": "slide"
    }
   },
   "outputs": [],
   "source": [
    "from sklearn.preprocessing import StandardScaler\n",
    "from sklearn.pipeline import make_pipeline\n",
    "from sklearn.linear_model import LinearRegression\n",
    "\n",
    "import numpy as np\n",
    "import numpy.random as rn"
   ]
  },
  {
   "cell_type": "code",
   "execution_count": 42,
   "metadata": {
    "slideshow": {
     "slide_type": "slide"
    }
   },
   "outputs": [],
   "source": [
    "rn.seed(42)               # fix the random seed to have replicability\n",
    "data = rn.randn(200, 2)   # 200 bidimensional data points\n",
    "y = (\n",
    "    + 1.0 * data[:, 0]    # first component, weight 1\n",
    "    + 0.5 * data[:, 1]    # second component, weight 0.5\n",
    "    + rn.randn(len(data)) # noise component\n",
    ")"
   ]
  },
  {
   "cell_type": "code",
   "execution_count": null,
   "metadata": {
    "slideshow": {
     "slide_type": "-"
    }
   },
   "outputs": [],
   "source": [
    "# this is the data that we want to do the prediction about\n",
    "new_data = rn.randn(10, 2)"
   ]
  },
  {
   "cell_type": "code",
   "execution_count": 48,
   "metadata": {
    "slideshow": {
     "slide_type": "slide"
    }
   },
   "outputs": [
    {
     "name": "stdout",
     "output_type": "stream",
     "text": [
      "[[ 0.51326213 -0.18391283]\n",
      " [ 0.67128389  1.542076  ]\n",
      " [-0.25172177 -0.28351899]\n",
      " [ 1.64629106  0.75705623]\n",
      " [-0.4980274   0.5234244 ]]\n",
      "[[ 0.78568602 -0.99834079]\n",
      " [ 0.90356022  1.36816536]\n",
      " [ 0.42609546  1.90961842]\n",
      " [-0.81654741 -1.33338866]\n",
      " [-1.86838793  1.51403957]]\n"
     ]
    }
   ],
   "source": [
    "sc = StandardScaler()\n",
    "sc.fit(data)# estimate the parameters for the standardization\n",
    "print(sc.transform(data)[:5, :]) # apply the standardization to the OLD data\n",
    "# apply the standardization to the NEW data with the estimates of the old\n",
    "print(sc.transform(new_data)[:5, :]) "
   ]
  },
  {
   "cell_type": "code",
   "execution_count": 44,
   "metadata": {
    "slideshow": {
     "slide_type": "slide"
    }
   },
   "outputs": [
    {
     "data": {
      "text/plain": [
       "array([ 0.21489663,  1.58054749,  1.37919105, -1.59348275, -1.16617208])"
      ]
     },
     "execution_count": 44,
     "metadata": {},
     "output_type": "execute_result"
    }
   ],
   "source": [
    "lr = LinearRegression()\n",
    "lr.fit(data, y)          # fit the regressor on the OLD data\n",
    "lr.predict(new_data)[:5] # use the learned parameter to predict the NEW ones"
   ]
  },
  {
   "cell_type": "code",
   "execution_count": 45,
   "metadata": {
    "slideshow": {
     "slide_type": "-"
    }
   },
   "outputs": [
    {
     "data": {
      "text/plain": [
       "array([1.06614468, 0.54683588])"
      ]
     },
     "execution_count": 45,
     "metadata": {},
     "output_type": "execute_result"
    }
   ],
   "source": [
    "lr.coef_"
   ]
  },
  {
   "cell_type": "code",
   "execution_count": 46,
   "metadata": {
    "slideshow": {
     "slide_type": "slide"
    }
   },
   "outputs": [
    {
     "data": {
      "text/plain": [
       "array([ 0.21489663,  1.58054749,  1.37919105, -1.59348275, -1.16617208,\n",
       "        0.57936311, -0.4048604 ,  2.59029857,  0.42561625,  0.54736359])"
      ]
     },
     "execution_count": 46,
     "metadata": {},
     "output_type": "execute_result"
    }
   ],
   "source": [
    "pipe = make_pipeline(\n",
    "    StandardScaler(),    # scale the data\n",
    "    LinearRegression(),  # perform the linear regression\n",
    ")\n",
    "\n",
    "pipe.fit(data, y)        # fit the linear regressor \n",
    "pipe.predict(new_data)   # predict for the new values"
   ]
  },
  {
   "cell_type": "markdown",
   "metadata": {
    "slideshow": {
     "slide_type": "slide"
    }
   },
   "source": [
    "Can we make a class that can blend in with the native sklearn ones?\n",
    "\n",
    "Quite easily! (at least a basic version, we'll see a more advanced one later)\n",
    "\n",
    "we just need to implement the same interface of **fit** and **predict** (for a predictor, **transform** otherwise)"
   ]
  },
  {
   "cell_type": "code",
   "execution_count": 40,
   "metadata": {
    "slideshow": {
     "slide_type": "slide"
    }
   },
   "outputs": [
    {
     "data": {
      "text/plain": [
       "array([-0.05993531, -0.05993531, -0.05993531, -0.05993531, -0.05993531,\n",
       "       -0.05993531, -0.05993531, -0.05993531, -0.05993531, -0.05993531])"
      ]
     },
     "execution_count": 40,
     "metadata": {},
     "output_type": "execute_result"
    }
   ],
   "source": [
    "class AvgPredictor:\n",
    "    def fit(self, X, y):\n",
    "        self.avg = np.mean(y)\n",
    "        return self # flow interface, debatable\n",
    "    \n",
    "    def predict(self, X):\n",
    "        return np.ones(len(X))*self.avg\n",
    "    \n",
    "pipe = make_pipeline(\n",
    "    StandardScaler(), \n",
    "    AvgPredictor(),\n",
    ")\n",
    "pipe.fit(data, y)\n",
    "pipe.predict(new_data)"
   ]
  },
  {
   "cell_type": "markdown",
   "metadata": {
    "slideshow": {
     "slide_type": "slide"
    }
   },
   "source": [
    "# Objects anatomy\n",
    "\n",
    "To fully understand how to implement good quality OOP in python, we have to discuss what an object is and how it does work internally.\n",
    "\n",
    "This is contrary to how we usually approach topics, but the fact is that in python one does not really needs to write objects if they are not trying to write a nice library, and to use them effectively to do so one needs to have a basic understaing on what is possible with them."
   ]
  },
  {
   "cell_type": "markdown",
   "metadata": {
    "slideshow": {
     "slide_type": "slide"
    }
   },
   "source": [
    "Objects are usually used to represent two things:\n",
    "\n",
    "#### Ontologies\n",
    "Where the important information is given by the type of the object (for example, exceptions)\n",
    "\n",
    "#### Interfaces\n",
    "the object represent an interface for the user to interact with *something*, and it doesn't really matter what the object **is**, but only only how the object **respond** to messages"
   ]
  },
  {
   "cell_type": "markdown",
   "metadata": {
    "slideshow": {
     "slide_type": "slide"
    }
   },
   "source": [
    "In Python, the concept of OOP follows some basic principles:\n",
    "* **Inheritance**: Creating a new class from an older one, reusing and extending its methods and attributes\n",
    "* **Encapsulation**: Hiding the internal machinery of a class from other objects: one does not need to know **how** a class does what it does, but only how to talk with it (its API, the methods that it exposes)\n",
    "* **Polymorphism**: using common operation in different ways for different data input."
   ]
  },
  {
   "cell_type": "markdown",
   "metadata": {
    "slideshow": {
     "slide_type": "slide"
    }
   },
   "source": [
    "OOP in python is quite different from OOP in languages like C++ or Java.\n",
    "\n",
    "On the surface they look similar, and all the traditional OOP patterns and construct can be applied in Python.\n",
    "\n",
    "Once you get confident with the python approach to OOP it will become clear that they are radically different about what is the relationship between classes and instances, and how that affect what is the best approach to solve problems.\n",
    "\n",
    "To make it more explicit:\n",
    "* **traditional OOP** is more concerned about **ontologies**, with interface management as a side effect.\n",
    "* **Python's OOP** is more concerned with **interfaces**, with ontologies as a side effect"
   ]
  },
  {
   "cell_type": "markdown",
   "metadata": {
    "slideshow": {
     "slide_type": "slide"
    }
   },
   "source": [
    "### sidenote: pdir2\n",
    "\n",
    "For this lesson we will use a library called **pdir**, that replace the traditional `dir` function with one that allows more control on what gets shown.\n",
    "\n",
    "This will allow us to explore in more detail what is going on under the hood of an object.\n",
    "This library is not necessary in any way to develop objects, we'll just use it to explore them.\n",
    "\n",
    "`conda install pdir2`\n",
    "or\n",
    "`pip install -U pdir2`"
   ]
  },
  {
   "cell_type": "code",
   "execution_count": 92,
   "metadata": {
    "slideshow": {
     "slide_type": "-"
    }
   },
   "outputs": [],
   "source": [
    "import pdir as dir"
   ]
  },
  {
   "cell_type": "markdown",
   "metadata": {
    "slideshow": {
     "slide_type": "slide"
    }
   },
   "source": [
    "### sidenote: docstring\n",
    "\n",
    "For space constraint, I will skip writing docstring for all the classes, methods and functions that we will discuss in this lesson.\n",
    "\n",
    "This is of course completely against good practices, but it was necessary to keep the discussion short.\n",
    "\n",
    "Always write docstrings in real code!\n"
   ]
  },
  {
   "cell_type": "markdown",
   "metadata": {
    "slideshow": {
     "slide_type": "slide"
    }
   },
   "source": [
    "## Creating a new class\n",
    "\n",
    "When we want to do object oriented programming, we usually start by creating a new class.\n",
    "\n",
    "This is done using the `class` reserved keyword, in a similar fashion to how we can define a function using `def`.\n",
    "\n",
    "```python\n",
    "class MyclassName:\n",
    "    <classbody>\n",
    "```\n",
    "\n",
    "Once we have our class, we can **instantiate** this class in a specific object."
   ]
  },
  {
   "cell_type": "markdown",
   "metadata": {
    "slideshow": {
     "slide_type": "slide"
    }
   },
   "source": [
    "In their simplest interpretation, **classes** represent the platonic idea of how an object should behave, while **instances** are the actual objects that we can interact with.\n",
    "\n",
    "For example, a class could be the concept of `Dog`, describing how a dog would move, bark and so on.\n",
    "\n",
    "Then we can instantiate this class in a specific dog, for example `spotty`, by calling the name of the class as if it was a function.\n",
    "\n",
    "```python\n",
    "spotty = Dog()\n",
    "```"
   ]
  },
  {
   "cell_type": "markdown",
   "metadata": {
    "slideshow": {
     "slide_type": "slide"
    }
   },
   "source": [
    "the minimal class is one that does nothing and have nothing to show for it"
   ]
  },
  {
   "cell_type": "code",
   "execution_count": 335,
   "metadata": {
    "slideshow": {
     "slide_type": "fragment"
    }
   },
   "outputs": [],
   "source": [
    "class Empty:\n",
    "    \"\"\"this class does not do anything.\n",
    "    \n",
    "    it's just a stub for explainations, and this is its docstring\"\"\""
   ]
  },
  {
   "cell_type": "code",
   "execution_count": 336,
   "metadata": {
    "slideshow": {
     "slide_type": "fragment"
    }
   },
   "outputs": [],
   "source": [
    "some_object = Empty()"
   ]
  },
  {
   "cell_type": "markdown",
   "metadata": {
    "slideshow": {
     "slide_type": "slide"
    }
   },
   "source": [
    "Once we instantiate, we can determine that this object belong to that class"
   ]
  },
  {
   "cell_type": "code",
   "execution_count": 337,
   "metadata": {
    "slideshow": {
     "slide_type": "fragment"
    }
   },
   "outputs": [
    {
     "data": {
      "text/plain": [
       "__main__.Empty"
      ]
     },
     "execution_count": 337,
     "metadata": {},
     "output_type": "execute_result"
    }
   ],
   "source": [
    "type(some_object)"
   ]
  },
  {
   "cell_type": "code",
   "execution_count": 338,
   "metadata": {
    "slideshow": {
     "slide_type": "fragment"
    }
   },
   "outputs": [
    {
     "data": {
      "text/plain": [
       "True"
      ]
     },
     "execution_count": 338,
     "metadata": {},
     "output_type": "execute_result"
    }
   ],
   "source": [
    "isinstance(some_object, Empty)"
   ]
  },
  {
   "cell_type": "code",
   "execution_count": 339,
   "metadata": {
    "slideshow": {
     "slide_type": "slide"
    }
   },
   "outputs": [
    {
     "name": "stdout",
     "output_type": "stream",
     "text": [
      "Help on Empty in module __main__ object:\n",
      "\n",
      "class Empty(builtins.object)\n",
      " |  this class does not do anything.\n",
      " |  \n",
      " |  it's just a stub for explainations, and this is its docstring\n",
      " |  \n",
      " |  Data descriptors defined here:\n",
      " |  \n",
      " |  __dict__\n",
      " |      dictionary for instance variables (if defined)\n",
      " |  \n",
      " |  __weakref__\n",
      " |      list of weak references to the object (if defined)\n",
      "\n"
     ]
    }
   ],
   "source": [
    "help(some_object)"
   ]
  },
  {
   "cell_type": "markdown",
   "metadata": {
    "slideshow": {
     "slide_type": "slide"
    }
   },
   "source": [
    "## object attributes\n",
    "\n",
    "That was a quite boring class and object, but it's our starting point.\n",
    "\n",
    "Once we have an instance of an object, we can store and retrieve **attributes** in that object.\n",
    "\n",
    "These represents the data that are stored inside the object.\n",
    "Having them inside the object allows us to keep them all together and give them some form of identity.\n"
   ]
  },
  {
   "cell_type": "markdown",
   "metadata": {
    "slideshow": {
     "slide_type": "slide"
    }
   },
   "source": [
    "by default, an object does not have any attributes"
   ]
  },
  {
   "cell_type": "code",
   "execution_count": 97,
   "metadata": {
    "slideshow": {
     "slide_type": "-"
    }
   },
   "outputs": [
    {
     "data": {
      "text/plain": []
     },
     "execution_count": 97,
     "metadata": {},
     "output_type": "execute_result"
    }
   ],
   "source": [
    "dir(some_object).public"
   ]
  },
  {
   "cell_type": "markdown",
   "metadata": {
    "slideshow": {
     "slide_type": "slide"
    }
   },
   "source": [
    "or better, there are already a lot, but they are the underlying machinery that make class work, and we will see what (some) of these mean"
   ]
  },
  {
   "cell_type": "code",
   "execution_count": 98,
   "metadata": {
    "slideshow": {
     "slide_type": "-"
    }
   },
   "outputs": [
    {
     "data": {
      "text/plain": [
       "\u001b[0;35mspecial attribute:\u001b[0m\n",
       "    \u001b[0;34m__class__\u001b[0m\u001b[1;34m, \u001b[0m\u001b[0;34m__dict__\u001b[0m\u001b[1;34m, \u001b[0m\u001b[0;34m__doc__\u001b[0m\u001b[1;34m, \u001b[0m\u001b[0;34m__module__\u001b[0m\u001b[1;34m, \u001b[0m\u001b[0;34m__weakref__\u001b[0m\n",
       "\u001b[0;35mabstract class:\u001b[0m\n",
       "    \u001b[0;34m__subclasshook__\u001b[0m\n",
       "\u001b[0;35mobject customization:\u001b[0m\n",
       "    \u001b[0;34m__format__\u001b[0m\u001b[1;34m, \u001b[0m\u001b[0;34m__hash__\u001b[0m\u001b[1;34m, \u001b[0m\u001b[0;34m__init__\u001b[0m\u001b[1;34m, \u001b[0m\u001b[0;34m__new__\u001b[0m\u001b[1;34m, \u001b[0m\u001b[0;34m__repr__\u001b[0m\u001b[1;34m, \u001b[0m\u001b[0;34m__sizeof__\u001b[0m\u001b[1;34m, \u001b[0m\u001b[0;34m__str__\u001b[0m\n",
       "\u001b[0;35mrich comparison:\u001b[0m\n",
       "    \u001b[0;34m__eq__\u001b[0m\u001b[1;34m, \u001b[0m\u001b[0;34m__ge__\u001b[0m\u001b[1;34m, \u001b[0m\u001b[0;34m__gt__\u001b[0m\u001b[1;34m, \u001b[0m\u001b[0;34m__le__\u001b[0m\u001b[1;34m, \u001b[0m\u001b[0;34m__lt__\u001b[0m\u001b[1;34m, \u001b[0m\u001b[0;34m__ne__\u001b[0m\n",
       "\u001b[0;35mattribute access:\u001b[0m\n",
       "    \u001b[0;34m__delattr__\u001b[0m\u001b[1;34m, \u001b[0m\u001b[0;34m__dir__\u001b[0m\u001b[1;34m, \u001b[0m\u001b[0;34m__getattribute__\u001b[0m\u001b[1;34m, \u001b[0m\u001b[0;34m__setattr__\u001b[0m\n",
       "\u001b[0;35mclass customization:\u001b[0m\n",
       "    \u001b[0;34m__init_subclass__\u001b[0m\n",
       "\u001b[0;35mpickle:\u001b[0m\n",
       "    \u001b[0;34m__reduce__\u001b[0m\u001b[1;34m, \u001b[0m\u001b[0;34m__reduce_ex__\u001b[0m"
      ]
     },
     "execution_count": 98,
     "metadata": {},
     "output_type": "execute_result"
    }
   ],
   "source": [
    "dir(some_object)"
   ]
  },
  {
   "cell_type": "markdown",
   "metadata": {
    "slideshow": {
     "slide_type": "slide"
    }
   },
   "source": [
    "### setting and retrieving attributes"
   ]
  },
  {
   "cell_type": "code",
   "execution_count": 132,
   "metadata": {
    "slideshow": {
     "slide_type": "-"
    }
   },
   "outputs": [],
   "source": [
    "class Empty:\n",
    "    pass\n",
    "\n",
    "namespace_0 = Empty()\n",
    "namespace_1 = Empty()"
   ]
  },
  {
   "cell_type": "code",
   "execution_count": 133,
   "metadata": {
    "slideshow": {
     "slide_type": "slide"
    }
   },
   "outputs": [
    {
     "data": {
      "text/plain": [
       "2"
      ]
     },
     "execution_count": 133,
     "metadata": {},
     "output_type": "execute_result"
    }
   ],
   "source": [
    "namespace_0.a = 2\n",
    "namespace_0.a"
   ]
  },
  {
   "cell_type": "code",
   "execution_count": 134,
   "metadata": {
    "slideshow": {
     "slide_type": "fragment"
    }
   },
   "outputs": [
    {
     "ename": "AttributeError",
     "evalue": "'Empty' object has no attribute 'a'",
     "output_type": "error",
     "traceback": [
      "\u001b[0;31m---------------------------------------------------------------------------\u001b[0m",
      "\u001b[0;31mAttributeError\u001b[0m                            Traceback (most recent call last)",
      "\u001b[0;32m<ipython-input-134-e8dada81b736>\u001b[0m in \u001b[0;36m<module>\u001b[0;34m\u001b[0m\n\u001b[0;32m----> 1\u001b[0;31m \u001b[0mnamespace_1\u001b[0m\u001b[0;34m.\u001b[0m\u001b[0ma\u001b[0m\u001b[0;34m\u001b[0m\u001b[0;34m\u001b[0m\u001b[0m\n\u001b[0m",
      "\u001b[0;31mAttributeError\u001b[0m: 'Empty' object has no attribute 'a'"
     ]
    }
   ],
   "source": [
    "namespace_1.a"
   ]
  },
  {
   "cell_type": "code",
   "execution_count": 135,
   "metadata": {
    "slideshow": {
     "slide_type": "slide"
    }
   },
   "outputs": [
    {
     "data": {
      "text/plain": [
       "\u001b[0;35mproperty:\u001b[0m\n",
       "    \u001b[0;34ma\u001b[0m"
      ]
     },
     "execution_count": 135,
     "metadata": {},
     "output_type": "execute_result"
    }
   ],
   "source": [
    "dir(namespace_0).public.properties"
   ]
  },
  {
   "cell_type": "markdown",
   "metadata": {
    "slideshow": {
     "slide_type": "fragment"
    }
   },
   "source": [
    "the public attributes are stored internally as a dictionary, that we can poke and probe.\n",
    "\n",
    "it is literally a normal dictionary"
   ]
  },
  {
   "cell_type": "code",
   "execution_count": 136,
   "metadata": {
    "slideshow": {
     "slide_type": "-"
    }
   },
   "outputs": [
    {
     "data": {
      "text/plain": [
       "{'a': 2}"
      ]
     },
     "execution_count": 136,
     "metadata": {},
     "output_type": "execute_result"
    }
   ],
   "source": [
    "namespace_0.__dict__"
   ]
  },
  {
   "cell_type": "code",
   "execution_count": 137,
   "metadata": {
    "slideshow": {
     "slide_type": "-"
    }
   },
   "outputs": [
    {
     "data": {
      "text/plain": [
       "{}"
      ]
     },
     "execution_count": 137,
     "metadata": {},
     "output_type": "execute_result"
    }
   ],
   "source": [
    "namespace_1.__dict__"
   ]
  },
  {
   "cell_type": "markdown",
   "metadata": {
    "slideshow": {
     "slide_type": "slide"
    }
   },
   "source": [
    "### hasattr, getattr, setattr, delattr\n",
    "\n",
    "attribute management is normally done using the form `object.attribute`, but can be also done programmatically using 4 different functions.\n",
    "They all treat the attribute name as a string\n",
    "\n",
    "* `getattr`: retrieve the chosen attribute (given as a string)\n",
    "* `setattr`: set the given attribute\n",
    "* `delattr`: delete an attribute\n",
    "* `hasattr`: check if the object has the given attribute (employ `getattr`)"
   ]
  },
  {
   "cell_type": "code",
   "execution_count": 138,
   "metadata": {
    "slideshow": {
     "slide_type": "fragment"
    }
   },
   "outputs": [
    {
     "data": {
      "text/plain": [
       "True"
      ]
     },
     "execution_count": 138,
     "metadata": {},
     "output_type": "execute_result"
    }
   ],
   "source": [
    "hasattr(namespace_0, 'a')"
   ]
  },
  {
   "cell_type": "code",
   "execution_count": 139,
   "metadata": {
    "slideshow": {
     "slide_type": "fragment"
    }
   },
   "outputs": [
    {
     "data": {
      "text/plain": [
       "False"
      ]
     },
     "execution_count": 139,
     "metadata": {},
     "output_type": "execute_result"
    }
   ],
   "source": [
    "hasattr(namespace_1, 'a')"
   ]
  },
  {
   "cell_type": "code",
   "execution_count": 140,
   "metadata": {
    "slideshow": {
     "slide_type": "slide"
    }
   },
   "outputs": [
    {
     "data": {
      "text/plain": [
       "4"
      ]
     },
     "execution_count": 140,
     "metadata": {},
     "output_type": "execute_result"
    }
   ],
   "source": [
    "setattr(namespace_1, 'a', 4)\n",
    "getattr(namespace_1, 'a')"
   ]
  },
  {
   "cell_type": "markdown",
   "metadata": {
    "slideshow": {
     "slide_type": "fragment"
    }
   },
   "source": [
    "`getattr` also support a `default` parameter, that is returned if the object does not have the given attribute (instead of raising an `AttributeError`)"
   ]
  },
  {
   "cell_type": "code",
   "execution_count": 141,
   "metadata": {
    "slideshow": {
     "slide_type": "-"
    }
   },
   "outputs": [
    {
     "data": {
      "text/plain": [
       "'default_value'"
      ]
     },
     "execution_count": 141,
     "metadata": {},
     "output_type": "execute_result"
    }
   ],
   "source": [
    "getattr(namespace_1, 'b', 'default_value')"
   ]
  },
  {
   "cell_type": "markdown",
   "metadata": {
    "slideshow": {
     "slide_type": "slide"
    }
   },
   "source": [
    "### the `__class__` attribute\n",
    "\n",
    "one of the special attributes of an instance is the `__class__` attribute: this stores a reference to the class that the instance belongs to"
   ]
  },
  {
   "cell_type": "code",
   "execution_count": 144,
   "metadata": {
    "slideshow": {
     "slide_type": "-"
    }
   },
   "outputs": [
    {
     "data": {
      "text/plain": [
       "__main__.Empty"
      ]
     },
     "execution_count": 144,
     "metadata": {},
     "output_type": "execute_result"
    }
   ],
   "source": [
    "namespace_0.__class__"
   ]
  },
  {
   "cell_type": "markdown",
   "metadata": {
    "slideshow": {
     "slide_type": "slide"
    }
   },
   "source": [
    "## class attributes and *MRO*\n",
    "\n",
    "At this point the *class* has been pretty much useless, all the work has been done by the *instances*\n",
    "\n",
    "The advantage of a class is the ability to store **shared attributes** across all instances.\n",
    "\n",
    "This ensure that all the instances have access to the same information, and this basically is what establish their behavior"
   ]
  },
  {
   "cell_type": "code",
   "execution_count": 145,
   "metadata": {
    "slideshow": {
     "slide_type": "slide"
    }
   },
   "outputs": [],
   "source": [
    "class Something:\n",
    "    b = 3\n",
    "\n",
    "namespace_0 = Something()\n",
    "namespace_1 = Something()"
   ]
  },
  {
   "cell_type": "markdown",
   "metadata": {
    "slideshow": {
     "slide_type": "slide"
    }
   },
   "source": [
    "if we check the object `__dict__`, it is empty, but we can access the attribute anyway!"
   ]
  },
  {
   "cell_type": "code",
   "execution_count": 146,
   "metadata": {
    "slideshow": {
     "slide_type": "-"
    }
   },
   "outputs": [
    {
     "data": {
      "text/plain": [
       "{}"
      ]
     },
     "execution_count": 146,
     "metadata": {},
     "output_type": "execute_result"
    }
   ],
   "source": [
    "namespace_0.__dict__"
   ]
  },
  {
   "cell_type": "code",
   "execution_count": 147,
   "metadata": {
    "slideshow": {
     "slide_type": "-"
    }
   },
   "outputs": [
    {
     "data": {
      "text/plain": [
       "3"
      ]
     },
     "execution_count": 147,
     "metadata": {},
     "output_type": "execute_result"
    }
   ],
   "source": [
    "namespace_0.b"
   ]
  },
  {
   "cell_type": "markdown",
   "metadata": {
    "slideshow": {
     "slide_type": "slide"
    }
   },
   "source": [
    "How does the attribute `b` gets shown to the instance?\n",
    "\n",
    "This is done using the so-called **Method Resolution Order** (MRO).\n",
    "\n",
    "When we ask for an attribute to an instance the following happen\n",
    "1. if it does have it, it returns it\n",
    "2. if it does not, it goes and ask to its class if it does have it.\n",
    "3. if the class has it (or can obtain it), that is what gets returned\n",
    "4. if the class does not have it, it tries dynamic generation (we'll see that later)\n",
    "5. if that fails, it raises `AttributeError`"
   ]
  },
  {
   "cell_type": "code",
   "execution_count": 151,
   "metadata": {
    "slideshow": {
     "slide_type": "-"
    }
   },
   "outputs": [
    {
     "data": {
      "text/plain": [
       "[__main__.Something, object]"
      ]
     },
     "execution_count": 151,
     "metadata": {},
     "output_type": "execute_result"
    }
   ],
   "source": [
    "Something.mro()"
   ]
  },
  {
   "cell_type": "markdown",
   "metadata": {
    "slideshow": {
     "slide_type": "slide"
    }
   },
   "source": [
    "This means that we can set an attribute on an *instance*, and this will shadow the same attribute derived from the *class*.\n",
    "\n",
    "We will see this behavior again when we will discuss class *inheritance*."
   ]
  },
  {
   "cell_type": "code",
   "execution_count": 154,
   "metadata": {
    "slideshow": {
     "slide_type": "-"
    }
   },
   "outputs": [
    {
     "data": {
      "text/plain": [
       "\u001b[0;35mproperty:\u001b[0m\n",
       "    \u001b[0;34mb\u001b[0m"
      ]
     },
     "execution_count": 154,
     "metadata": {},
     "output_type": "execute_result"
    }
   ],
   "source": [
    "dir(Something).public"
   ]
  },
  {
   "cell_type": "code",
   "execution_count": 110,
   "metadata": {
    "slideshow": {
     "slide_type": "slide"
    }
   },
   "outputs": [
    {
     "data": {
      "text/plain": [
       "5"
      ]
     },
     "execution_count": 110,
     "metadata": {},
     "output_type": "execute_result"
    }
   ],
   "source": [
    "namespace_0.b = 5\n",
    "namespace_0.b"
   ]
  },
  {
   "cell_type": "code",
   "execution_count": 111,
   "metadata": {
    "slideshow": {
     "slide_type": "fragment"
    }
   },
   "outputs": [
    {
     "data": {
      "text/plain": [
       "3"
      ]
     },
     "execution_count": 111,
     "metadata": {},
     "output_type": "execute_result"
    }
   ],
   "source": [
    "namespace_1.b"
   ]
  },
  {
   "cell_type": "code",
   "execution_count": 112,
   "metadata": {
    "slideshow": {
     "slide_type": "fragment"
    }
   },
   "outputs": [
    {
     "data": {
      "text/plain": [
       "3"
      ]
     },
     "execution_count": 112,
     "metadata": {},
     "output_type": "execute_result"
    }
   ],
   "source": [
    "del namespace_0.b\n",
    "namespace_0.b"
   ]
  },
  {
   "cell_type": "markdown",
   "metadata": {
    "slideshow": {
     "slide_type": "slide"
    }
   },
   "source": [
    "A useful information that you can store in your class is it's **version**.\n",
    "\n",
    "A canonical way to represent changes in your code is to use [semantic versioning](www.semver.org).\n",
    "\n",
    "One can use the same process to check for the class version of an item.\n",
    "For libraries that create and destroy objects inside a single process it might not be relevant, but if you want to store objects long term, keeping track of the version of the class might be useful!"
   ]
  },
  {
   "cell_type": "markdown",
   "metadata": {
    "slideshow": {
     "slide_type": "fragment"
    }
   },
   "source": [
    "the common use is to use a `__version__` attribute of the class, and fill it with a tuple with the `(major, minor, fix)` values, where all of those numbers are stored as integers\n",
    "\n",
    "```python\n",
    "class MyClass:\n",
    "    __version__ = (0, 1, 0)\n",
    "```"
   ]
  },
  {
   "cell_type": "markdown",
   "metadata": {
    "slideshow": {
     "slide_type": "slide"
    }
   },
   "source": [
    "## methods\n",
    "\n",
    "Methods are functions that are defined inside the class body.\n",
    "\n",
    "They are (almost) the same as any other attribute.\n",
    "\n",
    "the common trait of all the methods is that the first argument, usually called `self`, is used to refer to the instance calling the method, allowing to access its attribute from inside the function."
   ]
  },
  {
   "cell_type": "code",
   "execution_count": 180,
   "metadata": {
    "slideshow": {
     "slide_type": "slide"
    }
   },
   "outputs": [],
   "source": [
    "class Something:\n",
    "    a = 2\n",
    "    def multiply(self, b=2):\n",
    "        return self.a*b"
   ]
  },
  {
   "cell_type": "code",
   "execution_count": 181,
   "metadata": {
    "slideshow": {
     "slide_type": "fragment"
    }
   },
   "outputs": [
    {
     "data": {
      "text/plain": [
       "<bound method Something.multiply of <__main__.Something object at 0x7fbf46e70ba8>>"
      ]
     },
     "execution_count": 181,
     "metadata": {},
     "output_type": "execute_result"
    }
   ],
   "source": [
    "namespace_0 = Something()\n",
    "\n",
    "namespace_0.multiply"
   ]
  },
  {
   "cell_type": "markdown",
   "metadata": {
    "slideshow": {
     "slide_type": "slide"
    }
   },
   "source": [
    "note that I don't need to specify the instance as the parameter `self`.\n",
    "\n",
    "This is because there is a bit of magic when method are recalled as attributes: they are **bound** to the instance.\n",
    "\n",
    "This means that we do not need to specify the instance, but it will get automatically provided to the function"
   ]
  },
  {
   "cell_type": "code",
   "execution_count": 182,
   "metadata": {
    "slideshow": {
     "slide_type": "-"
    }
   },
   "outputs": [
    {
     "data": {
      "text/plain": [
       "4"
      ]
     },
     "execution_count": 182,
     "metadata": {},
     "output_type": "execute_result"
    }
   ],
   "source": [
    "namespace_0.multiply(b=2)"
   ]
  },
  {
   "cell_type": "markdown",
   "metadata": {
    "slideshow": {
     "slide_type": "slide"
    }
   },
   "source": [
    "If we want we can access the **unbound** method directly to the class: in this case we have to explicitely provide the instance on which the function is supposed to apply."
   ]
  },
  {
   "cell_type": "code",
   "execution_count": 183,
   "metadata": {
    "slideshow": {
     "slide_type": "-"
    }
   },
   "outputs": [
    {
     "data": {
      "text/plain": [
       "6"
      ]
     },
     "execution_count": 183,
     "metadata": {},
     "output_type": "execute_result"
    }
   ],
   "source": [
    "Something.multiply(namespace_0, b=3)"
   ]
  },
  {
   "cell_type": "markdown",
   "metadata": {
    "slideshow": {
     "slide_type": "slide"
    }
   },
   "source": [
    "**Note**: we are not bound to apply this function to an instance of the same class, but only to instances that behave similarly"
   ]
  },
  {
   "cell_type": "code",
   "execution_count": 184,
   "metadata": {
    "slideshow": {
     "slide_type": "-"
    }
   },
   "outputs": [
    {
     "data": {
      "text/plain": [
       "9"
      ]
     },
     "execution_count": 184,
     "metadata": {},
     "output_type": "execute_result"
    }
   ],
   "source": [
    "class Empty:\n",
    "    a = 3\n",
    "\n",
    "weird = Empty()\n",
    "\n",
    "Something.multiply(weird, b=3)"
   ]
  },
  {
   "cell_type": "markdown",
   "metadata": {
    "slideshow": {
     "slide_type": "slide"
    }
   },
   "source": [
    "Note that, due to the substitution principle, calling `obj.method(*args)` and `Class.method(obj, *args)` is not the same!\n",
    "\n",
    "In a function that takes a certain kind Class, we might receive a subclass that implements a variant of that methods, and if we use `Class.method(obj)` we are forcing it to use the other class' one.\n",
    "\n",
    "if we want to retain the \"functional\" look while ensuring to call the right method, we can use the `methodcaller` method of the `operator` module"
   ]
  },
  {
   "cell_type": "code",
   "execution_count": 14,
   "metadata": {
    "slideshow": {
     "slide_type": "slide"
    }
   },
   "outputs": [],
   "source": [
    "from operator import methodcaller"
   ]
  },
  {
   "cell_type": "code",
   "execution_count": 24,
   "metadata": {
    "slideshow": {
     "slide_type": "-"
    }
   },
   "outputs": [
    {
     "name": "stdout",
     "output_type": "stream",
     "text": [
      "{1, 2, 3}\n"
     ]
    }
   ],
   "source": [
    "obj_set = set([1, 2])\n",
    "updater = methodcaller(\"update\", [3])\n",
    "updater(obj_set)\n",
    "print(obj_set)"
   ]
  },
  {
   "cell_type": "code",
   "execution_count": 27,
   "metadata": {
    "slideshow": {
     "slide_type": "-"
    }
   },
   "outputs": [
    {
     "name": "stdout",
     "output_type": "stream",
     "text": [
      "{'a': 1, 'b': 2, 'c': 3}\n"
     ]
    }
   ],
   "source": [
    "obj_dict = dict(a=1, b=2)\n",
    "updater = methodcaller(\"update\", [('c', 3)])\n",
    "updater(obj_dict)\n",
    "print(obj_dict)"
   ]
  },
  {
   "cell_type": "markdown",
   "metadata": {
    "slideshow": {
     "slide_type": "slide"
    }
   },
   "source": [
    "If you don't like the two steps of creating it and executing it, you can define an apply function:"
   ]
  },
  {
   "cell_type": "code",
   "execution_count": 30,
   "metadata": {
    "slideshow": {
     "slide_type": "-"
    }
   },
   "outputs": [
    {
     "name": "stdout",
     "output_type": "stream",
     "text": [
      "{'a': 1, 'b': 2, 'c': 3}\n"
     ]
    }
   ],
   "source": [
    "# wrapping\n",
    "def apply(fname, obj, *args, **kwargs):\n",
    "    return methodcaller(fname, *args, **kwargs)(obj)\n",
    "\n",
    "obj_dict = dict(a=1, b=2)\n",
    "apply(\"update\", obj_dict, [('c', 3)])\n",
    "print(obj_dict)"
   ]
  },
  {
   "cell_type": "markdown",
   "metadata": {
    "slideshow": {
     "slide_type": "slide"
    }
   },
   "source": [
    "An even more advanced option is the following... not it looks weird, but by the end of the day you will be able to understand what is going on, don't worry!"
   ]
  },
  {
   "cell_type": "code",
   "execution_count": 32,
   "metadata": {
    "slideshow": {
     "slide_type": "-"
    }
   },
   "outputs": [
    {
     "name": "stdout",
     "output_type": "stream",
     "text": [
      "{'a': 1, 'b': 2, 'c': 3}\n"
     ]
    }
   ],
   "source": [
    "from functools import partial\n",
    "class DeferredMethodExecution:\n",
    "    def __getattr__(self, fname):\n",
    "        return partial(apply, fname)\n",
    "do = DeferredMethodExecution()\n",
    "\n",
    "# actual use\n",
    "obj_dict = dict(a=1, b=2)\n",
    "do.update(obj_dict, [('c', 3)])\n",
    "print(obj_dict)"
   ]
  },
  {
   "cell_type": "markdown",
   "metadata": {
    "slideshow": {
     "slide_type": "slide"
    }
   },
   "source": [
    "## Monkey patching\n",
    "\n",
    "Functions can be added as methods to a class in any moment.\n",
    "\n",
    "This is often referred as **monkey patching**, and is a powerful yet dangerous technique.\n",
    "\n",
    "One can do it for their own script (maybe to allow a library to act on a class it is not designed for), and that is perfectly ok as long as you know what you're doing.\n",
    "\n",
    "There are libraries that works by patching other libraries to extend their capabilities: there are several that do this on *pandas* object, to extend them with new functionalities.\n",
    "\n",
    "Doing that in libraries that will be used by other libraries is not a good practice, as it can lead to undescribed behaviors by third party users."
   ]
  },
  {
   "cell_type": "code",
   "execution_count": 185,
   "metadata": {
    "slideshow": {
     "slide_type": "slide"
    }
   },
   "outputs": [
    {
     "data": {
      "text/plain": [
       "6"
      ]
     },
     "execution_count": 185,
     "metadata": {},
     "output_type": "execute_result"
    }
   ],
   "source": [
    "def triple_function(self):\n",
    "    return self.a*3\n",
    "\n",
    "Something.triple = triple_function\n",
    "\n",
    "namespace_0 = Something()\n",
    "namespace_0.triple()"
   ]
  },
  {
   "cell_type": "markdown",
   "metadata": {
    "slideshow": {
     "slide_type": "slide"
    }
   },
   "source": [
    "One could technically patch a single instance with a method, but it's not usually a good useful practice.\n",
    "\n",
    "to do this we need to explicitly bound the instance to the method"
   ]
  },
  {
   "cell_type": "code",
   "execution_count": 186,
   "metadata": {
    "slideshow": {
     "slide_type": "-"
    }
   },
   "outputs": [
    {
     "data": {
      "text/plain": [
       "4"
      ]
     },
     "execution_count": 186,
     "metadata": {},
     "output_type": "execute_result"
    }
   ],
   "source": [
    "from types import MethodType\n",
    "\n",
    "def external_function(self):\n",
    "    return self.a*2\n",
    "\n",
    "namespace = Something()\n",
    "namespace.func = MethodType(external_function, namespace)\n",
    "namespace.func()"
   ]
  },
  {
   "cell_type": "markdown",
   "metadata": {
    "slideshow": {
     "slide_type": "slide"
    }
   },
   "source": [
    "## init method\n",
    "\n",
    "The next step that we might take is to allow the class to \"personalize\" the instantiation process.\n",
    "\n",
    "this is done using the **magic method** `__init__`.\n",
    "\n",
    "`__init__` gets automatically called after the instance is created, and is tipically used to assign values to some instance attributes based on some arguments given to the function creating it.\n",
    "\n",
    "aside of this automatic call, it is a completely normal method."
   ]
  },
  {
   "cell_type": "code",
   "execution_count": 190,
   "metadata": {
    "slideshow": {
     "slide_type": "slide"
    }
   },
   "outputs": [
    {
     "data": {
      "text/plain": [
       "3"
      ]
     },
     "execution_count": 190,
     "metadata": {},
     "output_type": "execute_result"
    }
   ],
   "source": [
    "class Something:\n",
    "    def __init__(self, a):\n",
    "        self.a = a\n",
    "\n",
    "namespace = Something(a=3)\n",
    "namespace.a"
   ]
  },
  {
   "cell_type": "markdown",
   "metadata": {
    "slideshow": {
     "slide_type": "slide"
    }
   },
   "source": [
    "In the recent versions of python (3.7 natively, 3.6 with backporting), there is a simplified version to define instantiation methods, using the **dataclass** decorator.\n",
    "\n",
    "It takes variable annotations and automatically generates the corresponding `__init__` method, dramatically reducing boilerplat code\n",
    "\n",
    "this is a simplified version of a more general library, called **attrs**."
   ]
  },
  {
   "cell_type": "code",
   "execution_count": 191,
   "metadata": {
    "slideshow": {
     "slide_type": "fragment"
    }
   },
   "outputs": [
    {
     "name": "stdout",
     "output_type": "stream",
     "text": [
      "120.0\n"
     ]
    }
   ],
   "source": [
    "from dataclasses import dataclass\n",
    "\n",
    "@dataclass\n",
    "class InventoryItem:\n",
    "    name: str\n",
    "    unit_price: float\n",
    "    quantity_on_hand: int = 0\n",
    "\n",
    "    def total_cost(self) -> float:\n",
    "        return self.unit_price * self.quantity_on_hand\n",
    "\n",
    "item = InventoryItem('hammers', 10.0, 12)\n",
    "print(item.total_cost())"
   ]
  },
  {
   "cell_type": "markdown",
   "metadata": {
    "slideshow": {
     "slide_type": "slide"
    }
   },
   "source": [
    "That code will generate the following constructor under the hood:\n",
    "\n",
    "```python\n",
    "def __init__(self, name: str, unit_price: float, quantity_on_hand: int=0):\n",
    "    self.name = name\n",
    "    self.unit_price = unit_price\n",
    "    self.quantity_on_hand = quantity_on_hand\n",
    "```"
   ]
  },
  {
   "cell_type": "markdown",
   "metadata": {
    "slideshow": {
     "slide_type": "fragment"
    }
   },
   "source": [
    "we would have repeated each variable name 3 times without dataclasses!\n",
    "\n",
    "that's a good reduction in boilerplate!"
   ]
  },
  {
   "cell_type": "markdown",
   "metadata": {
    "slideshow": {
     "slide_type": "slide"
    }
   },
   "source": [
    "## magic methods\n",
    "\n",
    "python relies heavily on magical operators, methods that get called when we try to perform some operation on an object.\n",
    "All these functions are characterized by the presence of the **dunder names**: `__magic_func__`\n",
    "\n",
    "the `__init__` method is one of these magic methods.\n",
    "\n",
    "Any kind of matematical operator is linked to a special method, and so are several special functions such as `len`\n",
    "\n",
    "these methods are the python equivalent of **operator overloading** and are what allows more advanced forms of **polymorphism**."
   ]
  },
  {
   "cell_type": "markdown",
   "metadata": {
    "slideshow": {
     "slide_type": "slide"
    }
   },
   "source": [
    "for example, the addition operator `+` is linked to the magic method `__add__`, so if we want our class to be able to perform addition, they need to implement it.\n",
    "```python\n",
    "my_object + something\n",
    "```\n",
    "becomes:\n",
    "\n",
    "```python\n",
    "my_object.__add__(something)\n",
    "```"
   ]
  },
  {
   "cell_type": "code",
   "execution_count": 192,
   "metadata": {
    "slideshow": {
     "slide_type": "slide"
    }
   },
   "outputs": [
    {
     "name": "stdout",
     "output_type": "stream",
     "text": [
      "3\n",
      "5\n"
     ]
    }
   ],
   "source": [
    "@dataclass\n",
    "class Something:\n",
    "    a: int\n",
    "        \n",
    "    def __add__(self, other):\n",
    "        return self.__class__(self.a+other)\n",
    "\n",
    "namespace_0 = Something(a=3)\n",
    "print(namespace_0.a)\n",
    "\n",
    "namespace_1 = namespace_0 + 2\n",
    "print(namespace_1.a)"
   ]
  },
  {
   "cell_type": "markdown",
   "metadata": {
    "slideshow": {
     "slide_type": "slide"
    }
   },
   "source": [
    "Note that if we write in the other order, and the other object does not know how to handle the sum, it will crash with a `TypeError`"
   ]
  },
  {
   "cell_type": "code",
   "execution_count": 193,
   "metadata": {
    "slideshow": {
     "slide_type": "-"
    }
   },
   "outputs": [
    {
     "ename": "TypeError",
     "evalue": "unsupported operand type(s) for +: 'int' and 'Something'",
     "output_type": "error",
     "traceback": [
      "\u001b[0;31m---------------------------------------------------------------------------\u001b[0m",
      "\u001b[0;31mTypeError\u001b[0m                                 Traceback (most recent call last)",
      "\u001b[0;32m<ipython-input-193-6ca245b48fe2>\u001b[0m in \u001b[0;36m<module>\u001b[0;34m\u001b[0m\n\u001b[0;32m----> 1\u001b[0;31m \u001b[0mnamespace_2\u001b[0m \u001b[0;34m=\u001b[0m \u001b[0;36m2\u001b[0m \u001b[0;34m+\u001b[0m \u001b[0mnamespace_0\u001b[0m\u001b[0;34m\u001b[0m\u001b[0;34m\u001b[0m\u001b[0m\n\u001b[0m",
      "\u001b[0;31mTypeError\u001b[0m: unsupported operand type(s) for +: 'int' and 'Something'"
     ]
    }
   ],
   "source": [
    "namespace_2 = 2 + namespace_0"
   ]
  },
  {
   "cell_type": "markdown",
   "metadata": {
    "slideshow": {
     "slide_type": "slide"
    }
   },
   "source": [
    "The solution is to add a second magic method, `__radd__`, that is called if the first term does not know how to handle the given class.\n",
    "\n",
    "to signal that it does not know how to handle the sum, the first addendum should return `NotImplemented` (a singleton) instead of an actual result\n",
    "\n",
    "if the adding operation is symmetrical for the object (it doesn't have to be!) one can avoid reimplementing the `__radd__` by simply saying:\n",
    "\n",
    "```python\n",
    "__radd__ = __add__\n",
    "```"
   ]
  },
  {
   "cell_type": "code",
   "execution_count": 239,
   "metadata": {
    "slideshow": {
     "slide_type": "slide"
    }
   },
   "outputs": [
    {
     "data": {
      "text/plain": [
       "5"
      ]
     },
     "execution_count": 239,
     "metadata": {},
     "output_type": "execute_result"
    }
   ],
   "source": [
    "@dataclass\n",
    "class Something:\n",
    "    a: int\n",
    "        \n",
    "    def __add__(self, other):\n",
    "        if not isinstance(other, int):\n",
    "            return NotImplemented\n",
    "        return self.__class__(self.a+other)\n",
    "    \n",
    "    __radd__ = __add__\n",
    "\n",
    "namespace_0 = Something(a=3)\n",
    "namespace_2 = 2 + namespace_0\n",
    "namespace_2.a"
   ]
  },
  {
   "cell_type": "code",
   "execution_count": 240,
   "metadata": {
    "slideshow": {
     "slide_type": "slide"
    }
   },
   "outputs": [
    {
     "ename": "TypeError",
     "evalue": "unsupported operand type(s) for +: 'Something' and 'str'",
     "output_type": "error",
     "traceback": [
      "\u001b[0;31m---------------------------------------------------------------------------\u001b[0m",
      "\u001b[0;31mTypeError\u001b[0m                                 Traceback (most recent call last)",
      "\u001b[0;32m<ipython-input-240-52e8ac33a07f>\u001b[0m in \u001b[0;36m<module>\u001b[0;34m\u001b[0m\n\u001b[0;32m----> 1\u001b[0;31m \u001b[0mnamespace_2\u001b[0m \u001b[0;34m+\u001b[0m \u001b[0;34m\"a\"\u001b[0m\u001b[0;34m\u001b[0m\u001b[0;34m\u001b[0m\u001b[0m\n\u001b[0m",
      "\u001b[0;31mTypeError\u001b[0m: unsupported operand type(s) for +: 'Something' and 'str'"
     ]
    }
   ],
   "source": [
    "namespace_2 + \"a\""
   ]
  },
  {
   "cell_type": "markdown",
   "metadata": {
    "slideshow": {
     "slide_type": "slide"
    }
   },
   "source": [
    "## The dot operator\n",
    "\n",
    "when we try to obtain something out of an we (almost) always use the **dot** operator: `<class>.<attribute>`\n",
    "\n",
    "this is a request to the object to try and give us the object with the name we asked for.\n",
    "\n",
    "There is no actual need for that attribute to actually exist, we could even obtain them on the fly.\n",
    "\n",
    "Even when we try to obtain a method, we are asking for a function, and then we call it.\n",
    "\n",
    "This is what makes possible to create very clever API with python, but also why it's so slow."
   ]
  },
  {
   "cell_type": "markdown",
   "metadata": {
    "slideshow": {
     "slide_type": "slide"
    }
   },
   "source": [
    "When we execute code such as:\n",
    "\n",
    "    a = [1, 2]\n",
    "    a.append(3)\n",
    "    \n",
    "python has to do the following:\n",
    "\n",
    "* ask `a` if it does have the `append` attribute (no)\n",
    "* ask the class of `a` (the `list` class) if it does have it\n",
    "    * if it doesn't, ask the same to the superclasses\n",
    "\n",
    "once the attribute have been obtained, we try to perform the call of the function.\n",
    "Calling a function is **exactly the same** as calling the `__call__` method.\n",
    "So we have to start all over: does `append` have a `__call__` method?"
   ]
  },
  {
   "cell_type": "markdown",
   "metadata": {
    "slideshow": {
     "slide_type": "slide"
    }
   },
   "source": [
    "This is true for all **operators** as well, for example addition (`+` operator).\n",
    "\n",
    "when we run code such as:\n",
    "\n",
    "    a = np.array([1, 2])\n",
    "    b = 1 + a\n",
    "    \n",
    "python has to go and:\n",
    "\n",
    "* ask the object `1` if it does have a `__add__` method (and its class and so on, you know the drill)\n",
    "* it does have it, but when it tries to apply it to an array it fails with `NotImplementedError`\n",
    "* python then goes the the object `a` and ask if it does have `__radd__` (the right side add) and its class and so on\n",
    "* now the array knows how to perform the sum, so it executes it and returns a result"
   ]
  },
  {
   "cell_type": "markdown",
   "metadata": {
    "slideshow": {
     "slide_type": "slide"
    }
   },
   "source": [
    "I can leverage this property using the **descriptors**, or the syntactic sugar `@property` decorator.\n",
    "\n",
    "A descriptor hides behing a normal attribute access the following operations:\n",
    "* how to obtain the attribute\n",
    "* how to set the attribute\n",
    "* how to delete the attribute"
   ]
  },
  {
   "cell_type": "code",
   "execution_count": 205,
   "metadata": {
    "slideshow": {
     "slide_type": "slide"
    }
   },
   "outputs": [
    {
     "data": {
      "text/plain": [
       "1"
      ]
     },
     "execution_count": 205,
     "metadata": {},
     "output_type": "execute_result"
    }
   ],
   "source": [
    "class Something:\n",
    "    @property\n",
    "    def myattr(self):\n",
    "        return 1\n",
    "\n",
    "namespace = Something()\n",
    "namespace.myattr"
   ]
  },
  {
   "cell_type": "markdown",
   "metadata": {
    "slideshow": {
     "slide_type": "slide"
    }
   },
   "source": [
    "The basic definition of a property does not include informations on how to set the attribute, so if ones tries to modify it, it crashes"
   ]
  },
  {
   "cell_type": "code",
   "execution_count": 206,
   "metadata": {
    "slideshow": {
     "slide_type": "fragment"
    }
   },
   "outputs": [
    {
     "ename": "AttributeError",
     "evalue": "can't set attribute",
     "output_type": "error",
     "traceback": [
      "\u001b[0;31m---------------------------------------------------------------------------\u001b[0m",
      "\u001b[0;31mAttributeError\u001b[0m                            Traceback (most recent call last)",
      "\u001b[0;32m<ipython-input-206-41b7a728e224>\u001b[0m in \u001b[0;36m<module>\u001b[0;34m\u001b[0m\n\u001b[0;32m----> 1\u001b[0;31m \u001b[0mnamespace\u001b[0m\u001b[0;34m.\u001b[0m\u001b[0mmyattr\u001b[0m \u001b[0;34m=\u001b[0m \u001b[0;36m2\u001b[0m\u001b[0;34m\u001b[0m\u001b[0;34m\u001b[0m\u001b[0m\n\u001b[0m",
      "\u001b[0;31mAttributeError\u001b[0m: can't set attribute"
     ]
    }
   ],
   "source": [
    "namespace.myattr = 2"
   ]
  },
  {
   "cell_type": "markdown",
   "metadata": {
    "slideshow": {
     "slide_type": "slide"
    }
   },
   "source": [
    "To allow this behavior I have to explicitely define the setting function using the decorator `@<propertyname>.setter` on a function with the same name as the initial property\n",
    "\n",
    "this allows us to also do attribute checking and modification on setting on the fly"
   ]
  },
  {
   "cell_type": "code",
   "execution_count": 210,
   "metadata": {
    "slideshow": {
     "slide_type": "fragment"
    }
   },
   "outputs": [
    {
     "data": {
      "text/plain": [
       "'Enrico'"
      ]
     },
     "execution_count": 210,
     "metadata": {},
     "output_type": "execute_result"
    }
   ],
   "source": [
    "class Something:\n",
    "    @property\n",
    "    def name(self):\n",
    "        return self._name\n",
    "    \n",
    "    @name.setter\n",
    "    def name(self, value):\n",
    "        self._name = value.title()\n",
    "        \n",
    "\n",
    "namespace = Something()\n",
    "namespace.name = \"eNRICO\"\n",
    "namespace.name"
   ]
  },
  {
   "cell_type": "code",
   "execution_count": 211,
   "metadata": {
    "slideshow": {
     "slide_type": "fragment"
    }
   },
   "outputs": [
    {
     "data": {
      "text/plain": [
       "\u001b[0;35mdescriptor:\u001b[0m\n",
       "    \u001b[0;34mname\u001b[0m\u001b[0;34m: \u001b[0m\u001b[1;30m@property with getter, setter\u001b[0m"
      ]
     },
     "execution_count": 211,
     "metadata": {},
     "output_type": "execute_result"
    }
   ],
   "source": [
    "dir(namespace).own.public"
   ]
  },
  {
   "cell_type": "markdown",
   "metadata": {
    "slideshow": {
     "slide_type": "slide"
    }
   },
   "source": [
    "#### note - privates attributes part 1 of 3\n",
    "\n",
    "In python there is no such thing as a private attribute.\n",
    "The sentence that is commonly used in the community is:\n",
    "\n",
    "> we're all consenting adults\n",
    "\n",
    "But, on the other end, for some attributes is common to require for the user to not modify the directly (like the `_name` attribute in the previous cose).\n",
    "\n",
    "By the default the attributes and methods staring with a single underscore represents methods that the users of the class should not use.\n",
    "They are not guarantee to be a stable interface and one risks breaking things using them.\n",
    "\n",
    "> if you expose an attribute, expect the users to change it, plan accordingly!\n"
   ]
  },
  {
   "cell_type": "markdown",
   "metadata": {
    "slideshow": {
     "slide_type": "slide"
    }
   },
   "source": [
    "#### note - privates attributes part 2 of 3\n",
    "\n",
    "One way of creating a more explicit private attribute (not really, but more explicitely saying *\"don't use me\"*)\n",
    "is to use `getattr` and `settattr` with strings that are invalid identifiers and thus cannot be retrieved by the dot operator.\n",
    "\n",
    "This is a bit exotic and I don't suggest using it, but if you're curious there is some indication on how to do it in the notebook that underpin these slides"
   ]
  },
  {
   "cell_type": "markdown",
   "metadata": {
    "slideshow": {
     "slide_type": "slide"
    }
   },
   "source": [
    "#### note - privates attributes part 3 of 3\n",
    "\n",
    "A common mistake is to think that attributes with the name starting with double underscore (but not ending in them) are a way to make attributes private.\n",
    "\n",
    "names that looks like `__my_attribute`, to be clear.\n",
    "\n",
    "That is a completely different feature, called **name mangling**, and is used to solve some nasty inheritance problems, not as private attributes.\n",
    "\n",
    "One might actually make a mess in the inheritance chain by using them without understanding them, so refrain unless you know what you're doing!"
   ]
  },
  {
   "cell_type": "markdown",
   "metadata": {
    "slideshow": {
     "slide_type": "slide"
    }
   },
   "source": [
    "Properties can be used also to control the behavior of the attribute, such as the types and values that it can accept"
   ]
  },
  {
   "cell_type": "code",
   "execution_count": 212,
   "metadata": {
    "slideshow": {
     "slide_type": "fragment"
    }
   },
   "outputs": [],
   "source": [
    "class Something:\n",
    "    @property\n",
    "    def name(self):\n",
    "        if not hasattr(self, \"_name\"):\n",
    "            raise ValueError(\"the `name` attribute has not been set\")\n",
    "        return self._name\n",
    "    \n",
    "    @name.setter\n",
    "    def name(self, value):\n",
    "        if not isinstance(value, str):\n",
    "            s = (\"name need to be a string, \"\n",
    "                 \"a value of <{}> was provided\")\n",
    "            raise TypeError(s.format(repr(value)))\n",
    "        self._name = value.title()\n",
    "        "
   ]
  },
  {
   "cell_type": "code",
   "execution_count": 213,
   "metadata": {
    "slideshow": {
     "slide_type": "slide"
    }
   },
   "outputs": [
    {
     "ename": "ValueError",
     "evalue": "the `name` attribute has not been set",
     "output_type": "error",
     "traceback": [
      "\u001b[0;31m---------------------------------------------------------------------------\u001b[0m",
      "\u001b[0;31mValueError\u001b[0m                                Traceback (most recent call last)",
      "\u001b[0;32m<ipython-input-213-36921b093d67>\u001b[0m in \u001b[0;36m<module>\u001b[0;34m\u001b[0m\n\u001b[1;32m      1\u001b[0m \u001b[0mnamespace\u001b[0m \u001b[0;34m=\u001b[0m \u001b[0mSomething\u001b[0m\u001b[0;34m(\u001b[0m\u001b[0;34m)\u001b[0m\u001b[0;34m\u001b[0m\u001b[0;34m\u001b[0m\u001b[0m\n\u001b[0;32m----> 2\u001b[0;31m \u001b[0mnamespace\u001b[0m\u001b[0;34m.\u001b[0m\u001b[0mname\u001b[0m\u001b[0;34m\u001b[0m\u001b[0;34m\u001b[0m\u001b[0m\n\u001b[0m",
      "\u001b[0;32m<ipython-input-212-e3b8550f5f83>\u001b[0m in \u001b[0;36mname\u001b[0;34m(self)\u001b[0m\n\u001b[1;32m      3\u001b[0m     \u001b[0;32mdef\u001b[0m \u001b[0mname\u001b[0m\u001b[0;34m(\u001b[0m\u001b[0mself\u001b[0m\u001b[0;34m)\u001b[0m\u001b[0;34m:\u001b[0m\u001b[0;34m\u001b[0m\u001b[0;34m\u001b[0m\u001b[0m\n\u001b[1;32m      4\u001b[0m         \u001b[0;32mif\u001b[0m \u001b[0;32mnot\u001b[0m \u001b[0mhasattr\u001b[0m\u001b[0;34m(\u001b[0m\u001b[0mself\u001b[0m\u001b[0;34m,\u001b[0m \u001b[0;34m\"_name\"\u001b[0m\u001b[0;34m)\u001b[0m\u001b[0;34m:\u001b[0m\u001b[0;34m\u001b[0m\u001b[0;34m\u001b[0m\u001b[0m\n\u001b[0;32m----> 5\u001b[0;31m             \u001b[0;32mraise\u001b[0m \u001b[0mValueError\u001b[0m\u001b[0;34m(\u001b[0m\u001b[0;34m\"the `name` attribute has not been set\"\u001b[0m\u001b[0;34m)\u001b[0m\u001b[0;34m\u001b[0m\u001b[0;34m\u001b[0m\u001b[0m\n\u001b[0m\u001b[1;32m      6\u001b[0m         \u001b[0;32mreturn\u001b[0m \u001b[0mself\u001b[0m\u001b[0;34m.\u001b[0m\u001b[0m_name\u001b[0m\u001b[0;34m\u001b[0m\u001b[0;34m\u001b[0m\u001b[0m\n\u001b[1;32m      7\u001b[0m \u001b[0;34m\u001b[0m\u001b[0m\n",
      "\u001b[0;31mValueError\u001b[0m: the `name` attribute has not been set"
     ]
    }
   ],
   "source": [
    "namespace = Something()\n",
    "namespace.name"
   ]
  },
  {
   "cell_type": "code",
   "execution_count": 215,
   "metadata": {
    "slideshow": {
     "slide_type": "slide"
    }
   },
   "outputs": [
    {
     "ename": "TypeError",
     "evalue": "name need to be a string, a value of <[1, 2]> was provided",
     "output_type": "error",
     "traceback": [
      "\u001b[0;31m---------------------------------------------------------------------------\u001b[0m",
      "\u001b[0;31mTypeError\u001b[0m                                 Traceback (most recent call last)",
      "\u001b[0;32m<ipython-input-215-2fb97a563220>\u001b[0m in \u001b[0;36m<module>\u001b[0;34m\u001b[0m\n\u001b[0;32m----> 1\u001b[0;31m \u001b[0mnamespace\u001b[0m\u001b[0;34m.\u001b[0m\u001b[0mname\u001b[0m \u001b[0;34m=\u001b[0m \u001b[0;34m[\u001b[0m\u001b[0;36m1\u001b[0m\u001b[0;34m,\u001b[0m \u001b[0;36m2\u001b[0m\u001b[0;34m]\u001b[0m\u001b[0;34m\u001b[0m\u001b[0;34m\u001b[0m\u001b[0m\n\u001b[0m",
      "\u001b[0;32m<ipython-input-212-e3b8550f5f83>\u001b[0m in \u001b[0;36mname\u001b[0;34m(self, value)\u001b[0m\n\u001b[1;32m      9\u001b[0m     \u001b[0;32mdef\u001b[0m \u001b[0mname\u001b[0m\u001b[0;34m(\u001b[0m\u001b[0mself\u001b[0m\u001b[0;34m,\u001b[0m \u001b[0mvalue\u001b[0m\u001b[0;34m)\u001b[0m\u001b[0;34m:\u001b[0m\u001b[0;34m\u001b[0m\u001b[0;34m\u001b[0m\u001b[0m\n\u001b[1;32m     10\u001b[0m         \u001b[0;32mif\u001b[0m \u001b[0;32mnot\u001b[0m \u001b[0misinstance\u001b[0m\u001b[0;34m(\u001b[0m\u001b[0mvalue\u001b[0m\u001b[0;34m,\u001b[0m \u001b[0mstr\u001b[0m\u001b[0;34m)\u001b[0m\u001b[0;34m:\u001b[0m\u001b[0;34m\u001b[0m\u001b[0;34m\u001b[0m\u001b[0m\n\u001b[0;32m---> 11\u001b[0;31m             \u001b[0;32mraise\u001b[0m \u001b[0mTypeError\u001b[0m\u001b[0;34m(\u001b[0m\u001b[0;34m\"name need to be a string, a value of <{}> was provided\"\u001b[0m\u001b[0;34m.\u001b[0m\u001b[0mformat\u001b[0m\u001b[0;34m(\u001b[0m\u001b[0mrepr\u001b[0m\u001b[0;34m(\u001b[0m\u001b[0mvalue\u001b[0m\u001b[0;34m)\u001b[0m\u001b[0;34m)\u001b[0m\u001b[0;34m)\u001b[0m\u001b[0;34m\u001b[0m\u001b[0;34m\u001b[0m\u001b[0m\n\u001b[0m\u001b[1;32m     12\u001b[0m         \u001b[0mself\u001b[0m\u001b[0;34m.\u001b[0m\u001b[0m_name\u001b[0m \u001b[0;34m=\u001b[0m \u001b[0mvalue\u001b[0m\u001b[0;34m.\u001b[0m\u001b[0mtitle\u001b[0m\u001b[0;34m(\u001b[0m\u001b[0;34m)\u001b[0m\u001b[0;34m\u001b[0m\u001b[0;34m\u001b[0m\u001b[0m\n\u001b[1;32m     13\u001b[0m \u001b[0;34m\u001b[0m\u001b[0m\n",
      "\u001b[0;31mTypeError\u001b[0m: name need to be a string, a value of <[1, 2]> was provided"
     ]
    }
   ],
   "source": [
    "namespace.name = [1, 2]"
   ]
  },
  {
   "cell_type": "code",
   "execution_count": 214,
   "metadata": {
    "slideshow": {
     "slide_type": "slide"
    }
   },
   "outputs": [
    {
     "data": {
      "text/plain": [
       "'Enrico'"
      ]
     },
     "execution_count": 214,
     "metadata": {},
     "output_type": "execute_result"
    }
   ],
   "source": [
    "namespace.name = \"eNRICO\"\n",
    "namespace.name"
   ]
  },
  {
   "cell_type": "markdown",
   "metadata": {
    "slideshow": {
     "slide_type": "slide"
    }
   },
   "source": [
    "What happends when the dot operator fails to find the requested attribute in the instance and class?\n",
    "\n",
    "it falls back to a magic method, of course: `__getattr__`.\n",
    "\n",
    "If that is not defined, it gives up and fails, but if we implement it we can return dynamically attributes we never defined in the class or the instance!"
   ]
  },
  {
   "cell_type": "code",
   "execution_count": 204,
   "metadata": {
    "slideshow": {
     "slide_type": "fragment"
    }
   },
   "outputs": [
    {
     "data": {
      "text/plain": [
       "\"'b' has been requested\""
      ]
     },
     "execution_count": 204,
     "metadata": {},
     "output_type": "execute_result"
    }
   ],
   "source": [
    "class Something:\n",
    "    def __getattr__(self, name):\n",
    "        return \"{} has been requested\".format(repr(name))\n",
    "\n",
    "namespace = Something()\n",
    "namespace.b"
   ]
  },
  {
   "cell_type": "markdown",
   "metadata": {
    "slideshow": {
     "slide_type": "slide"
    }
   },
   "source": [
    "## Inheritance\n",
    "\n",
    "inheritance is a way of constructing classes on the basis of other classes.\n",
    "\n",
    "This can be used for both goals of object oriented programming:\n",
    "\n",
    "* defining an ontology (type A is also type B)\n",
    "* interface extension\n",
    "* interface validation\n",
    "\n",
    "the last one has been reduced from python 3.4+ with the introduction of the abstract base classes subclass hook."
   ]
  },
  {
   "cell_type": "markdown",
   "metadata": {
    "slideshow": {
     "slide_type": "slide"
    }
   },
   "source": [
    "The syntax to inherit from other classes is the following:\n",
    "\n",
    "```python\n",
    "class ClassName(SuperClass_0, SuperClass_1):\n",
    "    <class_body>\n",
    "```"
   ]
  },
  {
   "cell_type": "markdown",
   "metadata": {
    "slideshow": {
     "slide_type": "slide"
    }
   },
   "source": [
    "### Ontology definition - Exceptions\n",
    "\n",
    "This is very common in Exception management: when one is writing their own library, sometimes is more convenient to define specialized exceptions that can be caught in a more focused way.\n",
    "This can be specialized versions (and should usually be) of the most common one, such as `ValueError`, `TypeError`, `IndexError`, etc...\n",
    "\n",
    "This allows the user to distinguish between exceptions that are expected (the one raised from the library) and the one that are not (other exceptions that might be caused by some other code).\n",
    "\n",
    "It might also be a way to limit the things a user has to worry about in error management, by catching and reraising possible exceptions as different ones."
   ]
  },
  {
   "cell_type": "code",
   "execution_count": 377,
   "metadata": {
    "slideshow": {
     "slide_type": "slide"
    }
   },
   "outputs": [],
   "source": [
    "class ZeroError(ValueError): pass\n",
    "class NegativeError(ValueError): pass\n",
    "\n",
    "def myfunction(a):\n",
    "    if a<0:\n",
    "        raise NegativeError(\"the value should not be negative\")\n",
    "    if a==0:\n",
    "        raise ZeroError(\"the value should not be zero\")\n",
    "        \n",
    "    return a*2"
   ]
  },
  {
   "cell_type": "markdown",
   "metadata": {
    "slideshow": {
     "slide_type": "slide"
    }
   },
   "source": [
    "If I use a ValueError I can catch both kind of errors:"
   ]
  },
  {
   "cell_type": "code",
   "execution_count": 378,
   "metadata": {
    "slideshow": {
     "slide_type": "-"
    }
   },
   "outputs": [],
   "source": [
    "try:\n",
    "    myfunction(0)\n",
    "except ValueError:\n",
    "    pass\n",
    "\n",
    "try:\n",
    "    myfunction(-1)\n",
    "except ValueError:\n",
    "    pass"
   ]
  },
  {
   "cell_type": "markdown",
   "metadata": {
    "slideshow": {
     "slide_type": "slide"
    }
   },
   "source": [
    "And I can selectively catch only the kind of error I'm interested in"
   ]
  },
  {
   "cell_type": "code",
   "execution_count": 379,
   "metadata": {
    "slideshow": {
     "slide_type": "fragment"
    }
   },
   "outputs": [],
   "source": [
    "try:\n",
    "    myfunction(0)\n",
    "except ZeroError:\n",
    "    pass"
   ]
  },
  {
   "cell_type": "code",
   "execution_count": 380,
   "metadata": {
    "slideshow": {
     "slide_type": "fragment"
    }
   },
   "outputs": [
    {
     "ename": "NegativeError",
     "evalue": "the value should not be negative",
     "output_type": "error",
     "traceback": [
      "\u001b[0;31m---------------------------------------------------------------------------\u001b[0m",
      "\u001b[0;31mNegativeError\u001b[0m                             Traceback (most recent call last)",
      "\u001b[0;32m<ipython-input-380-07678d184437>\u001b[0m in \u001b[0;36m<module>\u001b[0;34m\u001b[0m\n\u001b[1;32m      1\u001b[0m \u001b[0;32mtry\u001b[0m\u001b[0;34m:\u001b[0m\u001b[0;34m\u001b[0m\u001b[0;34m\u001b[0m\u001b[0m\n\u001b[0;32m----> 2\u001b[0;31m     \u001b[0mmyfunction\u001b[0m\u001b[0;34m(\u001b[0m\u001b[0;34m-\u001b[0m\u001b[0;36m1\u001b[0m\u001b[0;34m)\u001b[0m\u001b[0;34m\u001b[0m\u001b[0;34m\u001b[0m\u001b[0m\n\u001b[0m\u001b[1;32m      3\u001b[0m \u001b[0;32mexcept\u001b[0m \u001b[0mZeroError\u001b[0m\u001b[0;34m:\u001b[0m\u001b[0;34m\u001b[0m\u001b[0;34m\u001b[0m\u001b[0m\n\u001b[1;32m      4\u001b[0m     \u001b[0;32mpass\u001b[0m\u001b[0;34m\u001b[0m\u001b[0;34m\u001b[0m\u001b[0m\n",
      "\u001b[0;32m<ipython-input-377-674f95bb9925>\u001b[0m in \u001b[0;36mmyfunction\u001b[0;34m(a)\u001b[0m\n\u001b[1;32m      4\u001b[0m \u001b[0;32mdef\u001b[0m \u001b[0mmyfunction\u001b[0m\u001b[0;34m(\u001b[0m\u001b[0ma\u001b[0m\u001b[0;34m)\u001b[0m\u001b[0;34m:\u001b[0m\u001b[0;34m\u001b[0m\u001b[0;34m\u001b[0m\u001b[0m\n\u001b[1;32m      5\u001b[0m     \u001b[0;32mif\u001b[0m \u001b[0ma\u001b[0m\u001b[0;34m<\u001b[0m\u001b[0;36m0\u001b[0m\u001b[0;34m:\u001b[0m\u001b[0;34m\u001b[0m\u001b[0;34m\u001b[0m\u001b[0m\n\u001b[0;32m----> 6\u001b[0;31m         \u001b[0;32mraise\u001b[0m \u001b[0mNegativeError\u001b[0m\u001b[0;34m(\u001b[0m\u001b[0;34m\"the value should not be negative\"\u001b[0m\u001b[0;34m)\u001b[0m\u001b[0;34m\u001b[0m\u001b[0;34m\u001b[0m\u001b[0m\n\u001b[0m\u001b[1;32m      7\u001b[0m     \u001b[0;32mif\u001b[0m \u001b[0ma\u001b[0m\u001b[0;34m==\u001b[0m\u001b[0;36m0\u001b[0m\u001b[0;34m:\u001b[0m\u001b[0;34m\u001b[0m\u001b[0;34m\u001b[0m\u001b[0m\n\u001b[1;32m      8\u001b[0m         \u001b[0;32mraise\u001b[0m \u001b[0mZeroError\u001b[0m\u001b[0;34m(\u001b[0m\u001b[0;34m\"the value should not be zero\"\u001b[0m\u001b[0;34m)\u001b[0m\u001b[0;34m\u001b[0m\u001b[0;34m\u001b[0m\u001b[0m\n",
      "\u001b[0;31mNegativeError\u001b[0m: the value should not be negative"
     ]
    }
   ],
   "source": [
    "try:\n",
    "    myfunction(-1)\n",
    "except ZeroError:\n",
    "    pass"
   ]
  },
  {
   "cell_type": "markdown",
   "metadata": {
    "slideshow": {
     "slide_type": "slide"
    }
   },
   "source": [
    "#### the use of multiple inheritance in the ontology\n",
    "\n",
    "A similar approach is to employ multiple inheritance to represent an error that can fit in various category.\n",
    "\n",
    "If you have a dynamical dictionary that generate results on the fly, one error might be at the same time and `IndexError` (because it is a nonsensical index) and a `ValueError` (because if you look at it as a function, the user just passed a wrong value).\n",
    "\n",
    "It makes sense for the user to be able to catch them in both ways, so one can use the **principle of least surprise** and raise an exception that can be caught both ways.\n",
    "\n",
    "From a formal point of view this is not an ontology anymore, but *practicaly beats purity*"
   ]
  },
  {
   "cell_type": "code",
   "execution_count": 399,
   "metadata": {
    "slideshow": {
     "slide_type": "slide"
    }
   },
   "outputs": [],
   "source": [
    "class ValueOrIndexError(ValueError, IndexError): pass\n",
    "import string\n",
    "\n",
    "class MyDict(dict):\n",
    "    def __getitem__(self, char):\n",
    "        if char not in string.ascii_letters:\n",
    "            raise ValueOrIndexError(f\"'{char}' is not a valid character!\")\n",
    "        else:\n",
    "            return ord(char)"
   ]
  },
  {
   "cell_type": "code",
   "execution_count": 400,
   "metadata": {
    "slideshow": {
     "slide_type": "fragment"
    }
   },
   "outputs": [
    {
     "data": {
      "text/plain": [
       "97"
      ]
     },
     "execution_count": 400,
     "metadata": {},
     "output_type": "execute_result"
    }
   ],
   "source": [
    "temp = MyDict()\n",
    "temp['a']"
   ]
  },
  {
   "cell_type": "code",
   "execution_count": 407,
   "metadata": {
    "slideshow": {
     "slide_type": "slide"
    }
   },
   "outputs": [
    {
     "ename": "ValueOrIndexError",
     "evalue": "'2' is not a valid character!",
     "output_type": "error",
     "traceback": [
      "\u001b[0;31m---------------------------------------------------------------------------\u001b[0m",
      "\u001b[0;31mValueOrIndexError\u001b[0m                         Traceback (most recent call last)",
      "\u001b[0;32m<ipython-input-407-c40d2261fa0f>\u001b[0m in \u001b[0;36m<module>\u001b[0;34m\u001b[0m\n\u001b[0;32m----> 1\u001b[0;31m \u001b[0mtemp\u001b[0m\u001b[0;34m[\u001b[0m\u001b[0;34m'2'\u001b[0m\u001b[0;34m]\u001b[0m\u001b[0;34m\u001b[0m\u001b[0;34m\u001b[0m\u001b[0m\n\u001b[0m",
      "\u001b[0;32m<ipython-input-399-1cfb1db28486>\u001b[0m in \u001b[0;36m__getitem__\u001b[0;34m(self, char)\u001b[0m\n\u001b[1;32m      5\u001b[0m     \u001b[0;32mdef\u001b[0m \u001b[0m__getitem__\u001b[0m\u001b[0;34m(\u001b[0m\u001b[0mself\u001b[0m\u001b[0;34m,\u001b[0m \u001b[0mchar\u001b[0m\u001b[0;34m)\u001b[0m\u001b[0;34m:\u001b[0m\u001b[0;34m\u001b[0m\u001b[0;34m\u001b[0m\u001b[0m\n\u001b[1;32m      6\u001b[0m         \u001b[0;32mif\u001b[0m \u001b[0mchar\u001b[0m \u001b[0;32mnot\u001b[0m \u001b[0;32min\u001b[0m \u001b[0mstring\u001b[0m\u001b[0;34m.\u001b[0m\u001b[0mascii_letters\u001b[0m\u001b[0;34m:\u001b[0m\u001b[0;34m\u001b[0m\u001b[0;34m\u001b[0m\u001b[0m\n\u001b[0;32m----> 7\u001b[0;31m             \u001b[0;32mraise\u001b[0m \u001b[0mValueOrIndexError\u001b[0m\u001b[0;34m(\u001b[0m\u001b[0;34mf\"'{char}' is not a valid character!\"\u001b[0m\u001b[0;34m)\u001b[0m\u001b[0;34m\u001b[0m\u001b[0;34m\u001b[0m\u001b[0m\n\u001b[0m\u001b[1;32m      8\u001b[0m         \u001b[0;32melse\u001b[0m\u001b[0;34m:\u001b[0m\u001b[0;34m\u001b[0m\u001b[0;34m\u001b[0m\u001b[0m\n\u001b[1;32m      9\u001b[0m             \u001b[0;32mreturn\u001b[0m \u001b[0mord\u001b[0m\u001b[0;34m(\u001b[0m\u001b[0mchar\u001b[0m\u001b[0;34m)\u001b[0m\u001b[0;34m\u001b[0m\u001b[0;34m\u001b[0m\u001b[0m\n",
      "\u001b[0;31mValueOrIndexError\u001b[0m: '2' is not a valid character!"
     ]
    }
   ],
   "source": [
    "temp['2']"
   ]
  },
  {
   "cell_type": "code",
   "execution_count": 406,
   "metadata": {
    "slideshow": {
     "slide_type": "fragment"
    }
   },
   "outputs": [],
   "source": [
    "try:\n",
    "    temp['2']\n",
    "except ValueError:\n",
    "    pass"
   ]
  },
  {
   "cell_type": "code",
   "execution_count": 405,
   "metadata": {
    "slideshow": {
     "slide_type": "fragment"
    }
   },
   "outputs": [],
   "source": [
    "try:\n",
    "    temp['2']\n",
    "except IndexError:\n",
    "    pass"
   ]
  },
  {
   "cell_type": "markdown",
   "metadata": {
    "slideshow": {
     "slide_type": "slide"
    }
   },
   "source": [
    "### Traditional inheritance - methods\n",
    "\n",
    "Traditional inheritance is mostly about code reuse: we have a base class that performs some basic funcionality, we don't want to rewrite all that code!\n",
    "\n",
    "a child class can:\n",
    "* **add** - add a new method that didn't exist before, with no interaction with the other methods of the superclass aside of leveraging them\n",
    "* **override** replace entirely the old method\n",
    "* **extend** add new behavior to the method while also calling the old one to keep the old behavior"
   ]
  },
  {
   "cell_type": "markdown",
   "metadata": {
    "slideshow": {
     "slide_type": "slide"
    }
   },
   "source": [
    "an example, taken from Raymond Hettinger's lectures:\n",
    " ```python\n",
    "@dataclass\n",
    "class Animal:\n",
    "    name: str\n",
    "        \n",
    "    def walk(self):\n",
    "        print(f\"{self.name} is walking\")\n",
    "```\n",
    "\n",
    "es: dog add bark, snake override walk with a slithering behavior, cat extend walk with tail wiggles"
   ]
  },
  {
   "cell_type": "markdown",
   "metadata": {
    "slideshow": {
     "slide_type": "slide"
    }
   },
   "source": [
    "#### adding\n",
    "```python\n",
    "class Dog(Animal):\n",
    "    def bark(self):\n",
    "        print(f\"{self.name} is barking!\")\n",
    "```\n",
    "\n",
    "Dog adds a completely new method to the superclass Animal"
   ]
  },
  {
   "cell_type": "markdown",
   "metadata": {
    "slideshow": {
     "slide_type": "slide"
    }
   },
   "source": [
    "#### overriding\n",
    "```python\n",
    "class Snake(Animal):\n",
    "    def walk(self):\n",
    "        print(f\"{self.name} is slithering!\")\n",
    "```\n",
    "\n",
    "Snake completely override the superclass original method, and the new one have no relationship with the old one aside of the intended use"
   ]
  },
  {
   "cell_type": "markdown",
   "metadata": {
    "slideshow": {
     "slide_type": "slide"
    }
   },
   "source": [
    "#### extending\n",
    "```python\n",
    "class Cat(Animal):\n",
    "    def walk(self):\n",
    "        super().walk()\n",
    "        print(f\"{self.name} is wagging is tail!\")\n",
    "```\n",
    "\n",
    "Cat is extending the old function by adding new behavior on top of it.\n",
    "\n",
    "the `super` function is a special function that allows to reference the method implemented by the superclass instead of the current one, and is commonly used during inheritance, especially while overrriding"
   ]
  },
  {
   "cell_type": "markdown",
   "metadata": {
    "slideshow": {
     "slide_type": "slide"
    }
   },
   "source": [
    "### interface extension\n",
    "\n",
    "A common use of inheritance is to use an class that defines more methods given some basic ones.\n",
    "\n",
    "for example, the \"collections\" module provides a \"MutableMapping\" abstract base\n",
    "class to help create various methods from a base set of methods:\n",
    "* `__getitem__`\n",
    "* `__setitem__`\n",
    "* `__delitem__`\n",
    "* `keys`"
   ]
  },
  {
   "cell_type": "code",
   "execution_count": 69,
   "metadata": {
    "slideshow": {
     "slide_type": "slide"
    }
   },
   "outputs": [
    {
     "data": {
      "text/plain": [
       "\u001b[0;35mfunction:\u001b[0m\n",
       "    \u001b[0;34mclear\u001b[0m\u001b[0;34m: \u001b[0m\u001b[1;30mD.clear() -> None.  Remove all items from D.\u001b[0m\n",
       "    \u001b[0;34mget\u001b[0m\u001b[0;34m: \u001b[0m\u001b[1;30mD.get(k[,d]) -> D[k] if k in D, else d.  d defaults to None.\u001b[0m\n",
       "    \u001b[0;34mitems\u001b[0m\u001b[0;34m: \u001b[0m\u001b[1;30mD.items() -> a set-like object providing a view on D's items\u001b[0m\n",
       "    \u001b[0;34mkeys\u001b[0m\u001b[0;34m: \u001b[0m\u001b[1;30mD.keys() -> a set-like object providing a view on D's keys\u001b[0m\n",
       "    \u001b[0;34mpop\u001b[0m\u001b[0;34m: \u001b[0m\u001b[1;30mD.pop(k[,d]) -> v, remove specified key and return the corresponding value.\u001b[0m\n",
       "    \u001b[0;34mpopitem\u001b[0m\u001b[0;34m: \u001b[0m\u001b[1;30mD.popitem() -> (k, v), remove and return some (key, value) pair\u001b[0m\n",
       "    \u001b[0;34msetdefault\u001b[0m\u001b[0;34m: \u001b[0m\u001b[1;30mD.setdefault(k[,d]) -> D.get(k,d), also set D[k]=d if k not in D\u001b[0m\n",
       "    \u001b[0;34mupdate\u001b[0m\u001b[0;34m: \u001b[0m\u001b[1;30mD.update([E, ]**F) -> None.  Update D from mapping/iterable E and F.\u001b[0m\n",
       "    \u001b[0;34mvalues\u001b[0m\u001b[0;34m: \u001b[0m\u001b[1;30mD.values() -> an object providing a view on D's values\u001b[0m"
      ]
     },
     "execution_count": 69,
     "metadata": {},
     "output_type": "execute_result"
    }
   ],
   "source": [
    "import collections\n",
    "\n",
    "class Empty(collections.MutableMapping):\n",
    "    def __getitem__(): pass\n",
    "    def __setitem__(): pass\n",
    "    def __delitem__(): pass \n",
    "    def keys(): pass\n",
    "\n",
    "dir(Empty).public"
   ]
  },
  {
   "cell_type": "markdown",
   "metadata": {
    "slideshow": {
     "slide_type": "slide"
    }
   },
   "source": [
    "It can also replace some of the methods of the parent class, for example a more performing one when some assumptions are valid"
   ]
  },
  {
   "cell_type": "markdown",
   "metadata": {
    "slideshow": {
     "slide_type": "slide"
    }
   },
   "source": [
    "### Interface validation\n",
    "\n",
    "in this case when can define a class checking for an interface and makes it so that all the classes following that inteface will be appear as subclasses when checked for subclassing or being an instance of that interface\n",
    "\n",
    "Is a way of describing interfaces without changing the class definition and force inheritance."
   ]
  },
  {
   "cell_type": "markdown",
   "metadata": {
    "slideshow": {
     "slide_type": "slide"
    }
   },
   "source": [
    "#### static validation\n",
    "\n",
    "the typing library (since python 3.6.7) provides us with a `Protocol` object, that allows us to declar interfaces that a class should respect, without actually having to inherit from it.\n",
    "\n",
    "This is very useful for both run-time checks, and `mypy` typing"
   ]
  },
  {
   "cell_type": "code",
   "execution_count": 3,
   "metadata": {
    "slideshow": {
     "slide_type": "slide"
    }
   },
   "outputs": [],
   "source": [
    "from typing import Protocol, runtime_checkable\n",
    "\n",
    "# this class check if the object has an attribute called handles that is integer\n",
    "@runtime_checkable\n",
    "class Portable(Protocol):\n",
    "    handles: int\n",
    "        \n",
    "# this class check if the class provides the method with the given signature\n",
    "@runtime_checkable\n",
    "class Ducky(Protocol):\n",
    "    def quack(self) -> None:\n",
    "        pass"
   ]
  },
  {
   "cell_type": "code",
   "execution_count": 4,
   "metadata": {
    "slideshow": {
     "slide_type": "slide"
    }
   },
   "outputs": [],
   "source": [
    "class Empty:\n",
    "    pass\n",
    "\n",
    "obj = Empty()\n",
    "assert not isinstance(obj, Portable)\n",
    "\n",
    "obj.handles = 3\n",
    "assert isinstance(obj, Portable)"
   ]
  },
  {
   "cell_type": "code",
   "execution_count": 8,
   "metadata": {
    "slideshow": {
     "slide_type": "slide"
    }
   },
   "outputs": [],
   "source": [
    "class Duck:\n",
    "    def quack(self):\n",
    "        pass\n",
    "    \n",
    "assert issubclass(Duck, Ducky)\n",
    "duck_instance = Duck()\n",
    "assert isinstance(duck_instance, Ducky)"
   ]
  },
  {
   "cell_type": "markdown",
   "metadata": {
    "slideshow": {
     "slide_type": "slide"
    }
   },
   "source": [
    "this allows me to write code such as:\n",
    "\n",
    "```python\n",
    "def talk_with(pet: Ducky):\n",
    "    pet.quack()\n",
    "```\n",
    "\n",
    "and have mypy accept my signature and verify against it.\n",
    "I can also use it for a more sane subclass and instance check if one wants to program defensively instead!"
   ]
  },
  {
   "cell_type": "markdown",
   "metadata": {
    "slideshow": {
     "slide_type": "slide"
    }
   },
   "source": [
    "Beware that the runtime check only verifies the presence of the method, not its signature, that is a work for mypy!"
   ]
  },
  {
   "cell_type": "code",
   "execution_count": 18,
   "metadata": {
    "slideshow": {
     "slide_type": "-"
    }
   },
   "outputs": [
    {
     "name": "stdout",
     "output_type": "stream",
     "text": [
      "Overwriting temp_mypy.py\n"
     ]
    }
   ],
   "source": [
    "%%file temp_mypy.py\n",
    "from typing import Protocol, runtime_checkable\n",
    "\n",
    "@runtime_checkable\n",
    "class TalkativeDuck(Protocol):\n",
    "    def quack(self) -> str:\n",
    "        return \"quack\"\n",
    "    \n",
    "class MechanicalDuck:\n",
    "    def quack(self) -> int:\n",
    "        return 0\n",
    "    \n",
    "assert issubclass(MechanicalDuck, TalkativeDuck)\n",
    "\n",
    "def talk(pet: TalkativeDuck):\n",
    "    print(pet.quack())\n",
    "\n",
    "talk(MechanicalDuck())"
   ]
  },
  {
   "cell_type": "markdown",
   "metadata": {
    "slideshow": {
     "slide_type": "slide"
    }
   },
   "source": [
    "This code run, even if it is technically incorrect, but mypy warns us that there is an issue with the definition!"
   ]
  },
  {
   "cell_type": "code",
   "execution_count": 20,
   "metadata": {
    "slideshow": {
     "slide_type": "-"
    }
   },
   "outputs": [
    {
     "name": "stdout",
     "output_type": "stream",
     "text": [
      "0\r\n"
     ]
    }
   ],
   "source": [
    "!python temp_mypy.py"
   ]
  },
  {
   "cell_type": "code",
   "execution_count": 19,
   "metadata": {
    "slideshow": {
     "slide_type": "-"
    }
   },
   "outputs": [
    {
     "name": "stdout",
     "output_type": "stream",
     "text": [
      "temp_mypy.py:17: \u001b[1m\u001b[31merror:\u001b[m Argument 1 to \u001b[m\u001b[1m\"talk\"\u001b[m has incompatible type \u001b[m\u001b[1m\"MechanicalDuck\"\u001b[m; expected \u001b[m\u001b[1m\"TalkativeDuck\"\u001b[m\u001b[m\r\n",
      "temp_mypy.py:17: \u001b[34mnote:\u001b[m Following member(s) of \"MechanicalDuck\" have conflicts:\r\n",
      "temp_mypy.py:17: \u001b[34mnote:\u001b[m     Expected:\r\n",
      "temp_mypy.py:17: \u001b[34mnote:\u001b[m         def quack(self) -> str\r\n",
      "temp_mypy.py:17: \u001b[34mnote:\u001b[m     Got:\r\n",
      "temp_mypy.py:17: \u001b[34mnote:\u001b[m         def quack(self) -> int\r\n",
      "\u001b[1m\u001b[31mFound 1 error in 1 file (checked 1 source file)\u001b[m\r\n"
     ]
    }
   ],
   "source": [
    "!mypy temp_mypy.py"
   ]
  },
  {
   "cell_type": "markdown",
   "metadata": {
    "slideshow": {
     "slide_type": "slide"
    }
   },
   "source": [
    "## Composition Over Inheritance\n",
    "\n",
    "Often inheritance is used to specify some very corner case of the class.\n",
    "\n",
    "In many cases this can be replace with composition.\n",
    "\n",
    "Composition is a way to replace the framework approach: instead of subclassing a class to specialize its behavior, one can set an attribute as a completely different object to configure its behavior"
   ]
  },
  {
   "cell_type": "markdown",
   "metadata": {
    "slideshow": {
     "slide_type": "slide"
    }
   },
   "source": [
    "Let's consider a very simple class that print a message.\n",
    "\n",
    "This class prints to the terminal, but we might implement a subclass that replace the print with something else"
   ]
  },
  {
   "cell_type": "code",
   "execution_count": 376,
   "metadata": {
    "slideshow": {
     "slide_type": "slide"
    }
   },
   "outputs": [
    {
     "name": "stderr",
     "output_type": "stream",
     "text": [
      "WARNING:root:hello everybody!\n",
      "\n"
     ]
    },
    {
     "name": "stdout",
     "output_type": "stream",
     "text": [
      "hello everybody!\n",
      "\n"
     ]
    }
   ],
   "source": [
    "class BasicPrinter:\n",
    "    def printer(self, message):\n",
    "        print(message)\n",
    "        \n",
    "    def say_hello(self, name):\n",
    "        s = f\"hello {name}!\\n\"\n",
    "        self.printer(s)\n",
    "        \n",
    "class LoggingPrinter(BasicPrinter):\n",
    "    def printer(self, message):\n",
    "        import logging\n",
    "        logging.warning(message)\n",
    "        \n",
    "BasicPrinter().say_hello(\"everybody\")\n",
    "LoggingPrinter().say_hello(\"everybody\")"
   ]
  },
  {
   "cell_type": "markdown",
   "metadata": {
    "slideshow": {
     "slide_type": "slide"
    }
   },
   "source": [
    "this approach works, and it's quite common in more structured languages, but you can see that it still feels somewhat *verbose*.\n",
    "\n",
    "If we have several behaviors, we would need a different subclass for each behaviors.\n",
    "\n",
    "If we have several kind of behaviors, we might need to write a class for each of the combination in the cartesian product of the options!"
   ]
  },
  {
   "cell_type": "markdown",
   "metadata": {
    "slideshow": {
     "slide_type": "slide"
    }
   },
   "source": [
    "composition present a better option, by allowing to simply replace a component to change the behavior, no subclassing needed."
   ]
  },
  {
   "cell_type": "code",
   "execution_count": 373,
   "metadata": {
    "slideshow": {
     "slide_type": "slide"
    }
   },
   "outputs": [
    {
     "name": "stdout",
     "output_type": "stream",
     "text": [
      "hello everybody!\n",
      "\n"
     ]
    }
   ],
   "source": [
    "@dataclass\n",
    "class Printer:\n",
    "    printer: callable = print\n",
    "        \n",
    "    def say_hello(self, name):\n",
    "        s = f\"hello {name}!\\n\"\n",
    "        self.printer(s)\n",
    "        \n",
    "myprinter = Printer()\n",
    "myprinter.say_hello(\"everybody\")"
   ]
  },
  {
   "cell_type": "code",
   "execution_count": 374,
   "metadata": {
    "slideshow": {
     "slide_type": "slide"
    }
   },
   "outputs": [
    {
     "name": "stdout",
     "output_type": "stream",
     "text": [
      "hello everybody!\n",
      "hello nobody!\n",
      "\n"
     ]
    }
   ],
   "source": [
    "from io import StringIO\n",
    "s = StringIO()\n",
    "\n",
    "myprinter.printer = s.write\n",
    "myprinter.say_hello(\"everybody\")\n",
    "myprinter.say_hello(\"nobody\")\n",
    "\n",
    "print(s.getvalue())"
   ]
  },
  {
   "cell_type": "markdown",
   "metadata": {
    "slideshow": {
     "slide_type": "slide"
    }
   },
   "source": [
    "### framework logic\n",
    "\n",
    "This is a another very common pattern that can be replaced by composition.\n",
    "\n",
    "The parent class controls the behavior, the child class implement the actual methods needed for actual acting (the basic idea for the abstract classes). \n",
    "\n",
    "An animal could delegate how to sense food and how to move from one place to another, but control how the decision to move is made after the food is sensed.\n",
    "\n",
    "-----\n",
    "\n",
    "On the other end, it's a very common pattern in Python: all the magic methods are nothing more than framewok logic to perform various operations"
   ]
  },
  {
   "cell_type": "markdown",
   "metadata": {
    "slideshow": {
     "slide_type": "slide"
    }
   },
   "source": [
    "## Create scikit.learn compatible classes"
   ]
  },
  {
   "cell_type": "markdown",
   "metadata": {
    "slideshow": {
     "slide_type": "-"
    }
   },
   "source": [
    "Any class that implements these features can inherit from `BaseEstimator` and then from `sklearn.base.ClassifierMixin`, `sklearn.base.RegressorMixin` or `sklearn.base.TransformerMixin` to have their interface completed.\n",
    "\n",
    "due to the requirements for this extension, I **strongly** suggest to create the classes using the `dataclass` decorator.\n",
    "\n",
    "It is also a good idea to just store the `__init__` parameters without modifying them.\n",
    "If you have to perform some processing and transformations, it's usually better to do them inside the `fit` function."
   ]
  },
  {
   "cell_type": "code",
   "execution_count": 320,
   "metadata": {
    "slideshow": {
     "slide_type": "slide"
    }
   },
   "outputs": [],
   "source": [
    "from dataclasses import dataclass\n",
    "from typing import List\n",
    "\n",
    "@dataclass\n",
    "class ColumnSelector(BaseEstimator, TransformerMixin):\n",
    "    columns: List[str]\n",
    "\n",
    "    def fit(self, X, y=None):\n",
    "        return self\n",
    "\n",
    "    def transform(self, X):\n",
    "        return X[self.columns]"
   ]
  },
  {
   "cell_type": "code",
   "execution_count": 321,
   "metadata": {
    "slideshow": {
     "slide_type": "slide"
    }
   },
   "outputs": [
    {
     "name": "stdout",
     "output_type": "stream",
     "text": [
      "{'columns': ['a', 'e']}\n"
     ]
    }
   ],
   "source": [
    "cs = ColumnSelector(columns=[\"a\", \"e\"])\n",
    "print(cs.get_params())"
   ]
  },
  {
   "cell_type": "code",
   "execution_count": 324,
   "metadata": {
    "slideshow": {
     "slide_type": "slide"
    }
   },
   "outputs": [
    {
     "data": {
      "text/html": [
       "<div>\n",
       "<style scoped>\n",
       "    .dataframe tbody tr th:only-of-type {\n",
       "        vertical-align: middle;\n",
       "    }\n",
       "\n",
       "    .dataframe tbody tr th {\n",
       "        vertical-align: top;\n",
       "    }\n",
       "\n",
       "    .dataframe thead th {\n",
       "        text-align: right;\n",
       "    }\n",
       "</style>\n",
       "<table border=\"1\" class=\"dataframe\">\n",
       "  <thead>\n",
       "    <tr style=\"text-align: right;\">\n",
       "      <th></th>\n",
       "      <th>a</th>\n",
       "      <th>e</th>\n",
       "    </tr>\n",
       "  </thead>\n",
       "  <tbody>\n",
       "    <tr>\n",
       "      <th>0</th>\n",
       "      <td>-1.606346</td>\n",
       "      <td>-0.300311</td>\n",
       "    </tr>\n",
       "    <tr>\n",
       "      <th>1</th>\n",
       "      <td>0.020452</td>\n",
       "      <td>-0.678270</td>\n",
       "    </tr>\n",
       "    <tr>\n",
       "      <th>2</th>\n",
       "      <td>1.406233</td>\n",
       "      <td>0.581932</td>\n",
       "    </tr>\n",
       "    <tr>\n",
       "      <th>3</th>\n",
       "      <td>-2.292684</td>\n",
       "      <td>0.420558</td>\n",
       "    </tr>\n",
       "    <tr>\n",
       "      <th>4</th>\n",
       "      <td>0.959172</td>\n",
       "      <td>1.054905</td>\n",
       "    </tr>\n",
       "  </tbody>\n",
       "</table>\n",
       "</div>"
      ],
      "text/plain": [
       "          a         e\n",
       "0 -1.606346 -0.300311\n",
       "1  0.020452 -0.678270\n",
       "2  1.406233  0.581932\n",
       "3 -2.292684  0.420558\n",
       "4  0.959172  1.054905"
      ]
     },
     "execution_count": 324,
     "metadata": {},
     "output_type": "execute_result"
    }
   ],
   "source": [
    "import pandas as pd\n",
    "df = pd.DataFrame(rn.randn(5, 5), columns=list(\"abcde\"))\n",
    "cs.fit_transform(df)"
   ]
  },
  {
   "cell_type": "markdown",
   "metadata": {
    "slideshow": {
     "slide_type": "slide"
    }
   },
   "source": [
    "# Polymorphism\n",
    "\n",
    "Polymorphism is the ability of a function, routine or method to behave differently depending on the class of the objects it receive as parameters.\n",
    "\n",
    "in general OOP each type signature can activate a different function"
   ]
  },
  {
   "cell_type": "markdown",
   "metadata": {
    "slideshow": {
     "slide_type": "slide"
    }
   },
   "source": [
    "for example, a function defined as \n",
    "\n",
    "```python\n",
    "def times(a, b):\n",
    "    return a*b\n",
    "```\n",
    "\n",
    "could have different implementations specifying the behaviour in different cases:\n",
    "\n",
    "* both `a` and `b` are numbers\n",
    "* `a` is a string, `b` is a number\n",
    "* `a` is a list, `b` is a number\n",
    "* etc..."
   ]
  },
  {
   "cell_type": "markdown",
   "metadata": {
    "slideshow": {
     "slide_type": "slide"
    }
   },
   "source": [
    "in python's OOP only the first object type can be used with the standard libraries, called **single dispatch**\n",
    "\n",
    "libraries to allow multiple dispatch exists, but i wouldn't recommend them\n",
    "\n",
    "one can alywas define multiple dispatch in term of various levels of single dispatch"
   ]
  },
  {
   "cell_type": "markdown",
   "metadata": {
    "slideshow": {
     "slide_type": "slide"
    }
   },
   "source": [
    "considering how easy it is to use\n",
    "\n",
    "* **composition**\n",
    "* **protocols**\n",
    "* **operators overloading** \n",
    "\n",
    "in python, it is actually rarely a necessity to rely on polymorphism at all"
   ]
  },
  {
   "cell_type": "markdown",
   "metadata": {
    "slideshow": {
     "slide_type": "slide"
    }
   },
   "source": [
    "# single dispatch\n",
    "\n",
    "Single dispatch is a way of writing functions that recognize the type of the first object called, allowing for a low-level object oriented code.\n",
    "\n",
    "This allow to write generic functions that can be easily combined in iteration functions such *map*, as they can receive iterable containing a mix of different object and use the best implementation based on the specific object received.\n",
    "\n",
    "This can be managed with a combinations of **if-else** and **isinstance** calls, but this approach allows a more readable approach"
   ]
  },
  {
   "cell_type": "markdown",
   "metadata": {
    "slideshow": {
     "slide_type": "slide"
    }
   },
   "source": [
    "Let's say that I want to write a function that calculates the mean of an iterable, but uses more efficient functions when available, such as for numpy arrays"
   ]
  },
  {
   "cell_type": "code",
   "execution_count": 12,
   "metadata": {
    "slideshow": {
     "slide_type": "slide"
    }
   },
   "outputs": [],
   "source": [
    "from functools import singledispatch\n",
    "from statistics import mean\n",
    "import numpy as np\n",
    "\n",
    "def average(iterable):\n",
    "    if isinstance(iterable, np.ndarray):\n",
    "        print(\"using the specific (and fast) numpy mean\")\n",
    "        return iterable.mean()\n",
    "    else:\n",
    "        print(\"using the generic (and slow) python mean\")\n",
    "        return mean(iterable)"
   ]
  },
  {
   "cell_type": "code",
   "execution_count": 13,
   "metadata": {
    "slideshow": {
     "slide_type": "slide"
    }
   },
   "outputs": [
    {
     "name": "stdout",
     "output_type": "stream",
     "text": [
      "using the generic (and slow) python mean\n"
     ]
    },
    {
     "data": {
      "text/plain": [
       "2"
      ]
     },
     "execution_count": 13,
     "metadata": {},
     "output_type": "execute_result"
    }
   ],
   "source": [
    "average([1, 2, 3])"
   ]
  },
  {
   "cell_type": "code",
   "execution_count": 14,
   "metadata": {
    "slideshow": {
     "slide_type": "-"
    }
   },
   "outputs": [
    {
     "name": "stdout",
     "output_type": "stream",
     "text": [
      "using the specific (and fast) numpy mean\n"
     ]
    },
    {
     "data": {
      "text/plain": [
       "2.0"
      ]
     },
     "execution_count": 14,
     "metadata": {},
     "output_type": "execute_result"
    }
   ],
   "source": [
    "data = np.array([1, 2, 3])\n",
    "average(data)"
   ]
  },
  {
   "cell_type": "markdown",
   "metadata": {
    "slideshow": {
     "slide_type": "slide"
    }
   },
   "source": [
    "Single dispatch methods allow us to avoid using all those checks explicitely, doing it instead under the hood for us."
   ]
  },
  {
   "cell_type": "code",
   "execution_count": 15,
   "metadata": {
    "slideshow": {
     "slide_type": "slide"
    }
   },
   "outputs": [],
   "source": [
    "@singledispatch\n",
    "def average(iterable):\n",
    "    print(\"using the generic (and slow) python mean\")\n",
    "    return mean(iterable)\n",
    "\n",
    "@average.register\n",
    "def _(np_array: np.ndarray):\n",
    "    print(\"using the specific (and very fast) numpy mean\")\n",
    "    return np_array.mean()"
   ]
  },
  {
   "cell_type": "code",
   "execution_count": 16,
   "metadata": {
    "slideshow": {
     "slide_type": "-"
    }
   },
   "outputs": [
    {
     "name": "stdout",
     "output_type": "stream",
     "text": [
      "using the generic (and slow) python mean\n"
     ]
    },
    {
     "data": {
      "text/plain": [
       "2"
      ]
     },
     "execution_count": 16,
     "metadata": {},
     "output_type": "execute_result"
    }
   ],
   "source": [
    "average([1, 2, 3])"
   ]
  },
  {
   "cell_type": "code",
   "execution_count": 17,
   "metadata": {
    "slideshow": {
     "slide_type": "-"
    }
   },
   "outputs": [
    {
     "name": "stdout",
     "output_type": "stream",
     "text": [
      "using the specific (and very fast) numpy mean\n"
     ]
    },
    {
     "data": {
      "text/plain": [
       "2.0"
      ]
     },
     "execution_count": 17,
     "metadata": {},
     "output_type": "execute_result"
    }
   ],
   "source": [
    "data = np.array([1, 2, 3])\n",
    "average(data)"
   ]
  },
  {
   "cell_type": "markdown",
   "metadata": {
    "slideshow": {
     "slide_type": "slide"
    }
   },
   "source": [
    "It also add the advantage that, if we want to write a specific version of the `average` function for a class of our writing, we don't need to tamper with the original one, but can extend it in a (relatively) simple way\n",
    "\n",
    "we have to register it **after** the class has been defined, **outside the class body**, as the class does not exist before the execution of the class body"
   ]
  },
  {
   "cell_type": "code",
   "execution_count": 18,
   "metadata": {
    "slideshow": {
     "slide_type": "-"
    }
   },
   "outputs": [
    {
     "data": {
      "text/plain": [
       "5"
      ]
     },
     "execution_count": 18,
     "metadata": {},
     "output_type": "execute_result"
    }
   ],
   "source": [
    "class AverageAware:\n",
    "    def __init__(self, value):\n",
    "        self.value = value\n",
    "    \n",
    "    def _my_avg(self):\n",
    "        return self.value\n",
    "\n",
    "average.register(AverageAware)(AverageAware._my_avg)\n",
    "\n",
    "a = AverageAware(5)\n",
    "average(a)"
   ]
  },
  {
   "cell_type": "markdown",
   "metadata": {
    "slideshow": {
     "slide_type": "slide"
    }
   },
   "source": [
    "## Function Hooks\n",
    "\n",
    "A concept similar to single dispatch is function hooking:\n",
    "\n",
    "* the function will perform some default operation on the datasets\n",
    "* on functions that conform to a specific protocol, it will call the specialized function"
   ]
  },
  {
   "cell_type": "markdown",
   "metadata": {
    "slideshow": {
     "slide_type": "slide"
    }
   },
   "source": [
    "we can implement this quite easily in python using the Protocol definition we discussed in the previous section on inheritance\n",
    "\n",
    "this is the basic working underneat the `len` function:\n",
    "* if the objects defines a `__len__` function, it defers to it\n",
    "* otherwise it tries to iterate and count the number of elements"
   ]
  },
  {
   "cell_type": "code",
   "execution_count": 34,
   "metadata": {
    "slideshow": {
     "slide_type": "slide"
    }
   },
   "outputs": [],
   "source": [
    "from typing import Protocol, runtime_checkable\n",
    "\n",
    "@singledispatch\n",
    "def average(iterable):\n",
    "    \"when not defined, try to use python\"\n",
    "    print(\"python mean used\")\n",
    "    return mean(iterable)\n",
    "\n",
    "@runtime_checkable\n",
    "class Provide_mean(Protocol):\n",
    "    \"this is the protocol to identify classes that have a `mean` function\"\n",
    "    def mean(self):\n",
    "        pass\n",
    "\n",
    "@average.register\n",
    "def _(instance: Provide_mean):\n",
    "    \"if the class has a `mean` function, calls it\"\n",
    "    print(\"object's own mean function used\")\n",
    "    return instance.mean()"
   ]
  },
  {
   "cell_type": "code",
   "execution_count": 35,
   "metadata": {
    "slideshow": {
     "slide_type": "slide"
    }
   },
   "outputs": [
    {
     "name": "stdout",
     "output_type": "stream",
     "text": [
      "python mean used\n",
      "2\n"
     ]
    }
   ],
   "source": [
    "print(average([1, 2, 3]))"
   ]
  },
  {
   "cell_type": "code",
   "execution_count": 36,
   "metadata": {
    "slideshow": {
     "slide_type": "-"
    }
   },
   "outputs": [
    {
     "name": "stdout",
     "output_type": "stream",
     "text": [
      "object's own mean function used\n"
     ]
    },
    {
     "data": {
      "text/plain": [
       "2.0"
      ]
     },
     "execution_count": 36,
     "metadata": {},
     "output_type": "execute_result"
    }
   ],
   "source": [
    "data = np.array([1, 2, 3])\n",
    "average(data)"
   ]
  },
  {
   "cell_type": "code",
   "execution_count": 37,
   "metadata": {
    "slideshow": {
     "slide_type": "-"
    }
   },
   "outputs": [
    {
     "name": "stdout",
     "output_type": "stream",
     "text": [
      "object's own mean function used\n",
      "0.0\n"
     ]
    }
   ],
   "source": [
    "class MyClass:\n",
    "    def mean(self):\n",
    "        return 0.0\n",
    "        \n",
    "pippo = MyClass()\n",
    "print(average(pippo))"
   ]
  },
  {
   "cell_type": "markdown",
   "metadata": {
    "slideshow": {
     "slide_type": "slide"
    }
   },
   "source": [
    "in all fairness we could have defined the function hook without the need for single dispatch in this simple case\n",
    "\n",
    "it would still be useful if we need to combine it with standard single dispatch"
   ]
  },
  {
   "cell_type": "code",
   "execution_count": 45,
   "metadata": {
    "slideshow": {
     "slide_type": "-"
    }
   },
   "outputs": [
    {
     "name": "stdout",
     "output_type": "stream",
     "text": [
      "2\n",
      "5.0\n",
      "0.0\n"
     ]
    }
   ],
   "source": [
    "def average2(iterable):\n",
    "    avg_fun = getattr(iterable, \"mean\", None)\n",
    "    if callable(avg_fun):\n",
    "        return avg_fun()\n",
    "    return mean(iterable)\n",
    "\n",
    "print(average2([1, 2, 3]))\n",
    "print(average2(np.array([4, 5, 6])))\n",
    "pippo = MyClass()\n",
    "print(average2(pippo))\n"
   ]
  },
  {
   "cell_type": "markdown",
   "metadata": {
    "slideshow": {
     "slide_type": "slide"
    }
   },
   "source": [
    "## method dispatching\n",
    "\n",
    "python 3.8 introduced also `singledispatchmethod`, that allow to perform single dispatch from methods.\n",
    "\n",
    "a dedicated function is required to avoid weird interactions with the *bounding* process of method calling"
   ]
  },
  {
   "cell_type": "code",
   "execution_count": 27,
   "metadata": {
    "slideshow": {
     "slide_type": "slide"
    }
   },
   "outputs": [],
   "source": [
    "from functools import singledispatchmethod\n",
    "from dataclasses import dataclass\n",
    "from numbers import Number\n",
    "\n",
    "@dataclass\n",
    "class Container:\n",
    "    value: Number\n",
    "    \n",
    "    @singledispatchmethod\n",
    "    def __add__(self, other):\n",
    "        return NotImplemented\n",
    "    \n",
    "    @__add__.register\n",
    "    def _(self, other: Number):\n",
    "        return self.__class__(self.value+other)"
   ]
  },
  {
   "cell_type": "code",
   "execution_count": 28,
   "metadata": {
    "slideshow": {
     "slide_type": "slide"
    }
   },
   "outputs": [
    {
     "name": "stdout",
     "output_type": "stream",
     "text": [
      "Container(value=3)\n"
     ]
    },
    {
     "ename": "TypeError",
     "evalue": "unsupported operand type(s) for +: 'Container' and 'str'",
     "output_type": "error",
     "traceback": [
      "\u001b[0;31m---------------------------------------------------------------------------\u001b[0m",
      "\u001b[0;31mTypeError\u001b[0m                                 Traceback (most recent call last)",
      "Input \u001b[0;32mIn [28]\u001b[0m, in \u001b[0;36m<cell line: 3>\u001b[0;34m()\u001b[0m\n\u001b[1;32m      1\u001b[0m cont \u001b[38;5;241m=\u001b[39m Container(\u001b[38;5;241m3\u001b[39m)\n\u001b[1;32m      2\u001b[0m \u001b[38;5;28mprint\u001b[39m(cont)\n\u001b[0;32m----> 3\u001b[0m \u001b[38;5;28mprint\u001b[39m(\u001b[43mcont\u001b[49m\u001b[38;5;241;43m+\u001b[39;49m\u001b[38;5;124;43m\"\u001b[39;49m\u001b[38;5;124;43m1\u001b[39;49m\u001b[38;5;124;43m\"\u001b[39;49m)\n",
      "\u001b[0;31mTypeError\u001b[0m: unsupported operand type(s) for +: 'Container' and 'str'"
     ]
    }
   ],
   "source": [
    "cont = Container(3)\n",
    "print(cont)\n",
    "print(cont+\"1\")"
   ]
  },
  {
   "cell_type": "code",
   "execution_count": 29,
   "metadata": {
    "slideshow": {
     "slide_type": "slide"
    }
   },
   "outputs": [
    {
     "name": "stdout",
     "output_type": "stream",
     "text": [
      "Container(value=3)\n",
      "Container(value=4)\n"
     ]
    }
   ],
   "source": [
    "cont = Container(3)\n",
    "print(cont)\n",
    "print(cont+1)"
   ]
  },
  {
   "cell_type": "markdown",
   "metadata": {
    "slideshow": {
     "slide_type": "slide"
    }
   },
   "source": [
    "Note that by default we cannot reference the class itself in the type annotation, as the class is defined only after the class body is executed"
   ]
  },
  {
   "cell_type": "code",
   "execution_count": 3,
   "metadata": {
    "slideshow": {
     "slide_type": "-"
    }
   },
   "outputs": [
    {
     "ename": "NameError",
     "evalue": "name 'Broken' is not defined",
     "output_type": "error",
     "traceback": [
      "\u001b[0;31m---------------------------------------------------------------------------\u001b[0m",
      "\u001b[0;31mNameError\u001b[0m                                 Traceback (most recent call last)",
      "Cell \u001b[0;32mIn[3], line 1\u001b[0m\n\u001b[0;32m----> 1\u001b[0m \u001b[38;5;28;01mclass\u001b[39;00m \u001b[38;5;21;01mBroken\u001b[39;00m:\n\u001b[1;32m      2\u001b[0m     \u001b[38;5;28;01mdef\u001b[39;00m \u001b[38;5;21mtest\u001b[39m(\u001b[38;5;28mself\u001b[39m, a: Broken):\n\u001b[1;32m      3\u001b[0m         \u001b[38;5;28;01mpass\u001b[39;00m\n",
      "Cell \u001b[0;32mIn[3], line 2\u001b[0m, in \u001b[0;36mBroken\u001b[0;34m()\u001b[0m\n\u001b[1;32m      1\u001b[0m \u001b[38;5;28;01mclass\u001b[39;00m \u001b[38;5;21;01mBroken\u001b[39;00m:\n\u001b[0;32m----> 2\u001b[0m     \u001b[38;5;28;01mdef\u001b[39;00m \u001b[38;5;21mtest\u001b[39m(\u001b[38;5;28mself\u001b[39m, a: \u001b[43mBroken\u001b[49m):\n\u001b[1;32m      3\u001b[0m         \u001b[38;5;28;01mpass\u001b[39;00m\n",
      "\u001b[0;31mNameError\u001b[0m: name 'Broken' is not defined"
     ]
    }
   ],
   "source": [
    "class Broken:\n",
    "    def test(self, a: Broken):\n",
    "        pass"
   ]
  },
  {
   "cell_type": "markdown",
   "metadata": {
    "slideshow": {
     "slide_type": "slide"
    }
   },
   "source": [
    "a way to circumvent the current problem with forward referencing, is to define the method that refer to the class itself outside of the class (all the other definition can still be inside the class body)"
   ]
  },
  {
   "cell_type": "code",
   "execution_count": 5,
   "metadata": {
    "slideshow": {
     "slide_type": "-"
    }
   },
   "outputs": [],
   "source": [
    "from functools import singledispatchmethod\n",
    "\n",
    "class SelfReferent:\n",
    "    @singledispatchmethod\n",
    "    def __add__(self, other):\n",
    "        \"\"\"generic version of the function\"\"\"\n",
    "        return NotImplemented\n",
    "\n",
    "@SelfReferent.__add__.register\n",
    "def _(self, other: SelfReferent):\n",
    "    return 2"
   ]
  },
  {
   "cell_type": "code",
   "execution_count": 6,
   "metadata": {
    "slideshow": {
     "slide_type": "slide"
    }
   },
   "outputs": [],
   "source": [
    "p = SelfReferent()\n",
    "q = SelfReferent()"
   ]
  },
  {
   "cell_type": "code",
   "execution_count": 7,
   "metadata": {
    "slideshow": {
     "slide_type": "-"
    }
   },
   "outputs": [
    {
     "data": {
      "text/plain": [
       "2"
      ]
     },
     "execution_count": 7,
     "metadata": {},
     "output_type": "execute_result"
    }
   ],
   "source": [
    "p+q"
   ]
  },
  {
   "cell_type": "code",
   "execution_count": 8,
   "metadata": {
    "slideshow": {
     "slide_type": "-"
    }
   },
   "outputs": [
    {
     "ename": "TypeError",
     "evalue": "unsupported operand type(s) for +: 'SelfReferent' and 'int'",
     "output_type": "error",
     "traceback": [
      "\u001b[0;31m---------------------------------------------------------------------------\u001b[0m",
      "\u001b[0;31mTypeError\u001b[0m                                 Traceback (most recent call last)",
      "Cell \u001b[0;32mIn[8], line 1\u001b[0m\n\u001b[0;32m----> 1\u001b[0m \u001b[43mp\u001b[49m\u001b[38;5;241;43m+\u001b[39;49m\u001b[38;5;241;43m1\u001b[39;49m\n",
      "\u001b[0;31mTypeError\u001b[0m: unsupported operand type(s) for +: 'SelfReferent' and 'int'"
     ]
    }
   ],
   "source": [
    "p+1"
   ]
  },
  {
   "cell_type": "markdown",
   "metadata": {
    "slideshow": {
     "slide_type": "slide"
    }
   },
   "source": [
    "# Exercise 1 - simpler\n",
    "\n",
    "Our goal is to implement a predictor transformer: use the prediction of one or more Regressor/Classifier as the input for another one.\n",
    "\n",
    "I want to use come like:\n",
    "\n",
    "```python\n",
    "predictor_transformer = PT(LinearRegression)\n",
    "predictor_transformer.fit(X_train, y_train)\n",
    "predictor_transformer.transform(X_test) # should return a 2d array Nx1 with the predicted y_test\n",
    "```"
   ]
  },
  {
   "cell_type": "markdown",
   "metadata": {
    "slideshow": {
     "slide_type": "slide"
    }
   },
   "source": [
    "# exercise 2 - harder\n",
    "\n",
    "Our goal might be to implement a groupby standardizer.\n",
    "\n",
    "a standardizer subtract the average of one or more columns, and divide the data by their standard deviation.\n",
    "\n",
    "The standard standardizer does use the whole data average, but we might want to do this operation separatedly on different groups, for example by country.\n",
    "\n",
    "Assuming that all the groupby categories are present in the traning data, try to implement it\n",
    "\n",
    "```python\n",
    "group_standardizer = GS(groupby_column='country')\n",
    "group_standardizer.fit(X_train, y_train)\n",
    "group_standardizer.transform(X_train)\n",
    "```"
   ]
  },
  {
   "cell_type": "markdown",
   "metadata": {
    "slideshow": {
     "slide_type": "slide"
    }
   },
   "source": [
    "# end of the general programming module"
   ]
  },
  {
   "cell_type": "markdown",
   "metadata": {
    "slideshow": {
     "slide_type": "slide"
    }
   },
   "source": [
    "# Extra material\n",
    "\n",
    "this is not part of the lesson material, but it is interesting to have here as a reference.\n",
    "You can explore these topics in the notebook corresponding to these slides.\n",
    "\n",
    "topics:\n",
    "* metaprogramming\n",
    "* API design and evolution\n",
    "* using function parameters using the enum module\n",
    "* notes on subclassing\n",
    "* fluent Interface"
   ]
  },
  {
   "cell_type": "markdown",
   "metadata": {
    "slideshow": {
     "slide_type": "slide"
    }
   },
   "source": [
    "black magic topics\n",
    "* class registration with ABCMeta\n",
    "* Classes bodies are code blocks\n",
    "* Uniform Calling Syntax\n",
    "* secret attributes with unproper names\n",
    "* transparent wrapping objects relying attributes exploiting unproper names\n",
    "* Dynamical class change of an instance\n",
    "* Attributes with access logging\n",
    "* Calling interfaces (such as pandas.Series.str)\n",
    "* dynamical attribute resolution\n",
    "* A sklearn class to perform column selection from a dataframe including columns operations\n",
    "* write once attributes"
   ]
  },
  {
   "cell_type": "markdown",
   "metadata": {
    "slideshow": {
     "slide_type": "skip"
    }
   },
   "source": [
    "## metaprogramming: metaclasses\n",
    "\n",
    "classes are objects too.\n",
    "\n",
    "by default they are of type `type` (which is a class but also an object).\n",
    "`type` provide an initialization for the class in the same way as the class provide the init to the instance (using the `__new__` method)\n",
    "\n",
    "One can instantiate a subclass of `type` that provide a different initialization process, and using to generate the new class.\n",
    "To do this, this new type subclass should be indicated as the class `metaclass` alongside its superclasses.\n",
    "This allow to personalize the generation of classes.\n",
    "It is not commonly used in normal programming, but can be very useful for:\n",
    "* frameworks\n",
    "* attribute sharing without inheritance from other classes"
   ]
  },
  {
   "cell_type": "code",
   "execution_count": 357,
   "metadata": {
    "slideshow": {
     "slide_type": "skip"
    }
   },
   "outputs": [],
   "source": [
    "# type is an object that have type type, which is an object that have type type, etc...\n",
    "class Empty_base:\n",
    "    pass\n",
    "\n",
    "class Empty(Empty_base):\n",
    "    pass\n",
    "\n",
    "assert issubclass(Empty, Empty_base)\n",
    "assert isinstance(Empty, object)\n",
    "\n",
    "assert type(Empty()) is Empty\n",
    "assert type(Empty) is type\n",
    "\n",
    "assert type(type) is type\n",
    "assert type(object) is type\n",
    "assert isinstance(type, object)"
   ]
  },
  {
   "cell_type": "code",
   "execution_count": 355,
   "metadata": {
    "slideshow": {
     "slide_type": "skip"
    }
   },
   "outputs": [
    {
     "data": {
      "text/plain": [
       "100"
      ]
     },
     "execution_count": 355,
     "metadata": {},
     "output_type": "execute_result"
    }
   ],
   "source": [
    "# dynamical class generation\n",
    "Foo = type('SomeClass', (Empty, ), {'x':100})\n",
    "assert Foo.__name__ == 'SomeClass'\n",
    "\n",
    "someobject = Foo()\n",
    "assert isinstance(someobject, Foo)\n",
    "assert type(Foo) is type\n",
    "\n",
    "someobject.x"
   ]
  },
  {
   "cell_type": "code",
   "execution_count": 362,
   "metadata": {
    "slideshow": {
     "slide_type": "skip"
    }
   },
   "outputs": [],
   "source": [
    "# we can subclass type and use it to generate classes, and so the new class type in going to be a subclass of type\n",
    "class Meta(type):\n",
    "    def __new__(cls, name, bases, dct):\n",
    "        x = super().__new__(cls, name, bases, dct)\n",
    "        x.attr = 100\n",
    "        \n",
    "        def obscure(self):\n",
    "            return self.attr\n",
    "        x.obscure = obscure\n",
    "        \n",
    "        return x\n",
    "    \n",
    "Foo = Meta('SomeClass', (Empty, ), {})\n",
    "assert Foo.__name__ == 'SomeClass'\n",
    "\n",
    "someobject = Foo()\n",
    "assert isinstance(someobject, Foo)\n",
    "assert type(Foo) is Meta\n",
    "\n",
    "assert someobject.obscure() == someobject.attr"
   ]
  },
  {
   "cell_type": "code",
   "execution_count": 363,
   "metadata": {
    "slideshow": {
     "slide_type": "skip"
    }
   },
   "outputs": [],
   "source": [
    "class Foo(metaclass=Meta):\n",
    "    pass\n",
    "\n",
    "someobject = Foo()\n",
    "assert isinstance(someobject, Foo)\n",
    "assert type(Foo) is Meta\n",
    "\n",
    "assert someobject.obscure() == someobject.attr"
   ]
  },
  {
   "cell_type": "markdown",
   "metadata": {
    "slideshow": {
     "slide_type": "skip"
    }
   },
   "source": [
    "## Improving your library API design and management\n",
    "\n",
    "One of the problems when writing a library is that the requirements and structure of your functions API will change over time.\n",
    "\n",
    "Improving and changing your API is a non trivial process, as probably there are users relying on your code!\n",
    "\n",
    "The best thing is to get it right from the beginning.\n",
    "While this is clearly utopical, in general it is a good idea to follow the old advice of \n",
    "> measure twice, cut once\n",
    "\n",
    "Luckly python provide us with a great number of tools (such as properties, dynamical attributes, magic methods, etc...) that makes it easy to have a post-hoc patch that is transparent to the user but allows you to improve one step at the time.\n",
    "\n",
    "Here I collect some suggestions that you might find helpful, both for the good design and on how to improve the design over time.\n",
    "\n",
    "a good discussion can be found in this article: [API evolution the right way](https://emptysqua.re/blog/api-evolution-the-right-way/)"
   ]
  },
  {
   "cell_type": "markdown",
   "metadata": {
    "slideshow": {
     "slide_type": "skip"
    }
   },
   "source": [
    "### deprecation warning\n",
    "\n",
    "once you define a function that use certain parameters, or with certain defaults, and you realize that you need to change them, don't do it straight away!\n",
    "You will break you users' code, and they will not be thrilled.\n",
    "\n",
    "the usual solution is to take an intermediate step (usually one release or two of the library before the change will actually happens) to warn your users about the changes in the API.\n",
    "This is done using the `DeprecationWarning` exception, or a warning logging when the function is called, or raising a warning message from the `warnings` module."
   ]
  },
  {
   "cell_type": "markdown",
   "metadata": {
    "slideshow": {
     "slide_type": "skip"
    }
   },
   "source": [
    "## using function parameters using the `enum` module\n",
    "\n",
    "a common issue with some APIs, especially old ones in python, is the use of modal parameters using strings.\n",
    "\n",
    "A **modal parameter** is a parameter that changes the behavior of the function in one of few selected modes.\n",
    "A common example could be the `histtype` parameter in the `hist` function of matplotlib.\n",
    "This parameter takes a string to define the kind of histogram that one wants to do.\n",
    "\n",
    "I've been using this funcion for almost ten years, and I still can't remember if the names are hyphenated, which are available and which not, and so on.\n",
    "And if one inputs the wrong string, the error message is not helpful enough.\n",
    "\n",
    "This is a limit in the API: it has a low **discoverability**, meaning that a new user will have a bad time understanding how to use it, or even that it is possible at all.\n",
    "This is common with graphical functions, that might need to pass parameters to few other functions on the way, and their signature ends up being an unsightly mess.\n",
    "\n",
    "A better solution is to leverage the **enum** standard library module (introduced in python 3.4) and dynamical attribute assignment"
   ]
  },
  {
   "cell_type": "markdown",
   "metadata": {
    "slideshow": {
     "slide_type": "skip"
    }
   },
   "source": [
    "let's consider a function that evolves a dynamical system such as the one we implemented in the first few lessons for cellular automata.\n",
    "\n",
    "This function has a modal argument, namely the behavior of the system at the boundaries.\n",
    "This could be:\n",
    "* **reflective**\n",
    "* **circular**\n",
    "* **fixed alive**\n",
    "* **fixed dead**\n",
    "\n",
    "the first version would be using a string as a parameter, such as:\n",
    "\n",
    "```python\n",
    "def evolve(initial_state, rule, boundary='fixed dead'):\n",
    "    # do something with those info\n",
    "```"
   ]
  },
  {
   "cell_type": "markdown",
   "metadata": {
    "slideshow": {
     "slide_type": "skip"
    }
   },
   "source": [
    "the problem is that a string is the wrong abstraction: we don't want **any** kind of strings, but only a limited sets of them, but we are still allowing the user to put any value in.\n",
    "This means that we also have to worry about error management, and be very careful to keep the documentation in line with the values we accept.\n",
    "\n",
    "a better solution would be to use an enum class"
   ]
  },
  {
   "cell_type": "code",
   "execution_count": 428,
   "metadata": {
    "slideshow": {
     "slide_type": "skip"
    }
   },
   "outputs": [],
   "source": [
    "import enum\n",
    "\n",
    "class BoundaryType(enum.Enum):\n",
    "    REFLECTIVE = \"reflective\"\n",
    "    CIRCULAR = \"circular\"\n",
    "    FIXED_DEAD = 'fixed dead'\n",
    "    FIXED_ALIVE = 'fixed alive'"
   ]
  },
  {
   "cell_type": "markdown",
   "metadata": {
    "slideshow": {
     "slide_type": "skip"
    }
   },
   "source": [
    "and would write the function as:\n",
    "    \n",
    "```python\n",
    "def evolve(initial_state, rule, boundary=BoundaryType.FIXED_DEAD):\n",
    "    # function body\n",
    "```"
   ]
  },
  {
   "cell_type": "markdown",
   "metadata": {
    "slideshow": {
     "slide_type": "skip"
    }
   },
   "source": [
    "Having this enum gives us several advantages:\n",
    "* it is still compatible with the old definition (the value is identical to the old ones), allowing for a smoother transition\n",
    "* the user can see in their code what is available, and can leverage their editor's autocompletion capabilities\n",
    "* there is less risk of mistakes in the code by passing the wrong string\n",
    "\n",
    "the only disadvantage is that is is slightly more verbose, but this is often worth the improvement in code correctness\n",
    "\n",
    "this approach has two disadvantages:\n",
    "* the code is a little bit more verbose\n",
    "* the user is required to import more stuff from the module, littering the namespace and the import section"
   ]
  },
  {
   "cell_type": "markdown",
   "metadata": {
    "slideshow": {
     "slide_type": "skip"
    }
   },
   "source": [
    "We can improve discoverability even further by leveraging functions attributes.\n",
    "\n",
    "Being functions just another object, we can set any kind of attribute.\n",
    "In our case we can include the values that the arguments should have in the function attributes, making sure that the function carry with it everything it needs."
   ]
  },
  {
   "cell_type": "code",
   "execution_count": 430,
   "metadata": {
    "slideshow": {
     "slide_type": "skip"
    }
   },
   "outputs": [
    {
     "data": {
      "text/plain": [
       "\u001b[0;35mproperty:\u001b[0m\n",
       "    \u001b[0;34mx\u001b[0m"
      ]
     },
     "execution_count": 430,
     "metadata": {},
     "output_type": "execute_result"
    }
   ],
   "source": [
    "def fun():\n",
    "    pass\n",
    "\n",
    "fun.x = 3\n",
    "dir(fun).public"
   ]
  },
  {
   "cell_type": "markdown",
   "metadata": {
    "slideshow": {
     "slide_type": "skip"
    }
   },
   "source": [
    "there are three approaches for this implementation:\n",
    "1. storing all the enums in a single namespace\n",
    "2. storing each enum in an attribute with the same name of the enum\n",
    "3. storing each enum in an attribute with the same name of the parameter of the function"
   ]
  },
  {
   "cell_type": "markdown",
   "metadata": {
    "slideshow": {
     "slide_type": "skip"
    }
   },
   "source": [
    "#### storing all the enums in a single namespace\n",
    "\n",
    "This option is useful if only one parameter use the enum, or several parameters do, but sharing the same enum values.\n",
    "\n",
    "for example, a graphic class for a square might take for each side if the line should be absent, thin or bold.\n",
    "given that four parameters share the same values and there are no other parameters (for now!), it might make sense to store all the enum values in the function bare"
   ]
  },
  {
   "cell_type": "code",
   "execution_count": 436,
   "metadata": {
    "slideshow": {
     "slide_type": "skip"
    }
   },
   "outputs": [
    {
     "data": {
      "text/plain": [
       "\u001b[0;35mproperty:\u001b[0m\n",
       "    \u001b[0;34mBOLD\u001b[0m\u001b[1;34m, \u001b[0m\u001b[0;34mNO_LINE\u001b[0m\u001b[1;34m, \u001b[0m\u001b[0;34mTHIN\u001b[0m"
      ]
     },
     "execution_count": 436,
     "metadata": {},
     "output_type": "execute_result"
    }
   ],
   "source": [
    "class LineStyle(enum.Enum):\n",
    "    NO_LINE = 'noline'\n",
    "    THIN = 'thin'\n",
    "    BOLD = 'bold'\n",
    "    \n",
    "def draw_square(top=LineStyle.THIN, bottom=LineStyle.THIN, left=LineStyle.THIN, right=LineStyle.THIN):\n",
    "    pass\n",
    "\n",
    "for style in LineStyle:\n",
    "    setattr(draw_square, style.name, style)\n",
    "\n",
    "dir(draw_square).public"
   ]
  },
  {
   "cell_type": "markdown",
   "metadata": {
    "slideshow": {
     "slide_type": "skip"
    }
   },
   "source": [
    "And this function could then be called with:\n",
    "\n",
    "```python\n",
    "draw_square(bottom=draw_square.BOLD)\n",
    "```\n",
    "\n",
    "this approach can be useful when one of the parameters (tipically the first or second) have a predominant role in the behavior of the function, changing it drastically rather than fine-tuning it."
   ]
  },
  {
   "cell_type": "markdown",
   "metadata": {
    "slideshow": {
     "slide_type": "skip"
    }
   },
   "source": [
    "#### each enum in an attribute with the same name of the enum\n",
    "\n",
    "This is a little more verbose, but helps the user understand what the enumerator is referring about, and have the advantage of using the same expression that would appear in the function signature.\n",
    "\n",
    "this means, on the other end, that we increase the verboseness of our code further"
   ]
  },
  {
   "cell_type": "code",
   "execution_count": 437,
   "metadata": {
    "slideshow": {
     "slide_type": "skip"
    }
   },
   "outputs": [
    {
     "data": {
      "text/plain": [
       "\u001b[0;35mclass:\u001b[0m\n",
       "    \u001b[0;34mLineStyle\u001b[0m\u001b[0;34m: \u001b[0m\u001b[1;30mAn enumeration.\u001b[0m"
      ]
     },
     "execution_count": 437,
     "metadata": {},
     "output_type": "execute_result"
    }
   ],
   "source": [
    "class LineStyle(enum.Enum):\n",
    "    NO_LINE = 'noline'\n",
    "    THIN = 'thin'\n",
    "    BOLD = 'bold'\n",
    "    \n",
    "def draw_square(top=LineStyle.THIN, bottom=LineStyle.THIN, left=LineStyle.THIN, right=LineStyle.THIN):\n",
    "    pass\n",
    "\n",
    "draw_square.LineStyle = LineStyle\n",
    "\n",
    "dir(draw_square).public"
   ]
  },
  {
   "cell_type": "markdown",
   "metadata": {
    "slideshow": {
     "slide_type": "skip"
    }
   },
   "source": [
    "An now the call would be in this (verbose but clear):\n",
    "```python\n",
    "draw_square(bottom=draw_square.LineStyle.BOLD)\n",
    "```\n",
    "\n",
    "there is nothing stopping the user to use two lines instead of one, and redefine the values locally\n",
    "\n",
    "```python\n",
    "bold = draw_square.LineStyle.BOLD\n",
    "draw_square(bottom=bold)\n",
    "```"
   ]
  },
  {
   "cell_type": "markdown",
   "metadata": {
    "slideshow": {
     "slide_type": "skip"
    }
   },
   "source": [
    "#### each enum in an attribute with the same name of the parameter\n",
    "\n",
    "if the function has several parameters (or we want to be safe for future extensions), one solution would be to set as name of the attribute not the name of the enum class, but of the attribute.\n",
    "This would obfuscate a little bit the connection between the function signature and the value passed, but as you will see, this is quite clear to read anyway.\n",
    "\n",
    "let's assume that we want to put some other parameter, for example the shape of the corners of our square..."
   ]
  },
  {
   "cell_type": "code",
   "execution_count": 440,
   "metadata": {
    "slideshow": {
     "slide_type": "skip"
    }
   },
   "outputs": [
    {
     "data": {
      "text/plain": [
       "\u001b[0;35mclass:\u001b[0m\n",
       "    \u001b[0;34mcorners\u001b[0m\u001b[0;34m: \u001b[0m\u001b[1;30mAn enumeration.\u001b[0m"
      ]
     },
     "execution_count": 440,
     "metadata": {},
     "output_type": "execute_result"
    }
   ],
   "source": [
    "class CornerStyle(enum.Enum):\n",
    "    POINTY = 'pointy'\n",
    "    SQUARED = 'squared'\n",
    "    CURVED = 'curved'\n",
    "    \n",
    "def draw_square(corners=CornerStyle.SQUARED):\n",
    "    pass\n",
    "\n",
    "draw_square.corners = LineStyle\n",
    "\n",
    "dir(draw_square).public"
   ]
  },
  {
   "cell_type": "markdown",
   "metadata": {
    "slideshow": {
     "slide_type": "skip"
    }
   },
   "source": [
    "and the call to the function would be something like:\n",
    "\n",
    "```python\n",
    "draw_square(corners=draw_square.corners.CURVED)\n",
    "```\n",
    "\n",
    "again, it is verbose, but can be shortened as shown before.\n",
    "It also have the advantage of showing explicitely the connection between the parameter and the values that it can take.\n",
    "\n",
    "Of course there can be a mixture of all the approaches, depending on the function at hand."
   ]
  },
  {
   "cell_type": "markdown",
   "metadata": {
    "slideshow": {
     "slide_type": "skip"
    }
   },
   "source": [
    "## notes on subclassing\n",
    "* when you write a class try to make it eay to subclass! for example refer to `self.__class__` and `self.__class__.__name__` instead of specifically using the class and its name\n",
    "* the instance of `self` might not be the class you are writing right now, but one of its derived ones! keep things generic unless you need it!\n",
    "* this is true also for `super()`. it does not refer to the ancestor of the class you're writing, but to the ancestor of the object you're having as self, that might include some completely different classes.\n",
    "* subclassing is delegating work, so its the instance that have the complete control on what gets executed\n",
    "* try to focus all the violations of Liskov substitution principle in one (or very few methods) so that by overriding those you can have a fully functioning class that follow the principle as possible as it can\n",
    "* the open-closed principle: open to extension, closed to modification. when you subclass you should not break the underlying assumptions of the base class"
   ]
  },
  {
   "cell_type": "markdown",
   "metadata": {
    "slideshow": {
     "slide_type": "skip"
    }
   },
   "source": [
    "## Fluent Interface\n",
    "\n",
    "Fluent interfaces are a variant of object oriented interfaces where methods that act on the object without creating a new one returns the object itself rather than nothing.\n",
    "\n",
    "This allows to chain the methods in a semi-pipeline form.\n",
    "\n",
    "I'm not a big fan of them, but you might find them in the wild (for example sklearn is a fluent interface, even if it does not really use it).\n",
    "\n",
    "It makes the code (marginally) prettier, but it's simply hell to debug!"
   ]
  },
  {
   "cell_type": "code",
   "execution_count": 1,
   "metadata": {
    "slideshow": {
     "slide_type": "skip"
    }
   },
   "outputs": [
    {
     "name": "stdout",
     "output_type": "stream",
     "text": [
      "10\n"
     ]
    }
   ],
   "source": [
    "class FluentNumber:\n",
    "    def __init__(self, value):\n",
    "        self.value = value\n",
    "        \n",
    "    def add(self, value):\n",
    "        self.value += value\n",
    "        return self\n",
    "    \n",
    "    def multiply(self, value):\n",
    "        self.value *= value\n",
    "        return self\n",
    "    \n",
    "number2 = FluentNumber(2)\n",
    "result = number2.add(3).multiply(2)\n",
    "print(result.value)"
   ]
  },
  {
   "cell_type": "markdown",
   "metadata": {
    "slideshow": {
     "slide_type": "skip"
    }
   },
   "source": [
    "# Black Magic section\n",
    "\n",
    "this is not lecture topic, but some weird (somewhat useful) tricks that you might want to check out"
   ]
  },
  {
   "cell_type": "markdown",
   "metadata": {
    "slideshow": {
     "slide_type": "skip"
    }
   },
   "source": [
    "## class registration with ABCMeta"
   ]
  },
  {
   "cell_type": "code",
   "execution_count": 81,
   "metadata": {
    "slideshow": {
     "slide_type": "skip"
    }
   },
   "outputs": [],
   "source": [
    "class PippoInterface(metaclass=abc.ABCMeta):\n",
    "    pass\n",
    "        \n",
    "@PippoInterface.register\n",
    "class Myclass:\n",
    "    def pippo(self):\n",
    "        pass\n",
    "\n",
    "obj = Myclass()\n",
    "assert issubclass(Myclass, PippoInterface)\n",
    "assert isinstance(obj, PippoInterface)"
   ]
  },
  {
   "cell_type": "markdown",
   "metadata": {
    "slideshow": {
     "slide_type": "skip"
    }
   },
   "source": [
    "## Classes bodies are code blocks\n",
    "\n",
    "Classes bodies are code blocks that get executed when the class is defined.\n",
    "\n",
    "This means that any construct that one might want to employ is legitimate, including exotic ones such as conditional declaration.\n",
    "\n",
    "Albeit not very useful in global space classes, it is useful in some situations such as second order classes.\n"
   ]
  },
  {
   "cell_type": "code",
   "execution_count": 47,
   "metadata": {
    "slideshow": {
     "slide_type": "skip"
    }
   },
   "outputs": [
    {
     "name": "stdout",
     "output_type": "stream",
     "text": [
      "I'm executing but not doing anything, with a value of 4\n"
     ]
    }
   ],
   "source": [
    "class Temp:\n",
    "    a = 4\n",
    "    print(f\"I'm executing but not doing anything, with a value of {a}\")\n",
    "    del a\n",
    "    \n",
    "assert not hasattr(Temp, 'a')"
   ]
  },
  {
   "cell_type": "code",
   "execution_count": 82,
   "metadata": {
    "slideshow": {
     "slide_type": "skip"
    }
   },
   "outputs": [
    {
     "name": "stderr",
     "output_type": "stream",
     "text": [
      "WARNING:root:setting 'a' to 3\n"
     ]
    }
   ],
   "source": [
    "debug_mode = True\n",
    "import logging\n",
    "\n",
    "class Conditional:\n",
    "    if not debug_mode:\n",
    "        def __init__(self, a):\n",
    "            self.a = a\n",
    "    else:\n",
    "        def __init__(self, a):\n",
    "            self.a = a\n",
    "            logging.warning(\"setting 'a' to {}\".format(a))\n",
    "            \n",
    "myobj = Conditional(a=3)"
   ]
  },
  {
   "cell_type": "markdown",
   "metadata": {
    "slideshow": {
     "slide_type": "skip"
    }
   },
   "source": [
    "note that changing the value of `debug_mode` mode does not change the behavior of the class.\n",
    "\n",
    "The definition itself was conditional, now the behavior is determined."
   ]
  },
  {
   "cell_type": "code",
   "execution_count": 83,
   "metadata": {
    "slideshow": {
     "slide_type": "skip"
    }
   },
   "outputs": [
    {
     "name": "stderr",
     "output_type": "stream",
     "text": [
      "WARNING:root:setting 'a' to 3\n"
     ]
    }
   ],
   "source": [
    "debug_mode = False\n",
    "myobj = Conditional(a=3)"
   ]
  },
  {
   "cell_type": "markdown",
   "metadata": {
    "slideshow": {
     "slide_type": "skip"
    }
   },
   "source": [
    "note that there is a limitation: it is not possible to reference the class itself inside its definition.\n",
    "\n",
    "This is because the class name is bound to the namaspace only after the definition code has been run, and it does not exists beforehand"
   ]
  },
  {
   "cell_type": "markdown",
   "metadata": {
    "slideshow": {
     "slide_type": "skip"
    }
   },
   "source": [
    "## Uniform Calling Syntax\n",
    "\n",
    "Python does not normally support it, but nothing stops you from implementing it for some specific classes.\n",
    "\n",
    "You probably shouldn't, but hey, who's going to stop you?"
   ]
  },
  {
   "cell_type": "code",
   "execution_count": 1,
   "metadata": {
    "slideshow": {
     "slide_type": "skip"
    }
   },
   "outputs": [
    {
     "data": {
      "text/plain": [
       "18"
      ]
     },
     "execution_count": 1,
     "metadata": {},
     "output_type": "execute_result"
    }
   ],
   "source": [
    "from functools import partial\n",
    "class DarkMagic:\n",
    "    def __getattr__(self, name):\n",
    "        func = eval(name) # dynamical resolution of the function name\n",
    "        if not callable(func):\n",
    "            raise TypeError(\"the requested dynamic attribute with name <{}> is not a function\".format(name))\n",
    "        return partial(func, self)\n",
    "    \n",
    "def hideous_function(self, b):\n",
    "    return self.a*b*2\n",
    "\n",
    "dark_beast = DarkMagic()\n",
    "dark_beast.a = 3\n",
    "dark_beast.hideous_function(b=3)"
   ]
  },
  {
   "cell_type": "markdown",
   "metadata": {
    "slideshow": {
     "slide_type": "skip"
    }
   },
   "source": [
    "## secret attributes with unproper names"
   ]
  },
  {
   "cell_type": "code",
   "execution_count": 85,
   "metadata": {
    "slideshow": {
     "slide_type": "skip"
    }
   },
   "outputs": [
    {
     "name": "stdout",
     "output_type": "stream",
     "text": [
      "3\n"
     ]
    },
    {
     "data": {
      "text/plain": [
       "\u001b[0;35mproperty:\u001b[0m\n",
       "    \u001b[0;34m_secret 'a'\u001b[0m\n",
       "\u001b[0;35mspecial attribute:\u001b[0m\n",
       "    \u001b[0;34m__dict__\u001b[0m\u001b[1;34m, \u001b[0m\u001b[0;34m__doc__\u001b[0m\u001b[1;34m, \u001b[0m\u001b[0;34m__module__\u001b[0m\u001b[1;34m, \u001b[0m\u001b[0;34m__weakref__\u001b[0m\n",
       "\u001b[0;35mobject customization:\u001b[0m\n",
       "    \u001b[0;34m__init__\u001b[0m\n",
       "\u001b[0;35mdescriptor:\u001b[0m\n",
       "    \u001b[0;34ma\u001b[0m\u001b[0;34m: \u001b[0m\u001b[1;30m@property with getter\u001b[0m"
      ]
     },
     "execution_count": 85,
     "metadata": {},
     "output_type": "execute_result"
    }
   ],
   "source": [
    "# if you know what you're doing, you can do some weird ass stuff\n",
    "# like attributes with names that are not legitimate attribute names \n",
    "# and can't therefore be accessed with the dot operator\n",
    "class HiddenMagic:\n",
    "    def __init__(self, a):\n",
    "        setattr(self, \"_secret 'a'\", a)\n",
    "        \n",
    "    @property\n",
    "    def a(self):\n",
    "        return getattr(self, \"_secret 'a'\")\n",
    "        \n",
    "crazy_obj = HiddenMagic(3)\n",
    "print(crazy_obj.a)\n",
    "dir(crazy_obj).own"
   ]
  },
  {
   "cell_type": "markdown",
   "metadata": {
    "slideshow": {
     "slide_type": "skip"
    }
   },
   "source": [
    "## transparent wrapping objects relying attributes exploiting unproper names"
   ]
  },
  {
   "cell_type": "code",
   "execution_count": 89,
   "metadata": {
    "slideshow": {
     "slide_type": "skip"
    }
   },
   "outputs": [
    {
     "name": "stdout",
     "output_type": "stream",
     "text": [
      "2 2\n",
      "<__main__.Empty object at 0x7fbf54091860>\n"
     ]
    }
   ],
   "source": [
    "class Wrapper:\n",
    "    @classmethod\n",
    "    def unwrap(cls, obj):\n",
    "        return getattr(obj, \"_ other _ \")\n",
    "    \n",
    "    def __init__(self, other):\n",
    "        self.__dict__[\"_ other _ \"] = other\n",
    "        \n",
    "    def __getattr__(self, name):\n",
    "        other = getattr(self, \"_ other _ \")\n",
    "        return getattr(other, name)\n",
    "    \n",
    "    def __setattr__(self, name, value):\n",
    "        other = getattr(self, \"_ other _ \")\n",
    "        return setattr(other, name, value)\n",
    "    \n",
    "class Empty:\n",
    "    pass\n",
    "\n",
    "tipo = Empty()\n",
    "wrapped = Wrapper(tipo)\n",
    "wrapped.a = 2\n",
    "print(wrapped.a, tipo.a)\n",
    "print(Wrapper.unwrap(wrapped))"
   ]
  },
  {
   "cell_type": "markdown",
   "metadata": {
    "slideshow": {
     "slide_type": "skip"
    }
   },
   "source": [
    "## Dynamical class change of an instance"
   ]
  },
  {
   "cell_type": "code",
   "execution_count": 86,
   "metadata": {
    "slideshow": {
     "slide_type": "skip"
    }
   },
   "outputs": [
    {
     "data": {
      "text/plain": [
       "\"I'm fabulous\""
      ]
     },
     "execution_count": 86,
     "metadata": {},
     "output_type": "execute_result"
    }
   ],
   "source": [
    "class Worm:\n",
    "    def mutate(self):\n",
    "        self.__class__ = Butterfly\n",
    "        \n",
    "class Butterfly:\n",
    "    def describe(self):\n",
    "        return \"I'm fabulous\"\n",
    "\n",
    "beast = Worm()\n",
    "beast.mutate()\n",
    "beast.describe()"
   ]
  },
  {
   "cell_type": "markdown",
   "metadata": {
    "slideshow": {
     "slide_type": "skip"
    }
   },
   "source": [
    "## Attributes with access logging"
   ]
  },
  {
   "cell_type": "code",
   "execution_count": 87,
   "metadata": {
    "slideshow": {
     "slide_type": "skip"
    }
   },
   "outputs": [
    {
     "name": "stdout",
     "output_type": "stream",
     "text": [
      "3\n",
      "3\n",
      "RWcounts(reads=2, writes=1)\n"
     ]
    }
   ],
   "source": [
    "# implements a count access for an attribute...this is terrible practices!\n",
    "# this can be done, but one might be better off using a Descriptor\n",
    "from collections import namedtuple\n",
    "rw_counts = namedtuple(\"RWcounts\", [\"reads\", \"writes\"])\n",
    "\n",
    "class AnotherWeirdo:\n",
    "    def __init__(self):\n",
    "        self._a = 0\n",
    "        self._a_readings = 0\n",
    "        self._a_writings = 0\n",
    "    \n",
    "    @property\n",
    "    def a(self):\n",
    "        self._a_readings += 1\n",
    "        return self._a\n",
    "    \n",
    "    @a.setter\n",
    "    def a(self, value):\n",
    "        self._a_writings += 1\n",
    "        self._a = value\n",
    "        \n",
    "    def get_access_stats(self):\n",
    "        return rw_counts(self._a_readings, self._a_writings)\n",
    "        \n",
    "weirdo = AnotherWeirdo()\n",
    "weirdo.a = 3\n",
    "print(weirdo.a)\n",
    "print(weirdo.a)\n",
    "print(weirdo.get_access_stats())"
   ]
  },
  {
   "cell_type": "markdown",
   "metadata": {
    "slideshow": {
     "slide_type": "skip"
    }
   },
   "source": [
    "## Calling interfaces (such as `pandas.Series.str`)"
   ]
  },
  {
   "cell_type": "code",
   "execution_count": 88,
   "metadata": {
    "slideshow": {
     "slide_type": "skip"
    }
   },
   "outputs": [
    {
     "name": "stdout",
     "output_type": "stream",
     "text": [
      "['a', 'b', 'c', 'd', 'e']\n",
      "['A', 'b', 'c', 'd', 'e']\n"
     ]
    }
   ],
   "source": [
    "# a map-calling interface similar to that of pandas' Series.str\n",
    "class MapInterface:\n",
    "    def __init__(self, target):\n",
    "        setattr(self, \"_ target _\", target)\n",
    "        \n",
    "    def __getattr__(self, function):\n",
    "        setattr(self, \"_ target function_\", function)\n",
    "        return self\n",
    "    \n",
    "    def __call__(self, *args, **kwargs):\n",
    "        target = getattr(self, \"_ target _\")\n",
    "        funcname = getattr(self, \"_ target function_\")\n",
    "        results = []\n",
    "        for item in target:\n",
    "            function = getattr(item, funcname)\n",
    "            result = function(*args, **kwargs)\n",
    "            results.append(result)\n",
    "        return MyList(results)\n",
    "            \n",
    "class MyList(list):\n",
    "    @property\n",
    "    def str(self):\n",
    "        return MapInterface(self)\n",
    "        \n",
    "mylist = MyList('abcde')\n",
    "print(mylist)\n",
    "print(mylist.str.replace('a', 'A'))"
   ]
  },
  {
   "cell_type": "markdown",
   "metadata": {
    "slideshow": {
     "slide_type": "skip"
    }
   },
   "source": [
    "## dynamical attribute resolution"
   ]
  },
  {
   "cell_type": "code",
   "execution_count": 250,
   "metadata": {
    "slideshow": {
     "slide_type": "skip"
    }
   },
   "outputs": [
    {
     "name": "stdout",
     "output_type": "stream",
     "text": [
      "(1, 2, 3)\n",
      "{1, 2, 3}\n"
     ]
    }
   ],
   "source": [
    "class MyEvilList(list):\n",
    "    def __getattr__(self, name):\n",
    "        base, cls = name.split('_')\n",
    "        assert base == 'getas'\n",
    "        cls = eval(cls)\n",
    "        return cls(iter(self))\n",
    "    \n",
    "a = MyEvilList([1, 2, 3])\n",
    "print(a.getas_tuple)\n",
    "print(a.getas_set)"
   ]
  },
  {
   "cell_type": "markdown",
   "metadata": {
    "slideshow": {
     "slide_type": "skip"
    }
   },
   "source": [
    "## A sklearn class to perform column selection from a dataframe including columns operations"
   ]
  },
  {
   "cell_type": "code",
   "execution_count": 315,
   "metadata": {
    "slideshow": {
     "slide_type": "skip"
    }
   },
   "outputs": [
    {
     "name": "stdout",
     "output_type": "stream",
     "text": [
      "{'columns': ['a', 'e', 'abs(a)*exp(e)']}\n"
     ]
    },
    {
     "data": {
      "text/html": [
       "<div>\n",
       "<style scoped>\n",
       "    .dataframe tbody tr th:only-of-type {\n",
       "        vertical-align: middle;\n",
       "    }\n",
       "\n",
       "    .dataframe tbody tr th {\n",
       "        vertical-align: top;\n",
       "    }\n",
       "\n",
       "    .dataframe thead th {\n",
       "        text-align: right;\n",
       "    }\n",
       "</style>\n",
       "<table border=\"1\" class=\"dataframe\">\n",
       "  <thead>\n",
       "    <tr style=\"text-align: right;\">\n",
       "      <th></th>\n",
       "      <th>a</th>\n",
       "      <th>e</th>\n",
       "      <th>abs(a)*exp(e)</th>\n",
       "    </tr>\n",
       "  </thead>\n",
       "  <tbody>\n",
       "    <tr>\n",
       "      <th>0</th>\n",
       "      <td>0.987063</td>\n",
       "      <td>0.307840</td>\n",
       "      <td>1.342883</td>\n",
       "    </tr>\n",
       "    <tr>\n",
       "      <th>1</th>\n",
       "      <td>0.817038</td>\n",
       "      <td>-1.034727</td>\n",
       "      <td>0.290312</td>\n",
       "    </tr>\n",
       "    <tr>\n",
       "      <th>2</th>\n",
       "      <td>0.143144</td>\n",
       "      <td>0.078301</td>\n",
       "      <td>0.154803</td>\n",
       "    </tr>\n",
       "    <tr>\n",
       "      <th>3</th>\n",
       "      <td>2.307495</td>\n",
       "      <td>1.301436</td>\n",
       "      <td>8.479050</td>\n",
       "    </tr>\n",
       "    <tr>\n",
       "      <th>4</th>\n",
       "      <td>-0.218387</td>\n",
       "      <td>-0.722837</td>\n",
       "      <td>0.105999</td>\n",
       "    </tr>\n",
       "  </tbody>\n",
       "</table>\n",
       "</div>"
      ],
      "text/plain": [
       "          a         e  abs(a)*exp(e)\n",
       "0  0.987063  0.307840       1.342883\n",
       "1  0.817038 -1.034727       0.290312\n",
       "2  0.143144  0.078301       0.154803\n",
       "3  2.307495  1.301436       8.479050\n",
       "4 -0.218387 -0.722837       0.105999"
      ]
     },
     "execution_count": 315,
     "metadata": {},
     "output_type": "execute_result"
    }
   ],
   "source": [
    "# a class as the one used in the example, but that can parse generic formulas in the dataframe space using eval\n",
    "from dataclasses import dataclass\n",
    "from typing import List\n",
    "import pandas as pd\n",
    "\n",
    "@dataclass\n",
    "class ColumnSelector(BaseEstimator, TransformerMixin):\n",
    "    columns: List[str]\n",
    "\n",
    "    def fit(self, X, y=None):\n",
    "        return self\n",
    "\n",
    "    def transform(self, X: pd.DataFrame):\n",
    "        new_series = {col: X.eval(col) for col in self.columns}\n",
    "        return pd.DataFrame(new_series)\n",
    "\n",
    "\n",
    "df = pd.DataFrame(rn.randn(100, 5), columns=list(\"abcde\"))\n",
    "            \n",
    "cs = ColumnSelector(columns=[\"a\", \"e\", \"abs(a)*exp(e)\"])\n",
    "print(cs.get_params())\n",
    "cs.fit_transform(df).head()"
   ]
  },
  {
   "cell_type": "markdown",
   "metadata": {
    "slideshow": {
     "slide_type": "skip"
    }
   },
   "source": [
    "## write once attributes\n",
    "\n",
    "this class behave like a namespace where the variables can be instantiated with a value and never changed again (can change them internally, but their identity doesn't change)."
   ]
  },
  {
   "cell_type": "code",
   "execution_count": 413,
   "metadata": {
    "slideshow": {
     "slide_type": "skip"
    }
   },
   "outputs": [
    {
     "ename": "AttributeError",
     "evalue": "tried to rewrite an attribute!",
     "output_type": "error",
     "traceback": [
      "\u001b[0;31m---------------------------------------------------------------------------\u001b[0m",
      "\u001b[0;31mAttributeError\u001b[0m                            Traceback (most recent call last)",
      "\u001b[0;32m<ipython-input-413-c9ed41df8539>\u001b[0m in \u001b[0;36m<module>\u001b[0;34m\u001b[0m\n\u001b[1;32m     11\u001b[0m \u001b[0mnamespace\u001b[0m\u001b[0;34m.\u001b[0m\u001b[0mb\u001b[0m \u001b[0;34m=\u001b[0m \u001b[0;36m4\u001b[0m\u001b[0;34m\u001b[0m\u001b[0;34m\u001b[0m\u001b[0m\n\u001b[1;32m     12\u001b[0m \u001b[0;32massert\u001b[0m \u001b[0mnamespace\u001b[0m\u001b[0;34m.\u001b[0m\u001b[0ma\u001b[0m \u001b[0;34m==\u001b[0m \u001b[0;36m4\u001b[0m \u001b[0;34m==\u001b[0m \u001b[0mnamespace\u001b[0m\u001b[0;34m.\u001b[0m\u001b[0mb\u001b[0m\u001b[0;34m\u001b[0m\u001b[0;34m\u001b[0m\u001b[0m\n\u001b[0;32m---> 13\u001b[0;31m \u001b[0mnamespace\u001b[0m\u001b[0;34m.\u001b[0m\u001b[0ma\u001b[0m \u001b[0;34m=\u001b[0m \u001b[0;36m2\u001b[0m\u001b[0;34m\u001b[0m\u001b[0;34m\u001b[0m\u001b[0m\n\u001b[0m",
      "\u001b[0;32m<ipython-input-413-c9ed41df8539>\u001b[0m in \u001b[0;36m__setattr__\u001b[0;34m(self, name, value)\u001b[0m\n\u001b[1;32m      5\u001b[0m     \u001b[0;32mdef\u001b[0m \u001b[0m__setattr__\u001b[0m\u001b[0;34m(\u001b[0m\u001b[0mself\u001b[0m\u001b[0;34m,\u001b[0m \u001b[0mname\u001b[0m\u001b[0;34m,\u001b[0m \u001b[0mvalue\u001b[0m\u001b[0;34m)\u001b[0m\u001b[0;34m:\u001b[0m\u001b[0;34m\u001b[0m\u001b[0;34m\u001b[0m\u001b[0m\n\u001b[1;32m      6\u001b[0m         \u001b[0;32mif\u001b[0m \u001b[0mhasattr\u001b[0m\u001b[0;34m(\u001b[0m\u001b[0mself\u001b[0m\u001b[0;34m,\u001b[0m \u001b[0mname\u001b[0m\u001b[0;34m)\u001b[0m\u001b[0;34m:\u001b[0m\u001b[0;34m\u001b[0m\u001b[0;34m\u001b[0m\u001b[0m\n\u001b[0;32m----> 7\u001b[0;31m             \u001b[0;32mraise\u001b[0m \u001b[0mAttributeError\u001b[0m\u001b[0;34m(\u001b[0m\u001b[0;34m\"tried to rewrite an attribute!\"\u001b[0m\u001b[0;34m)\u001b[0m\u001b[0;34m\u001b[0m\u001b[0;34m\u001b[0m\u001b[0m\n\u001b[0m\u001b[1;32m      8\u001b[0m         \u001b[0msuper\u001b[0m\u001b[0;34m(\u001b[0m\u001b[0;34m)\u001b[0m\u001b[0;34m.\u001b[0m\u001b[0m__setattr__\u001b[0m\u001b[0;34m(\u001b[0m\u001b[0mname\u001b[0m\u001b[0;34m,\u001b[0m \u001b[0mvalue\u001b[0m\u001b[0;34m)\u001b[0m\u001b[0;34m\u001b[0m\u001b[0;34m\u001b[0m\u001b[0m\n\u001b[1;32m      9\u001b[0m \u001b[0;34m\u001b[0m\u001b[0m\n",
      "\u001b[0;31mAttributeError\u001b[0m: tried to rewrite an attribute!"
     ]
    }
   ],
   "source": [
    "class NameSpace:\n",
    "    def __init__(self, **kwargs):\n",
    "        for name, value in kwargs.items():\n",
    "            self.__setattr__(name, value)\n",
    "            \n",
    "    def __setattr__(self, name, value):\n",
    "        if hasattr(self, name):\n",
    "            raise AttributeError(\"tried to rewrite an attribute!\")\n",
    "        super().__setattr__(name, value)\n",
    "        \n",
    "namespace = NameSpace(a=4)\n",
    "namespace.b = 4\n",
    "assert namespace.a == 4 == namespace.b\n",
    "namespace.a = 2"
   ]
  },
  {
   "cell_type": "code",
   "execution_count": null,
   "metadata": {
    "slideshow": {
     "slide_type": "skip"
    }
   },
   "outputs": [],
   "source": [
    "\n",
    "class Container:\n",
    "    seq = list()\n",
    "    \n",
    "instance_1 = Container()\n",
    "instance_2 = Container()\n",
    "\n",
    "instance_1.seq\n",
    "instance_1.seq.append(1)\n",
    "instance_1.seq\n",
    "instance_2.seq\n",
    "# %%\n",
    "from dataclasses import dataclass\n",
    "\n",
    "class Human:\n",
    "    def __init__(self, waist, hip):\n",
    "        self.waist = waist\n",
    "        self.hip = hip\n",
    "        self.w2h_ratio = waist/hip\n",
    "        \n",
    "giorgio = Human(110, 100)\n",
    "giorgio.w2h_ratio\n",
    "\n",
    "giorgio.waist = 100\n",
    "giorgio.w2h_ratio\n",
    "\n",
    "# %%\n",
    "class Human:\n",
    "    def __init__(self, waist, hip):\n",
    "        self.waist = waist\n",
    "        self.hip = hip\n",
    "    \n",
    "    @property\n",
    "    def w2h_ratio(self):\n",
    "        return self.waist/self.hip\n",
    "\n",
    "giorgio = Human(110, 100)\n",
    "giorgio.w2h_ratio\n",
    "\n",
    "giorgio.waist = 100\n",
    "giorgio.w2h_ratio\n",
    "\n",
    "giorgio.w2h_ratio = 2\n",
    "\n",
    "# %%\n",
    "\n",
    "class Something:\n",
    "    def __getattr__(self, name):\n",
    "        if not name.startswith('add_'):\n",
    "            raise AttributeError(\"don't have that attribute\")\n",
    "        number_value = float(name[4:])\n",
    "        return number_value+self.a\n",
    "        \n",
    "\n",
    "namespace = Something()\n",
    "namespace.a = 3\n",
    "namespace.add_7\n",
    "\n",
    "# %%\n",
    "import pylab as plt\n",
    "from sklearn.linear_model import LinearRegression\n",
    "\n",
    "x = plt.rand(100)\n",
    "y = x**2 +1 + plt.randn(100)*0.1\n",
    "\n",
    "plt.scatter(x, y)\n",
    "lin = LinearRegression()\n",
    "lin.fit(x.reshape(-1, 1), y)\n",
    "\n",
    "base = plt.linspace(0,1, 101)\n",
    "\n",
    "y_hat = lin.predict(base.reshape(-1, 1))\n",
    "\n",
    "plt.scatter(x, y); plt.plot(base, y_hat)\n",
    "\n",
    "# %%\n",
    "from dataclasses import dataclass\n",
    "from typing import List\n",
    "from sklearn.base import BaseEstimator, TransformerMixin\n",
    "\n",
    "@dataclass\n",
    "class ColumnSelector(BaseEstimator, TransformerMixin):\n",
    "    columns: List[str]\n",
    "\n",
    "    def fit(self, X, y=None):\n",
    "        return self\n",
    "\n",
    "    def transform(self, X):\n",
    "        return X[self.columns]\n",
    "\n",
    "\n",
    "# %%\n",
    "\n",
    "df = pd.DataFrame(plt.randn(50, 5), columns=list(\"abcde\"))\n",
    "df['y'] = df['a']*3 + 1 + plt.randn(50)\n",
    "y_train = df.loc[:30, 'y']\n",
    "X_train = df.loc[:30, ['a', 'b', 'c', 'd', 'e']]\n",
    "\n",
    "y_test = df.loc[30:, 'y']\n",
    "X_test = df.loc[30:, ['a', 'b', 'c', 'd', 'e']]\n",
    "# %%\n",
    "cs = ColumnSelector(columns=[\"a\", \"e\"])\n",
    "lin = LinearRegression()\n",
    "\n",
    "x_train_reduced = cs.fit_transform(X_train)\n",
    "lin.fit(x_train_reduced, y_train)\n",
    "\n",
    "x_test_reduced = cs.transform(X_test)\n",
    "lin.predict(x_test_reduced)\n",
    "# %%\n",
    "from sklearn.pipeline import make_pipeline\n",
    "pipeline = make_pipeline(ColumnSelector(columns=[\"a\", \"e\"]),\n",
    "                         LinearRegression())\n",
    "\n",
    "pipeline.fit(X_train, y_train)\n",
    "pipeline.predict(X_test)\n",
    "# %%\n",
    "from sklearn.model_selection import cross_val_predict, cross_val_score\n",
    "y = df['y']\n",
    "X = df[['a', 'b', 'c', 'd', 'e']]\n",
    "cross_val_score(pipeline, X, y, cv=5)\n",
    "\n",
    "pipeline.fit(X, y)\n",
    "y_hat = pipeline.predict(X)\n",
    "score(y, y_hat)\n"
   ]
  },
  {
   "cell_type": "markdown",
   "metadata": {
    "slideshow": {
     "slide_type": "skip"
    }
   },
   "source": [
    "#### dynamic validation\n",
    "\n",
    "There is another approach, using the Abstract Base Class mechanics, that allows to check in runtime for any characteristic of my class.\n",
    "\n",
    "it is less general than the Protocol approach, and in general should only be used for some specific cases"
   ]
  },
  {
   "cell_type": "code",
   "execution_count": 48,
   "metadata": {
    "slideshow": {
     "slide_type": "skip"
    }
   },
   "outputs": [],
   "source": [
    "# this is only available in python 3.4+\n",
    "import abc\n",
    "class PippoInterface(abc.ABC):\n",
    "    @classmethod\n",
    "    def __subclasshook__(cls, subclass):\n",
    "        # I define a instance or subclass as having a method called \"pippo\"\n",
    "        return hasattr(subclass, \"pippo\") and callable(getattr(subclass, \"pippo\"))"
   ]
  },
  {
   "cell_type": "code",
   "execution_count": 49,
   "metadata": {
    "slideshow": {
     "slide_type": "skip"
    }
   },
   "outputs": [],
   "source": [
    "class Myclass_1:\n",
    "    def pippo(self):\n",
    "        pass\n",
    "    \n",
    "assert issubclass(Myclass_1, PippoInterface)\n",
    "assert isinstance(Myclass_1(), PippoInterface)"
   ]
  },
  {
   "cell_type": "code",
   "execution_count": 50,
   "metadata": {
    "slideshow": {
     "slide_type": "skip"
    }
   },
   "outputs": [],
   "source": [
    "class Myclass_2:\n",
    "    def pluto(self):\n",
    "        pass\n",
    "    \n",
    "assert not issubclass(Myclass_2, PippoInterface)\n",
    "assert not isinstance(Myclass_2(), PippoInterface)\n"
   ]
  },
  {
   "cell_type": "code",
   "execution_count": 51,
   "metadata": {
    "slideshow": {
     "slide_type": "skip"
    }
   },
   "outputs": [],
   "source": [
    "class Myclass_3:\n",
    "    pippo = 1\n",
    "\n",
    "assert not issubclass(Myclass_3, PippoInterface)\n",
    "assert not isinstance(Myclass_3(), PippoInterface)"
   ]
  },
  {
   "cell_type": "code",
   "execution_count": 52,
   "metadata": {
    "slideshow": {
     "slide_type": "skip"
    }
   },
   "outputs": [],
   "source": [
    "# can be used to distinguish classes based on some attribut value\n",
    "# would allow to simulate composition\n",
    "# even if plain composition is just better\n",
    "\n",
    "class PippoInterface(abc.ABC):\n",
    "    @classmethod\n",
    "    def __subclasshook__(cls, subclass):\n",
    "        # I define a instance or subclass as having a method called \"pippo\"\n",
    "        return hasattr(subclass, \"pippo\") and getattr(subclass, \"pippo\")==True"
   ]
  },
  {
   "cell_type": "code",
   "execution_count": 55,
   "metadata": {
    "slideshow": {
     "slide_type": "skip"
    }
   },
   "outputs": [],
   "source": [
    "class Myclass_1:\n",
    "    pippo = True\n",
    "    \n",
    "assert issubclass(Myclass_1, PippoInterface)\n",
    "assert isinstance(Myclass_1(), PippoInterface)"
   ]
  },
  {
   "cell_type": "code",
   "execution_count": 57,
   "metadata": {
    "slideshow": {
     "slide_type": "skip"
    }
   },
   "outputs": [],
   "source": [
    "class Myclass_1:\n",
    "    pippo = False\n",
    "    \n",
    "assert not issubclass(Myclass_1, PippoInterface)\n",
    "b = Myclass_1()\n",
    "assert not isinstance(b, PippoInterface)\n",
    "# it doesn't check the instance value!\n",
    "b.pippo = True\n",
    "assert not isinstance(b, PippoInterface)"
   ]
  }
 ],
 "metadata": {
  "celltoolbar": "Slideshow",
  "kernelspec": {
   "display_name": "Python 3 (ipykernel)",
   "language": "python",
   "name": "python3"
  },
  "language_info": {
   "codemirror_mode": {
    "name": "ipython",
    "version": 3
   },
   "file_extension": ".py",
   "mimetype": "text/x-python",
   "name": "python",
   "nbconvert_exporter": "python",
   "pygments_lexer": "ipython3",
   "version": "3.9.16"
  }
 },
 "nbformat": 4,
 "nbformat_minor": 2
}
