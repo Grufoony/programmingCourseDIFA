{
 "cells": [
  {
   "cell_type": "markdown",
   "metadata": {
    "slideshow": {
     "slide_type": "slide"
    }
   },
   "source": [
    "# Functional programming"
   ]
  },
  {
   "cell_type": "markdown",
   "metadata": {
    "slideshow": {
     "slide_type": "slide"
    }
   },
   "source": [
    "**Functional Programming** is the 3th and last programming paradigm that we will discuss, after the **Procedural** and the **Object Oriented** one.\n",
    "\n",
    "just as a review:\n",
    "\n",
    "* **procedural** refers to the idea of chaining one direct command after the other, explaining to the machine how to perform each step in order\n",
    "* **object oriented** refers to the idea of using objects and messages to subdivide the responsabilities of the execution"
   ]
  },
  {
   "cell_type": "markdown",
   "metadata": {
    "slideshow": {
     "slide_type": "slide"
    }
   },
   "source": [
    "In the functional programming we shift the attention from **how** to do something and **who** should be doing it, but rather on **what** should be done."
   ]
  },
  {
   "cell_type": "markdown",
   "metadata": {
    "slideshow": {
     "slide_type": "slide"
    }
   },
   "source": [
    "The idea of functional programming derive from the mathematical theory of **lambda (λ) calculus**.\n",
    "\n",
    "You will see this reflected in some higher level of formality in some passages in these lessons."
   ]
  },
  {
   "cell_type": "markdown",
   "metadata": {
    "slideshow": {
     "slide_type": "slide"
    }
   },
   "source": [
    "One of core concepts of functional programming is the lack of **side effects**.\n",
    "\n",
    "When it is referred to functions, that implies **function purity** (we discussed this already).\n",
    "\n",
    "When it is referred to objects, it is defined **immutability**."
   ]
  },
  {
   "cell_type": "markdown",
   "metadata": {
    "slideshow": {
     "slide_type": "slide"
    }
   },
   "source": [
    "Just as a reminder, what are side effects? anything that does change the state of the objects passed as input or world as a whole:\n",
    "\n",
    "* reading o writing any filesystem, database, network, terminal, screen, etc...\n",
    "* raising exceptions (this is an hard one in python!)\n",
    "* accessing global or nonlocal state\n",
    "* changing any object state\n",
    "\n",
    "ideally any side effect should only happend at the most external layer of the program, at least as much as posible"
   ]
  },
  {
   "cell_type": "markdown",
   "metadata": {
    "slideshow": {
     "slide_type": "slide"
    }
   },
   "source": [
    "To make it clear, functional programming should not be treated as a religious dogma, but more like a guideline.\n",
    "\n",
    "The more you can align your program with it, the easier it will be to:\n",
    "* test (in particular unit testing)\n",
    "* optimize\n",
    "* parallelize\n",
    "* reason about\n",
    "\n",
    "but it is not a rule, only a possible approach!"
   ]
  },
  {
   "cell_type": "markdown",
   "metadata": {
    "slideshow": {
     "slide_type": "slide"
    }
   },
   "source": [
    "Funcional programming has also some downsides that you have to keep in mind:\n",
    "\n",
    "* can bring the programs to be extremely \"dense\" and somewhat hard to reason about\n",
    "* most programmers are not familiar with it and might find it difficult to reason about\n",
    "* the lack of side effects can sometimes require convoluted approaches to solve somewhat simple problems, like recursive functions\n",
    "* data immutability is not conveniente for big monolithic data structure, where data duplication could lead to serious memory issues (usually one tries to break it down)\n",
    "\n",
    "in particular the last point is strongly related to the idea of tidy data: if we can represent our data in a tidy fashion, it's often easier to distribute and avoid unnecessary duplications."
   ]
  },
  {
   "cell_type": "markdown",
   "metadata": {
    "slideshow": {
     "slide_type": "slide"
    }
   },
   "source": [
    "In the standard library there are 3 modules that focus all the necessary for functional programming applications:\n",
    "\n",
    "* **functools**, that contains the main methods for functional programming\n",
    "* **operator**, a collection of methods intended to be composed with others\n",
    "* **itertools**, that contains all the function to process and generate iterators"
   ]
  },
  {
   "cell_type": "markdown",
   "metadata": {
    "slideshow": {
     "slide_type": "slide"
    }
   },
   "source": [
    "# Functions as first class citizens\n",
    "\n",
    "As the name implies, functions (in particular pure ones) hold a special place in the theory of functional programming.\n",
    "\n",
    "The main idea is that functions need to be **first class citizen** of the language, meaning that they can be created, inspected, modified and passed around as arguments to other functions.\n",
    "\n",
    "In the same way as in Object Oriented programming the whole focus was on creating, inspecting, modifying and passing around objects to do the same.\n",
    "\n",
    "From python's point of view the distinction between the two is actually less sharp than normal: functions are just another kind of object, objects can behave as functions"
   ]
  },
  {
   "cell_type": "markdown",
   "metadata": {
    "slideshow": {
     "slide_type": "slide"
    }
   },
   "source": [
    "## function arity\n",
    "\n",
    "one definition that will pop up here and there is the concept of **function arity**\n",
    "\n",
    "this number basically express the number of arguments that a function accepts.\n",
    "\n",
    "functions with a well defined number of arguments are classified based on them:\n",
    "\n",
    "0. nullary\n",
    "1. monadic\n",
    "2. dyadic\n",
    "3. triadic\n",
    "etc.."
   ]
  },
  {
   "cell_type": "markdown",
   "metadata": {
    "slideshow": {
     "slide_type": "slide"
    }
   },
   "source": [
    "functions that have a non well defined number of arguments (typically involving the `*args` argument in the function definition) are referred as **variadic**.\n",
    "\n",
    "in functional programming variadic functions are not very common, because it makes impossible to make assumptions on the number of arguments available and thus some operations (such as currying) becomes undefined."
   ]
  },
  {
   "cell_type": "markdown",
   "metadata": {
    "slideshow": {
     "slide_type": "slide"
    }
   },
   "source": [
    "### Lambdas\n",
    "\n",
    "The first element we need to talk about are **anonymous functions**, usually referred as **lambdas** in functional programming (from the idea of lambda calculus).\n",
    "\n",
    "Anonymous functions are functions created on the fly, usually for some small task.\n",
    "\n",
    "Python allows the creation of lambdas, but with the limitation that they can only contain one single expression (something that returns a value, but not stuff like assignments and such).\n",
    "\n",
    "```python\n",
    "    lambda <arguments_list>: <single_expression>\n",
    "```\n",
    "\n",
    "lamdas can accept arguments basically with the same exact syntax of a normal function"
   ]
  },
  {
   "cell_type": "markdown",
   "metadata": {
    "slideshow": {
     "slide_type": "slide"
    }
   },
   "source": [
    "the definition:\n",
    "\n",
    "```python\n",
    "lambda x, y: x+y\n",
    "```\n",
    "\n",
    "is exactly equivalent to:\n",
    "\n",
    "```python\n",
    "\n",
    "def sum(x, y):\n",
    "    return x+y\n",
    "```"
   ]
  },
  {
   "cell_type": "markdown",
   "metadata": {
    "slideshow": {
     "slide_type": "slide"
    }
   },
   "source": [
    "Lambdas, due to the way they are defined, are missing insight informations such as the function name, docstrings, etc..."
   ]
  },
  {
   "cell_type": "markdown",
   "metadata": {
    "slideshow": {
     "slide_type": "slide"
    }
   },
   "source": [
    "Full disclosure: I explained lambdas just because it's a construct you will find often in the wild.\n",
    "\n",
    "Personally I **never** use them, and I still have to see a convincing case where using a lambda would be more appropriate than using a fully named function."
   ]
  },
  {
   "cell_type": "markdown",
   "metadata": {
    "slideshow": {
     "slide_type": "slide"
    }
   },
   "source": [
    "Also, most functions that one thinks needs to be implemented as lambdas are usually either:\n",
    "* better written as a comprehension\n",
    "* included in the **operator** standard library module\n",
    "* already a method of the class of object you want to work on\n",
    "* easily obtained through function composition\n",
    "* already present in a third party library such as **toolz** (a very common library for functional programming in python)\n",
    "* better and clearer once implemented as named functions if the previous solutions are not possible"
   ]
  },
  {
   "cell_type": "markdown",
   "metadata": {
    "slideshow": {
     "slide_type": "slide"
    }
   },
   "source": [
    "There is actually one situation where I find the lambdas to be useful: interactive programming.\n",
    "\n",
    "if you are writing code on the fly to perform some operations using python, sometimes it's easier to write a lambda rather than a full fledged function, and it might not be worth the time to search the libraries to find a replacement for it."
   ]
  },
  {
   "cell_type": "markdown",
   "metadata": {
    "slideshow": {
     "slide_type": "slide"
    }
   },
   "source": [
    "## Higher order function\n",
    "\n",
    "One quirk of the pyhton syntax is the ability to define functions and classes inside the body of other functions and classes.\n",
    "\n",
    "This means that a function can not only have another function as input, but can also output a third function as a result.\n",
    "\n",
    "we will see two different application of this ability in **partial** functions and **decorated** functions"
   ]
  },
  {
   "cell_type": "code",
   "execution_count": 1,
   "metadata": {
    "slideshow": {
     "slide_type": "slide"
    }
   },
   "outputs": [
    {
     "name": "stdout",
     "output_type": "stream",
     "text": [
      "<function factory.<locals>.internal_function at 0x7f077c439af0>\n",
      " hi everybody!\n"
     ]
    }
   ],
   "source": [
    "def factory(name):\n",
    "    def internal_function():\n",
    "        print(f\" hi {name}!\")\n",
    "    return internal_function\n",
    "        \n",
    "greeter = factory(\"everybody\")\n",
    "print(greeter)\n",
    "greeter()"
   ]
  },
  {
   "cell_type": "markdown",
   "metadata": {
    "slideshow": {
     "slide_type": "slide"
    }
   },
   "source": [
    "for example the following function takes a base function and return another one that repeats the original one a certain number of times."
   ]
  },
  {
   "cell_type": "code",
   "execution_count": 32,
   "metadata": {
    "slideshow": {
     "slide_type": "slide"
    }
   },
   "outputs": [
    {
     "data": {
      "text/plain": [
       "['hello Paolo!', 'hello Paolo!', 'hello Paolo!']"
      ]
     },
     "execution_count": 32,
     "metadata": {},
     "output_type": "execute_result"
    }
   ],
   "source": [
    "def repeat(function, n):\n",
    "    def _internal_function(*args, **kwargs):\n",
    "        result = []\n",
    "        for i in range(n):\n",
    "            res = function(*args, **kwargs)\n",
    "            results.append(res)\n",
    "        return result\n",
    "    return _internal_function\n",
    "\n",
    "def wave(name):\n",
    "    return f\"hello {name}!\"\n",
    "\n",
    "triple_string = repeat(wave, 3)\n",
    "\n",
    "triple_string(\"Paolo\")"
   ]
  },
  {
   "cell_type": "markdown",
   "metadata": {
    "slideshow": {
     "slide_type": "slide"
    }
   },
   "source": [
    "### Closures\n",
    "\n",
    "As you can see, there is something odd in the previous function: we called the external one with the parameter `n=3`, and then we reference that value of n, even if we define a global one with a different value.\n",
    "\n",
    "The function keeps track of the environment it was created into, and brings with it the values it needs in the future. this is called a **closure**, and it is fundamental for the higher functions management."
   ]
  },
  {
   "cell_type": "code",
   "execution_count": 33,
   "metadata": {
    "slideshow": {
     "slide_type": "slide"
    }
   },
   "outputs": [
    {
     "data": {
      "text/plain": [
       "(<cell at 0x7ff3284e8f78: function object at 0x7ff32854d950>,\n",
       " <cell at 0x7ff3284e8a98: int object at 0x55a0cf2109e0>)"
      ]
     },
     "execution_count": 33,
     "metadata": {},
     "output_type": "execute_result"
    }
   ],
   "source": [
    "triple_string.__closure__"
   ]
  },
  {
   "cell_type": "code",
   "execution_count": 34,
   "metadata": {
    "slideshow": {
     "slide_type": "slide"
    }
   },
   "outputs": [
    {
     "data": {
      "text/plain": [
       "<function __main__.wave(name)>"
      ]
     },
     "execution_count": 34,
     "metadata": {},
     "output_type": "execute_result"
    }
   ],
   "source": [
    "a = triple_string.__closure__[0]\n",
    "a.cell_contents"
   ]
  },
  {
   "cell_type": "code",
   "execution_count": 44,
   "metadata": {
    "slideshow": {
     "slide_type": "slide"
    }
   },
   "outputs": [
    {
     "data": {
      "text/plain": [
       "3"
      ]
     },
     "execution_count": 44,
     "metadata": {},
     "output_type": "execute_result"
    }
   ],
   "source": [
    "a = triple_string.__closure__[1]\n",
    "a.cell_contents"
   ]
  },
  {
   "cell_type": "markdown",
   "metadata": {
    "slideshow": {
     "slide_type": "slide"
    }
   },
   "source": [
    "### Abstracting program logic\n",
    "\n",
    "A main use of functional programming is to abstract pieces of logic of a program and encapsulate them in function.\n",
    "\n",
    "For example, one common pattern that is often encountered is:\n",
    "1. take a list of objects and a function\n",
    "2. create a new list\n",
    "3. one at the time aplly the function to all the elements of the initial list\n",
    "4. store each result in the new list\n",
    "\n",
    "This operation is very common in programs, and can be abstracted using the `map` function, that takes a function and a list and does exactly that.\n",
    "\n",
    "`map` is already implemented in python, but for the sake of teaching, let's implement a simplified version of it"
   ]
  },
  {
   "cell_type": "code",
   "execution_count": 39,
   "metadata": {
    "slideshow": {
     "slide_type": "slide"
    }
   },
   "outputs": [
    {
     "data": {
      "text/plain": [
       "[1.0, 3.0, 5.3]"
      ]
     },
     "execution_count": 39,
     "metadata": {},
     "output_type": "execute_result"
    }
   ],
   "source": [
    "def _map(function, sequence):\n",
    "    new_seq = []\n",
    "    for element in sequence:\n",
    "        result = function(element)\n",
    "        new_seq.append(result)\n",
    "    return new_seq\n",
    "\n",
    "data = ['1', '3', '5.3']\n",
    "_map(float, data)"
   ]
  },
  {
   "cell_type": "code",
   "execution_count": 40,
   "metadata": {
    "slideshow": {
     "slide_type": "-"
    }
   },
   "outputs": [
    {
     "data": {
      "text/plain": [
       "[1.0, 3.0, 5.3]"
      ]
     },
     "execution_count": 40,
     "metadata": {},
     "output_type": "execute_result"
    }
   ],
   "source": [
    "[float(s) for s in data]"
   ]
  },
  {
   "cell_type": "markdown",
   "metadata": {
    "slideshow": {
     "slide_type": "slide"
    }
   },
   "source": [
    "#### example - fixed point function\n",
    "\n",
    "A common pattern in numerical operations is to use a fixed point function, meaning that we apply a function repeatedly until the result is identical to the input.\n",
    "\n",
    "This for example is common to iterative solvers: we take an approximate solution, improve it, and if it's not good enough we repeat the procedure"
   ]
  },
  {
   "cell_type": "markdown",
   "metadata": {
    "slideshow": {
     "slide_type": "slide"
    }
   },
   "source": [
    "```python\n",
    "def fixed_point(mapper, stop_condition, starting_state):\n",
    "    old_state = starting_state\n",
    "    while True:\n",
    "        new_state = mapper(old_state)\n",
    "        if stop_condition(new_state, old_state):\n",
    "            break\n",
    "    return new_state\n",
    "```"
   ]
  },
  {
   "cell_type": "markdown",
   "metadata": {
    "slideshow": {
     "slide_type": "slide"
    }
   },
   "source": [
    "This approach allows to create \"verbs\" that express ideas in a language closer to the one that is used in the specific field that one is working it.\n",
    "\n",
    "This has the advantage of making the program more readable to those that understand the domain.\n",
    "At the same time, if one is not familiar with the domain and the verbs defined, it can make it hard to understand."
   ]
  },
  {
   "cell_type": "markdown",
   "metadata": {
    "slideshow": {
     "slide_type": "slide"
    }
   },
   "source": [
    "### partial application\n",
    "\n",
    "a very common use of higher order functions is partial applications.\n",
    "\n",
    "partial applications means \"freezing\" some of the parameters of a function so that they don't need to be re-typed every time.\n",
    "\n",
    "this is implemented using the function **partial** from the module **functools**."
   ]
  },
  {
   "cell_type": "code",
   "execution_count": 46,
   "metadata": {
    "slideshow": {
     "slide_type": "slide"
    }
   },
   "outputs": [
    {
     "data": {
      "text/plain": [
       "'luigi'"
      ]
     },
     "execution_count": 46,
     "metadata": {},
     "output_type": "execute_result"
    }
   ],
   "source": [
    "from functools import partial\n",
    "\n",
    "def retrieve_key(mapping, keyname):\n",
    "    return mapping[keyname]\n",
    "\n",
    "get_name = partial(retrieve_key, keyname='name')\n",
    "\n",
    "data = {'name': 'luigi', 'age': 39}\n",
    "get_name(data)"
   ]
  },
  {
   "cell_type": "markdown",
   "metadata": {
    "slideshow": {
     "slide_type": "slide"
    }
   },
   "source": [
    "#### note - bound methods\n",
    "\n",
    "bound methods are, at their most fundamental point, just partial version of the class method, where the first parameter, usually calle `self`, has been bound to the instance calling the method.\n",
    "\n",
    "If you recall the lesson on object oriented programming, we discussed how to dynamically add attribute to an instance using the `MethodType` from the `types` module.\n",
    "\n",
    "This is basically how it worked: `MethodType` is nothing more than a glorified **partial**... it does even have the same arguments order!"
   ]
  },
  {
   "cell_type": "code",
   "execution_count": 48,
   "metadata": {
    "slideshow": {
     "slide_type": "slide"
    }
   },
   "outputs": [
    {
     "data": {
      "text/plain": [
       "'hello!'"
      ]
     },
     "execution_count": 48,
     "metadata": {},
     "output_type": "execute_result"
    }
   ],
   "source": [
    "class Empty:\n",
    "    pass\n",
    "\n",
    "namespace = Empty()\n",
    "\n",
    "def myfun(self):\n",
    "    return \"hello!\"\n",
    "\n",
    "namespace.f = partial(myfun, namespace)\n",
    "namespace.f()"
   ]
  },
  {
   "cell_type": "markdown",
   "metadata": {
    "slideshow": {
     "slide_type": "slide"
    }
   },
   "source": [
    "#### replacing objects with partials\n",
    "\n",
    "Sometimes we end up defining objects that are just a simple container for a status that gets initialized in the init and then only one method get called everytime.\n",
    "\n",
    "These objects are basically implementing the partial function, and can be replaced with a restructured function, obtaining even more flexibility in the transition."
   ]
  },
  {
   "cell_type": "markdown",
   "metadata": {
    "slideshow": {
     "slide_type": "slide"
    }
   },
   "source": [
    "```python\n",
    "class GetDataFromDB:\n",
    "    def __init__(self, database_uri):\n",
    "        self.database = database_uri\n",
    "        \n",
    "    def query(self, sql_query):\n",
    "        return self.database.run(sql_query)\n",
    "```"
   ]
  },
  {
   "cell_type": "markdown",
   "metadata": {
    "slideshow": {
     "slide_type": "slide"
    }
   },
   "source": [
    "This can be replace by a simple function, and the the equivalent of the instance of the object replace simply by a partial\n",
    "\n",
    "```python\n",
    "def query_db(database_uri, sql_query):\n",
    "    return database_uri.run(sql_query)\n",
    "\n",
    "run_on_sqlite = partial(query_db, \"my_sqlite_uri\")\n",
    "run_on_sqlite(\"SELECT * FROM users\")\n",
    "```"
   ]
  },
  {
   "cell_type": "markdown",
   "metadata": {
    "slideshow": {
     "slide_type": "slide"
    }
   },
   "source": [
    "Not only is simpler to implement and understand (assuming one knows how partial works), but it also lends itself to a greater generalization.\n",
    "\n",
    "We could for example bind the other parameter and immediately obtain something that run the same query on several databases!\n",
    "\n",
    "```python\n",
    "get_all_db_users = partial(sql_query, \"SELECT * FROM users\")\n",
    "get_all_db_users(\"my_sqlite_uri\")\n",
    "```"
   ]
  },
  {
   "cell_type": "markdown",
   "metadata": {
    "slideshow": {
     "slide_type": "slide"
    }
   },
   "source": [
    "Most of the functions that can be found in the operator module are designed to be used with partial, or are returning partial objects.\n",
    "\n",
    "for example, **itemgetter**, is basically equivalent to the function we implemented earlier (just a bit more powerful, as it can return multiple elements as a tuple)"
   ]
  },
  {
   "cell_type": "code",
   "execution_count": 55,
   "metadata": {
    "slideshow": {
     "slide_type": "slide"
    }
   },
   "outputs": [
    {
     "data": {
      "text/plain": [
       "'franco'"
      ]
     },
     "execution_count": 55,
     "metadata": {},
     "output_type": "execute_result"
    }
   ],
   "source": [
    "from operator import itemgetter\n",
    "\n",
    "data = {'name': 'franco'}\n",
    "\n",
    "get_name = itemgetter('name')\n",
    "get_name(data)"
   ]
  },
  {
   "cell_type": "markdown",
   "metadata": {
    "slideshow": {
     "slide_type": "slide"
    }
   },
   "source": [
    "## Currying\n",
    "\n",
    "**Currying** a function is a common concept in functional programming, and is often confused with partial applications.\n",
    "\n",
    "We don't really need currying in python, but if used properly it can lead to some interesting results.\n",
    "\n",
    "The starting point for the discussion is that currying is a tranformation method applied to a function with a specifi arity (so it is not well defined for variadic functions)"
   ]
  },
  {
   "cell_type": "markdown",
   "metadata": {
    "slideshow": {
     "slide_type": "slide"
    }
   },
   "source": [
    "The formal idea is that currying transform a poly-adic function in an equivalent serie of monadic functions.\n",
    "\n",
    "For example it transform a diadic function in one monadic function, that returns another monadic function that can finally return the result.\n",
    "\n",
    "Let's see an example of this idea, that could come off as weird at the start."
   ]
  },
  {
   "cell_type": "markdown",
   "metadata": {
    "slideshow": {
     "slide_type": "slide"
    }
   },
   "source": [
    "Let's consider a function that add two numbers.\n",
    "\n",
    "```python\n",
    "def add(x, y):\n",
    "    return x+y\n",
    "```\n",
    "\n",
    "the curryfied version of it would be:"
   ]
  },
  {
   "cell_type": "code",
   "execution_count": 59,
   "metadata": {
    "slideshow": {
     "slide_type": "slide"
    }
   },
   "outputs": [
    {
     "data": {
      "text/plain": [
       "7"
      ]
     },
     "execution_count": 59,
     "metadata": {},
     "output_type": "execute_result"
    }
   ],
   "source": [
    "def add(x):\n",
    "    def _add(y):\n",
    "        return x+y\n",
    "    return _add\n",
    "\n",
    "add_3 = add(3)\n",
    "add_3(4)"
   ]
  },
  {
   "cell_type": "code",
   "execution_count": 60,
   "metadata": {
    "slideshow": {
     "slide_type": "slide"
    }
   },
   "outputs": [
    {
     "data": {
      "text/plain": [
       "7"
      ]
     },
     "execution_count": 60,
     "metadata": {},
     "output_type": "execute_result"
    }
   ],
   "source": [
    "add(3)(4)"
   ]
  },
  {
   "cell_type": "markdown",
   "metadata": {
    "slideshow": {
     "slide_type": "slide"
    }
   },
   "source": [
    "This can seem quite contrived, but it can be quite convenient when we want to pipe functions together.\n",
    "\n",
    "for example, using a map or a filter function with a curried function saves us from having to write unwieldy lambdas:\n",
    "\n",
    "```python\n",
    "map(add(3), numbers)\n",
    "```"
   ]
  },
  {
   "cell_type": "markdown",
   "metadata": {
    "slideshow": {
     "slide_type": "slide"
    }
   },
   "source": [
    "going back to the function seen earlier of `attrgetter`, the proper idea is this:\n",
    "\n",
    "1. we have a function `getattr` that allows us to get a generic attribute from an object\n",
    "2. the `attrgetter` function from the `operator` is the curried version of that function\n",
    "3. once the first call `attrgetter(\"attrname\")` has been done, we have a partial application of the base function with the attribute name as the fixed parameter, as if we called `partial(getattr, name=\"attrname\")`\n",
    "4. once we call it on something else, it extract the chosen attribute and return it to us"
   ]
  },
  {
   "cell_type": "markdown",
   "metadata": {
    "slideshow": {
     "slide_type": "slide"
    }
   },
   "source": [
    "In this case we also performed the curry transformation manually, but it is relatively easy to implement a function to do the currying to us.\n",
    "\n",
    "the library **toolz** provides us as a function that explicitely curry a function in a more elastic way:\n",
    "\n",
    "```python\n",
    "from toolz import curry\n",
    "\n",
    "@curry\n",
    "def mul(x, y):\n",
    "    return x * y\n",
    "\n",
    "double = mul(2) \n",
    "double(5)\n",
    "```"
   ]
  },
  {
   "cell_type": "markdown",
   "metadata": {
    "slideshow": {
     "slide_type": "slide"
    }
   },
   "source": [
    "## Decorators\n",
    "\n",
    "decorators are a \"syntax sugar\" way of applying monadic functions to other functions.\n",
    "\n",
    "Let's assume we have a function that, applied to a function, modifies it and returns it (or return another one that does something different).\n",
    "\n",
    "For example we might want to mark some methods to be save to be called over a web api, and assume all the others are not.\n",
    "To signal this we could use a function attribute such as `is_web_safe` and set it to true.\n",
    "the test could be performed on the functions to be called as:\n",
    "\n",
    "```python\n",
    "getattr(function, \"is_web_safe\", False) # if the attribute is missing, it returns False\n",
    "```"
   ]
  },
  {
   "cell_type": "code",
   "execution_count": null,
   "metadata": {
    "slideshow": {
     "slide_type": "slide"
    }
   },
   "outputs": [],
   "source": [
    "def my_function(param):\n",
    "    return do_something_with_it(param)\n",
    "my_function.is_web_safe = True\n",
    "\n",
    "def set_as_web_safe(function):\n",
    "    function.is_web_safe = True\n",
    "    return function\n",
    "\n",
    "def my_function(param):\n",
    "    return do_something_with_it(param)\n",
    "set_as_web_safe(my_function)"
   ]
  },
  {
   "cell_type": "code",
   "execution_count": 177,
   "metadata": {
    "slideshow": {
     "slide_type": "slide"
    }
   },
   "outputs": [],
   "source": [
    "# we wrap the old function to keep this function pure\n",
    "def set_web_safe(function):\n",
    "    def wrapped_fun(*args, **kwargs):\n",
    "        return function(*args, **kwargs)\n",
    "    wrapped_fun.is_web_safe = True\n",
    "    return wrapped_fun"
   ]
  },
  {
   "cell_type": "code",
   "execution_count": 178,
   "metadata": {
    "slideshow": {
     "slide_type": "slide"
    }
   },
   "outputs": [],
   "source": [
    "def myfunction(a, b):\n",
    "    return a+b"
   ]
  },
  {
   "cell_type": "markdown",
   "metadata": {
    "slideshow": {
     "slide_type": "-"
    }
   },
   "source": [
    "we would apply `set_web_safe` to `myfunction`, and a good option would be to override the original name with the function returned.\n",
    "\n",
    "we wrote a pure function that returns a wrapper to the old one, so to avoid nasty side effects, and we want the user to not have access anymore to the old, undecorated one!"
   ]
  },
  {
   "cell_type": "code",
   "execution_count": 179,
   "metadata": {
    "slideshow": {
     "slide_type": "-"
    }
   },
   "outputs": [],
   "source": [
    "myfunction = set_web_safe(myfunction)"
   ]
  },
  {
   "cell_type": "code",
   "execution_count": 180,
   "metadata": {
    "slideshow": {
     "slide_type": "-"
    }
   },
   "outputs": [
    {
     "data": {
      "text/plain": [
       "True"
      ]
     },
     "execution_count": 180,
     "metadata": {},
     "output_type": "execute_result"
    }
   ],
   "source": [
    "myfunction.is_web_safe"
   ]
  },
  {
   "cell_type": "markdown",
   "metadata": {
    "slideshow": {
     "slide_type": "slide"
    }
   },
   "source": [
    "this operation is so common that python provides an easier way to do it: the **decorator**.\n",
    "\n",
    "You have already seen them, are those names preceded by `@` before the definition of a function"
   ]
  },
  {
   "cell_type": "code",
   "execution_count": 181,
   "metadata": {
    "slideshow": {
     "slide_type": "slide"
    }
   },
   "outputs": [
    {
     "data": {
      "text/plain": [
       "True"
      ]
     },
     "execution_count": 181,
     "metadata": {},
     "output_type": "execute_result"
    }
   ],
   "source": [
    "@set_web_safe\n",
    "def myfunction(a, b):\n",
    "    return a+b\n",
    "\n",
    "myfunction.is_web_safe"
   ]
  },
  {
   "cell_type": "markdown",
   "metadata": {
    "slideshow": {
     "slide_type": "slide"
    }
   },
   "source": [
    "Wrapping could also be used for things like logging, control checks on the parameters, and so on."
   ]
  },
  {
   "cell_type": "code",
   "execution_count": 20,
   "metadata": {
    "slideshow": {
     "slide_type": "slide"
    }
   },
   "outputs": [],
   "source": [
    "logger = []\n",
    "def logging_wrapper(func_to_wrap):\n",
    "    def _wrap(*args, **kwargs):\n",
    "        result = func_to_wrap(*args, **kwargs)\n",
    "        logger.append({'args': args, \n",
    "                       'kwargs': kwargs, \n",
    "                       'result':result})\n",
    "        return result\n",
    "    return _wrap"
   ]
  },
  {
   "cell_type": "code",
   "execution_count": 21,
   "metadata": {
    "slideshow": {
     "slide_type": "slide"
    }
   },
   "outputs": [
    {
     "data": {
      "text/plain": [
       "7"
      ]
     },
     "execution_count": 21,
     "metadata": {},
     "output_type": "execute_result"
    }
   ],
   "source": [
    "@logging_wrapper\n",
    "def mysum(a, b):\n",
    "    \"\"\"docstring of mysum\"\"\"\n",
    "    return a+b\n",
    "\n",
    "mysum(3, 4)"
   ]
  },
  {
   "cell_type": "code",
   "execution_count": 22,
   "metadata": {
    "slideshow": {
     "slide_type": "-"
    }
   },
   "outputs": [
    {
     "name": "stdout",
     "output_type": "stream",
     "text": [
      "[{'args': (3, 4), 'kwargs': {}, 'result': 7}]\n"
     ]
    }
   ],
   "source": [
    "print(logger)"
   ]
  },
  {
   "cell_type": "markdown",
   "metadata": {
    "slideshow": {
     "slide_type": "slide"
    }
   },
   "source": [
    "on this note, when returning some form of wrapper fucntion it is usually a good idea to make sure that the wrapping function returns the same interface as the wrapped one, otherwise it could create some confusion.\n",
    "\n",
    "This can be done using `from functools import wraps`"
   ]
  },
  {
   "cell_type": "code",
   "execution_count": 23,
   "metadata": {
    "slideshow": {
     "slide_type": "slide"
    }
   },
   "outputs": [
    {
     "name": "stdout",
     "output_type": "stream",
     "text": [
      "Help on function _wrap in module __main__:\n",
      "\n",
      "_wrap(*args, **kwargs)\n",
      "\n"
     ]
    }
   ],
   "source": [
    "help(mysum)"
   ]
  },
  {
   "cell_type": "code",
   "execution_count": 24,
   "metadata": {
    "slideshow": {
     "slide_type": "slide"
    }
   },
   "outputs": [],
   "source": [
    "from functools import wraps\n",
    "\n",
    "logger = []\n",
    "def logging_wrapper(func_to_wrap):\n",
    "    @wraps(func_to_wrap)\n",
    "    def _wrap(*args, **kwargs):\n",
    "        result = func_to_wrap(*args, **kwargs)\n",
    "        logger.append((args, kwargs, result))\n",
    "        return result\n",
    "    return _wrap"
   ]
  },
  {
   "cell_type": "code",
   "execution_count": 25,
   "metadata": {
    "slideshow": {
     "slide_type": "slide"
    }
   },
   "outputs": [
    {
     "data": {
      "text/plain": [
       "7"
      ]
     },
     "execution_count": 25,
     "metadata": {},
     "output_type": "execute_result"
    }
   ],
   "source": [
    "@logging_wrapper\n",
    "def mysum(a, b):\n",
    "    \"\"\"docstring of mysum\"\"\"\n",
    "    return a+b\n",
    "\n",
    "mysum(3, 4)"
   ]
  },
  {
   "cell_type": "code",
   "execution_count": 26,
   "metadata": {
    "slideshow": {
     "slide_type": "slide"
    }
   },
   "outputs": [
    {
     "name": "stdout",
     "output_type": "stream",
     "text": [
      "Help on function mysum in module __main__:\n",
      "\n",
      "mysum(a, b)\n",
      "    docstring of mysum\n",
      "\n"
     ]
    }
   ],
   "source": [
    "help(mysum)"
   ]
  },
  {
   "cell_type": "markdown",
   "metadata": {
    "slideshow": {
     "slide_type": "slide"
    }
   },
   "source": [
    "You might have seen decorators that take arguments.\n",
    "\n",
    "The easiest way to create this kind of decorator is to implement them using a class.\n",
    "\n",
    "Due to the way that decorators are defined implementing them using functions means creating a function that returns the decorator that then operates on the function given as an argument.\n",
    "\n",
    "yeah, it's messy..."
   ]
  },
  {
   "cell_type": "code",
   "execution_count": 1,
   "metadata": {
    "slideshow": {
     "slide_type": "slide"
    }
   },
   "outputs": [
    {
     "data": {
      "text/plain": [
       "(1, 3)"
      ]
     },
     "execution_count": 1,
     "metadata": {},
     "output_type": "execute_result"
    }
   ],
   "source": [
    "from dataclasses import dataclass\n",
    "\n",
    "@dataclass\n",
    "class DecoratorWithArguments:\n",
    "    a: int = 1\n",
    "    b: int = 3\n",
    "        \n",
    "    def __call__(self, function):\n",
    "        \"\"\"this behaves like a normal decorator\"\"\"\n",
    "        function.a = self.a\n",
    "        function.b = self.b\n",
    "        return function\n",
    "        \n",
    "@DecoratorWithArguments(a=1)\n",
    "def myfunction(a, b):\n",
    "    return a+b\n",
    "\n",
    "myfunction.a, myfunction.b"
   ]
  },
  {
   "cell_type": "markdown",
   "metadata": {
    "slideshow": {
     "slide_type": "slide"
    }
   },
   "source": [
    "## Least Recently Used (LRU) Cache\n",
    "\n",
    "Having functions that works without any side effects means that we have **referential transpacency**, meaning that there is no difference between the function call and the result and we could freely swap the two.\n",
    "\n",
    "This is fundamental to allow caching, meaning to be able to save previous results of a computation and avoid redoing the calculation again!\n",
    "\n",
    "python support this by using the `functools.lru_cache` decorator, that activate caching the values of a function.\n",
    "\n",
    "It is possible to specify a limit to this cache (how many element it should store), as `functools.lru_cache(maxsize=N)`, where N is best set to a power of two for computational efficiency"
   ]
  },
  {
   "cell_type": "code",
   "execution_count": 165,
   "metadata": {
    "slideshow": {
     "slide_type": "slide"
    }
   },
   "outputs": [
    {
     "name": "stdout",
     "output_type": "stream",
     "text": [
      "1.5 s ± 65.7 µs per loop (mean ± std. dev. of 7 runs, 1 loop each)\n"
     ]
    }
   ],
   "source": [
    "import time\n",
    "\n",
    "def fib(n):\n",
    "    time.sleep(0.1)\n",
    "    if n < 2:\n",
    "        return n\n",
    "    return fib(n-1) + fib(n-2)\n",
    "\n",
    "%timeit fib(5)"
   ]
  },
  {
   "cell_type": "code",
   "execution_count": 170,
   "metadata": {
    "slideshow": {
     "slide_type": "slide"
    }
   },
   "outputs": [
    {
     "name": "stdout",
     "output_type": "stream",
     "text": [
      "865 ns ± 234 ns per loop (mean ± std. dev. of 7 runs, 1 loop each)\n"
     ]
    }
   ],
   "source": [
    "from functools import lru_cache\n",
    "@lru_cache(maxsize=None)\n",
    "def fib(n):\n",
    "    time.sleep(0.1)\n",
    "    if n < 2:\n",
    "        return n\n",
    "    return fib(n-1) + fib(n-2)\n",
    "\n",
    "%timeit fib(5)"
   ]
  },
  {
   "cell_type": "code",
   "execution_count": 171,
   "metadata": {
    "slideshow": {
     "slide_type": "slide"
    }
   },
   "outputs": [
    {
     "data": {
      "text/plain": [
       "CacheInfo(hits=10, misses=6, maxsize=None, currsize=6)"
      ]
     },
     "execution_count": 171,
     "metadata": {},
     "output_type": "execute_result"
    }
   ],
   "source": [
    "fib.cache_info()"
   ]
  },
  {
   "cell_type": "markdown",
   "metadata": {
    "slideshow": {
     "slide_type": "slide"
    }
   },
   "source": [
    "# Example: creating a pipe function\n",
    "\n",
    "A pipe function is a way of writing in compact form pipelines of functions, where the result of a function is passed to the the following one."
   ]
  },
  {
   "cell_type": "markdown",
   "metadata": {
    "slideshow": {
     "slide_type": "slide"
    }
   },
   "source": [
    "for example, we might have the following situation: we gets a string, that we know contains a number, and we want to display it after rounding up to the first decimal position."
   ]
  },
  {
   "cell_type": "code",
   "execution_count": 33,
   "metadata": {
    "slideshow": {
     "slide_type": "slide"
    }
   },
   "outputs": [
    {
     "name": "stdout",
     "output_type": "stream",
     "text": [
      "3.1\n"
     ]
    }
   ],
   "source": [
    "string = \" 3.1415 \"\n",
    "print(round(float(str.strip(string)), 1))"
   ]
  },
  {
   "cell_type": "markdown",
   "metadata": {
    "slideshow": {
     "slide_type": "slide"
    }
   },
   "source": [
    "it's horrible, can we al agree?\n",
    "\n",
    "and everytime we want to repeat that, we have to reuse that monstrosity.\n",
    "\n",
    "We could implement it as a single function, of course, and would be legitimate, but functional programming offer us an interesting alternative: creating a function that takes a series of functions and apply it to an object"
   ]
  },
  {
   "cell_type": "code",
   "execution_count": 34,
   "metadata": {
    "slideshow": {
     "slide_type": "slide"
    }
   },
   "outputs": [],
   "source": [
    "def apply_pipe(func_serie, obj):\n",
    "    for function in func_serie:\n",
    "        obj = function(obj)\n",
    "    return obj"
   ]
  },
  {
   "cell_type": "code",
   "execution_count": 35,
   "metadata": {
    "slideshow": {
     "slide_type": "slide"
    }
   },
   "outputs": [
    {
     "name": "stdout",
     "output_type": "stream",
     "text": [
      "3.1\n"
     ]
    }
   ],
   "source": [
    "from functools import partial\n",
    "apply_pipe(\n",
    "    [\n",
    "        str.strip, \n",
    "        float, \n",
    "        partial(round, ndigits=1), \n",
    "        print\n",
    "    ], \n",
    "    string,\n",
    ")"
   ]
  },
  {
   "cell_type": "markdown",
   "metadata": {
    "slideshow": {
     "slide_type": "slide"
    }
   },
   "source": [
    "This has the advantage of displaying our intention in a more human-readable format, but also, exploiting `partial`, can be easily generalized!"
   ]
  },
  {
   "cell_type": "code",
   "execution_count": 36,
   "metadata": {
    "slideshow": {
     "slide_type": "slide"
    }
   },
   "outputs": [
    {
     "name": "stdout",
     "output_type": "stream",
     "text": [
      "3.1\n"
     ]
    }
   ],
   "source": [
    "print_with_one_digit = partial(\n",
    "    apply_pipe, \n",
    "    [\n",
    "        str.strip, \n",
    "        float, \n",
    "        partial(round, ndigits=1), \n",
    "        print,\n",
    "    ])\n",
    "print_with_one_digit(string)"
   ]
  },
  {
   "cell_type": "markdown",
   "metadata": {
    "slideshow": {
     "slide_type": "slide"
    }
   },
   "source": [
    "if we think that we might need this often, we can again generalize it, by automatically generate the partial application"
   ]
  },
  {
   "cell_type": "code",
   "execution_count": 37,
   "metadata": {
    "slideshow": {
     "slide_type": "slide"
    }
   },
   "outputs": [
    {
     "name": "stdout",
     "output_type": "stream",
     "text": [
      "3.1\n"
     ]
    }
   ],
   "source": [
    "def create_pipe(func_list):\n",
    "    return partial(apply_pipe, func_list)\n",
    "\n",
    "print_with_one_digit = create_pipe(\n",
    "    [str.strip, float, partial(round, ndigits=1), print]\n",
    ")\n",
    "print_with_one_digit(string)"
   ]
  },
  {
   "cell_type": "markdown",
   "metadata": {
    "slideshow": {
     "slide_type": "slide"
    }
   },
   "source": [
    "# end of part 1"
   ]
  },
  {
   "cell_type": "markdown",
   "metadata": {
    "slideshow": {
     "slide_type": "slide"
    }
   },
   "source": [
    "# single dispatch - deprecated\n",
    "\n",
    "Single dispatch is a way of writing functions that recognize the type of the first object called, allowing for a low-level object oriented code.\n",
    "\n",
    "This allow to write generic functions that can be easily combined in iteration functions such *map*, as they can receive iterable containing a mix of different object and be able to manage all of them.\n",
    "\n",
    "This can be managed with a combinations of **if-else** and **isinstance** calls, but this approach allows a more readable approach"
   ]
  },
  {
   "cell_type": "markdown",
   "metadata": {
    "slideshow": {
     "slide_type": "slide"
    }
   },
   "source": [
    "Let's say that I want to write a function that calculates the mean of an iterable, but uses more efficient functions when available, such as for numpy arrays"
   ]
  },
  {
   "cell_type": "code",
   "execution_count": 16,
   "metadata": {
    "slideshow": {
     "slide_type": "slide"
    }
   },
   "outputs": [],
   "source": [
    "from functools import singledispatch\n",
    "from statistics import mean\n",
    "import numpy as np\n",
    "\n",
    "def average(iterable):\n",
    "    if isinstance(iterable, np.ndarray):\n",
    "        print(\"using the specific (and fast) numpy mean\")\n",
    "        return iterable.mean()\n",
    "    else:\n",
    "        print(\"using the generic (and slow) python mean\")\n",
    "        return mean(iterable)"
   ]
  },
  {
   "cell_type": "code",
   "execution_count": 17,
   "metadata": {
    "slideshow": {
     "slide_type": "slide"
    }
   },
   "outputs": [
    {
     "name": "stdout",
     "output_type": "stream",
     "text": [
      "using the generic (and slow) python mean\n"
     ]
    },
    {
     "data": {
      "text/plain": [
       "2"
      ]
     },
     "execution_count": 17,
     "metadata": {},
     "output_type": "execute_result"
    }
   ],
   "source": [
    "average([1, 2, 3])"
   ]
  },
  {
   "cell_type": "code",
   "execution_count": 18,
   "metadata": {
    "slideshow": {
     "slide_type": "slide"
    }
   },
   "outputs": [
    {
     "name": "stdout",
     "output_type": "stream",
     "text": [
      "using the specific (and fast) numpy mean\n"
     ]
    },
    {
     "data": {
      "text/plain": [
       "2.0"
      ]
     },
     "execution_count": 18,
     "metadata": {},
     "output_type": "execute_result"
    }
   ],
   "source": [
    "data = np.array([1, 2, 3])\n",
    "average(data)"
   ]
  },
  {
   "cell_type": "markdown",
   "metadata": {
    "slideshow": {
     "slide_type": "slide"
    }
   },
   "source": [
    "Single dispatch methods allow us to avoid using all those checks explicitely, doing it instead under the hood for us.\n",
    "\n",
    "It also add the advantage that, if we want to write a specific version of the `average` function for a class of our writing, we don't need to tamper with the original one, but can extend it in a simple way"
   ]
  },
  {
   "cell_type": "code",
   "execution_count": 19,
   "metadata": {
    "slideshow": {
     "slide_type": "slide"
    }
   },
   "outputs": [],
   "source": [
    "@singledispatch\n",
    "def average(iterable):\n",
    "    print(\"using the generic (and slow) python mean\")\n",
    "    return mean(iterable)\n",
    "\n",
    "@average.register(np.ndarray)\n",
    "def _(np_array):\n",
    "    print(\"using the specific (and fast) numpy mean\")\n",
    "    return np_array.mean()"
   ]
  },
  {
   "cell_type": "code",
   "execution_count": 20,
   "metadata": {
    "slideshow": {
     "slide_type": "slide"
    }
   },
   "outputs": [
    {
     "name": "stdout",
     "output_type": "stream",
     "text": [
      "using the generic (and slow) python mean\n"
     ]
    },
    {
     "data": {
      "text/plain": [
       "2"
      ]
     },
     "execution_count": 20,
     "metadata": {},
     "output_type": "execute_result"
    }
   ],
   "source": [
    "average([1, 2, 3])"
   ]
  },
  {
   "cell_type": "code",
   "execution_count": 21,
   "metadata": {
    "slideshow": {
     "slide_type": "slide"
    }
   },
   "outputs": [
    {
     "name": "stdout",
     "output_type": "stream",
     "text": [
      "using the specific (and fast) numpy mean\n"
     ]
    },
    {
     "data": {
      "text/plain": [
       "2.0"
      ]
     },
     "execution_count": 21,
     "metadata": {},
     "output_type": "execute_result"
    }
   ],
   "source": [
    "data = np.array([1, 2, 3])\n",
    "average(data)"
   ]
  },
  {
   "cell_type": "markdown",
   "metadata": {
    "slideshow": {
     "slide_type": "slide"
    }
   },
   "source": [
    "since python 3.7 the single dispatch functions can be defined by simply using type annotations, without needing to specify the type in the register call."
   ]
  },
  {
   "cell_type": "code",
   "execution_count": 22,
   "metadata": {
    "slideshow": {
     "slide_type": "slide"
    }
   },
   "outputs": [],
   "source": [
    "@singledispatch\n",
    "def average(iterable):\n",
    "    print(\"using the generic (and slow) python mean\")\n",
    "    return mean(iterable)\n",
    "\n",
    "@average.register\n",
    "def _(np_array: np.ndarray):\n",
    "    print(\"using the specific (and very fast) numpy mean\")\n",
    "    return np_array.mean()"
   ]
  },
  {
   "cell_type": "code",
   "execution_count": 23,
   "metadata": {
    "slideshow": {
     "slide_type": "-"
    }
   },
   "outputs": [
    {
     "name": "stdout",
     "output_type": "stream",
     "text": [
      "using the generic (and slow) python mean\n"
     ]
    },
    {
     "data": {
      "text/plain": [
       "2"
      ]
     },
     "execution_count": 23,
     "metadata": {},
     "output_type": "execute_result"
    }
   ],
   "source": [
    "average([1, 2, 3])"
   ]
  },
  {
   "cell_type": "code",
   "execution_count": 24,
   "metadata": {
    "slideshow": {
     "slide_type": "-"
    }
   },
   "outputs": [
    {
     "name": "stdout",
     "output_type": "stream",
     "text": [
      "using the specific (and very fast) numpy mean\n"
     ]
    },
    {
     "data": {
      "text/plain": [
       "2.0"
      ]
     },
     "execution_count": 24,
     "metadata": {},
     "output_type": "execute_result"
    }
   ],
   "source": [
    "data = np.array([1, 2, 3])\n",
    "average(data)"
   ]
  },
  {
   "cell_type": "markdown",
   "metadata": {
    "slideshow": {
     "slide_type": "slide"
    }
   },
   "source": [
    "## method dispatching\n",
    "\n",
    "python 3.8 introduced also `singledispatchmethod`, that allow to perform single dispatch from methods.\n",
    "\n",
    "a dedicated function is required to avoid weird interactions with the *bounding* process of method calling"
   ]
  },
  {
   "cell_type": "code",
   "execution_count": 27,
   "metadata": {
    "slideshow": {
     "slide_type": "slide"
    }
   },
   "outputs": [],
   "source": [
    "from functools import singledispatchmethod\n",
    "from dataclasses import dataclass\n",
    "from numbers import Number\n",
    "\n",
    "@dataclass\n",
    "class Container:\n",
    "    value: Number\n",
    "    \n",
    "    @singledispatchmethod\n",
    "    def __add__(self, other):\n",
    "        return NotImplemented\n",
    "    \n",
    "    @__add__.register\n",
    "    def _(self, other: Number):\n",
    "        return self.__class__(self.value+other)\n",
    "    \n",
    "    # the forward reference does not work on pyhton 3.9!\n",
    "    # https://bugs.python.org/issue41987\n",
    "    #@__add__.register\n",
    "    #def _(self, other: Container):\n",
    "    #    return self.__class__(self.value + other.value)"
   ]
  },
  {
   "cell_type": "code",
   "execution_count": 28,
   "metadata": {
    "slideshow": {
     "slide_type": "slide"
    }
   },
   "outputs": [
    {
     "name": "stdout",
     "output_type": "stream",
     "text": [
      "Container(value=3)\n"
     ]
    },
    {
     "ename": "TypeError",
     "evalue": "unsupported operand type(s) for +: 'Container' and 'str'",
     "output_type": "error",
     "traceback": [
      "\u001b[0;31m---------------------------------------------------------------------------\u001b[0m",
      "\u001b[0;31mTypeError\u001b[0m                                 Traceback (most recent call last)",
      "Input \u001b[0;32mIn [28]\u001b[0m, in \u001b[0;36m<cell line: 3>\u001b[0;34m()\u001b[0m\n\u001b[1;32m      1\u001b[0m cont \u001b[38;5;241m=\u001b[39m Container(\u001b[38;5;241m3\u001b[39m)\n\u001b[1;32m      2\u001b[0m \u001b[38;5;28mprint\u001b[39m(cont)\n\u001b[0;32m----> 3\u001b[0m \u001b[38;5;28mprint\u001b[39m(\u001b[43mcont\u001b[49m\u001b[38;5;241;43m+\u001b[39;49m\u001b[38;5;124;43m\"\u001b[39;49m\u001b[38;5;124;43m1\u001b[39;49m\u001b[38;5;124;43m\"\u001b[39;49m)\n",
      "\u001b[0;31mTypeError\u001b[0m: unsupported operand type(s) for +: 'Container' and 'str'"
     ]
    }
   ],
   "source": [
    "cont = Container(3)\n",
    "print(cont)\n",
    "print(cont+\"1\")"
   ]
  },
  {
   "cell_type": "code",
   "execution_count": 29,
   "metadata": {
    "slideshow": {
     "slide_type": "slide"
    }
   },
   "outputs": [
    {
     "name": "stdout",
     "output_type": "stream",
     "text": [
      "Container(value=3)\n",
      "Container(value=4)\n"
     ]
    }
   ],
   "source": [
    "cont = Container(3)\n",
    "print(cont)\n",
    "print(cont+1)"
   ]
  },
  {
   "cell_type": "markdown",
   "metadata": {
    "slideshow": {
     "slide_type": "slide"
    }
   },
   "source": [
    "a way to circumvent the current bug with forward referencing, is to use a guard clause in the base function"
   ]
  },
  {
   "cell_type": "code",
   "execution_count": 30,
   "metadata": {
    "slideshow": {
     "slide_type": "-"
    }
   },
   "outputs": [
    {
     "name": "stdout",
     "output_type": "stream",
     "text": [
      "Container(value=5)\n",
      "Container(value=5)\n"
     ]
    }
   ],
   "source": [
    "@dataclass\n",
    "class Container:\n",
    "    value: Number\n",
    "    \n",
    "    @singledispatchmethod\n",
    "    def __add__(self, other):\n",
    "        if isinstance(other, self.__class__):\n",
    "            return self.__class__(self.value + other.value)\n",
    "        return NotImplemented\n",
    "    \n",
    "    @__add__.register\n",
    "    def _(self, other:Number):\n",
    "        return self.__class__(self.value+other)\n",
    "\n",
    "cont_a = Container(3)\n",
    "cont_b = Container(2)\n",
    "print(cont_a+cont_b)\n",
    "print(cont_a+2)"
   ]
  },
  {
   "cell_type": "markdown",
   "metadata": {
    "slideshow": {
     "slide_type": "slide"
    }
   },
   "source": [
    "## Function Hooks\n",
    "\n",
    "A concept similar to single dispatch is function hooking:\n",
    "\n",
    "* the function will perform some default operation on the datasets\n",
    "* on functions that conform to a specific protocol, it will call the specialized function\n",
    "\n",
    "we can implement this quite easily in python using the Protocol definition we discussed in the OOP lesson\n",
    "\n",
    "this is the basic working underneat the `len` function:\n",
    "* if the objects defines a `__len__` function, it defers to it\n",
    "* otherwise it tries to iterate and count the number of elements"
   ]
  },
  {
   "cell_type": "code",
   "execution_count": 32,
   "metadata": {
    "slideshow": {
     "slide_type": "slide"
    }
   },
   "outputs": [
    {
     "name": "stdout",
     "output_type": "stream",
     "text": [
      "2.0\n",
      "mean of the class called\n"
     ]
    }
   ],
   "source": [
    "from typing import Protocol, runtime_checkable\n",
    "\n",
    "@singledispatch\n",
    "def average(array):\n",
    "    \"when not defined, try to use numpy\"\n",
    "    return np.mean(array)\n",
    "\n",
    "@runtime_checkable\n",
    "class Provide_mean(Protocol):\n",
    "    \"this is the protocol to identify classes that have a __mean__ function\"\n",
    "    def __mean__(self) -> Number:\n",
    "        pass\n",
    "\n",
    "@average.register\n",
    "def _(instance: Provide_mean):\n",
    "    \"if the class has a __mean__ function, calls it\"\n",
    "    return instance.__mean__()\n",
    "\n",
    "class MyClass:\n",
    "    def __mean__(self):\n",
    "        return \"mean of the class called\"\n",
    "        \n",
    "print(average([1, 2, 3]))\n",
    "pippo = MyClass()\n",
    "print(average(pippo))"
   ]
  }
 ],
 "metadata": {
  "celltoolbar": "Slideshow",
  "kernelspec": {
   "display_name": "Python 3 (ipykernel)",
   "language": "python",
   "name": "python3"
  },
  "language_info": {
   "codemirror_mode": {
    "name": "ipython",
    "version": 3
   },
   "file_extension": ".py",
   "mimetype": "text/x-python",
   "name": "python",
   "nbconvert_exporter": "python",
   "pygments_lexer": "ipython3",
   "version": "3.9.16"
  }
 },
 "nbformat": 4,
 "nbformat_minor": 2
}
