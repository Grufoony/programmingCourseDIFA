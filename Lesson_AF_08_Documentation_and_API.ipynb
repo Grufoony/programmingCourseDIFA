{
 "cells": [
  {
   "cell_type": "markdown",
   "metadata": {
    "slideshow": {
     "slide_type": "slide"
    }
   },
   "source": [
    "# Documentation guidelines\n",
    "\n",
    "how to help the user understand your work"
   ]
  },
  {
   "cell_type": "markdown",
   "metadata": {
    "slideshow": {
     "slide_type": "slide"
    }
   },
   "source": [
    "Documentation is one of the big points on which you need to focus to allow your work to be usable by others.\n",
    "\n",
    "In the course we mostly focused on the quality of the code:\n",
    "* writing good quality code\n",
    "* testing it to make sure it works properly\n",
    "* create a good quality API\n",
    "\n",
    "None of these actually allow the user to use your code: you need to explain them how!"
   ]
  },
  {
   "cell_type": "markdown",
   "metadata": {
    "slideshow": {
     "slide_type": "slide"
    }
   },
   "source": [
    "Documentation is often a forgotten topic because it feels like a \"chore\": you already wrote the program, it works, your job is done!\n",
    "\n",
    "Nothing further from the truth!\n",
    "\n",
    "In a similar way to the tests, documentation should be part of the fundations of what you perceive your work to be when programming, and done alongside the code in the same way as the tests."
   ]
  },
  {
   "cell_type": "markdown",
   "metadata": {
    "slideshow": {
     "slide_type": "slide"
    }
   },
   "source": [
    "### Target users\n",
    "\n",
    "there are three different kind of user for which to write documentation:\n",
    "* users of the program/library\n",
    "* developers/contributors\n",
    "* reviewers\n",
    "\n",
    "they have very different needs, and you should have clear which one is your target when you are writing a piece of documentation"
   ]
  },
  {
   "cell_type": "markdown",
   "metadata": {
    "slideshow": {
     "slide_type": "slide"
    }
   },
   "source": [
    "The first rule for documentation is that it should be **usable** and **available**"
   ]
  },
  {
   "cell_type": "markdown",
   "metadata": {
    "slideshow": {
     "slide_type": "slide"
    }
   },
   "source": [
    "### Usability\n",
    "\n",
    "The user should be able to understand it and explore it.\n",
    "* no abstruse sentence\n",
    "* properly written\n",
    "* available in commonly spoken languages\n",
    "* in a data format that can easly be accessed"
   ]
  },
  {
   "cell_type": "markdown",
   "metadata": {
    "slideshow": {
     "slide_type": "slide"
    }
   },
   "source": [
    "About the data format, I strongly suggest to have all the following:\n",
    "\n",
    "* inside the program itself (help menu)\n",
    "* as structured text (Markdown or RestructuredText)\n",
    "* html pages\n",
    "\n",
    "given that it is easy to generate HTML from structured text, I would reccomend to get comfortable using them.\n",
    "\n",
    "For GitHub the default is MarkDown, while for python documentation is usually RestructuredText.\n",
    "\n",
    "I personally prefer RestructuredText as a language, but Markdown is simpler and more commonly used, so it is a better starting point. (https://github.com/adam-p/markdown-here/wiki/Markdown-Cheatsheet)"
   ]
  },
  {
   "cell_type": "markdown",
   "metadata": {
    "slideshow": {
     "slide_type": "slide"
    }
   },
   "source": [
    "### Availability\n",
    "\n",
    "**Available** means that the user should be able to find it."
   ]
  },
  {
   "cell_type": "markdown",
   "metadata": {
    "slideshow": {
     "slide_type": "fragment"
    }
   },
   "source": [
    "#### inside the program\n",
    "\n",
    "inside the program means that it is always available\n",
    "\n",
    "Particular value is the contextual help if the user is having trouble figuring out the procedures\n",
    "\n",
    "it should also link to the online material for more extensive documentation!\n",
    "\n",
    "it might not be available, as one might not be able to run the program!"
   ]
  },
  {
   "cell_type": "markdown",
   "metadata": {
    "slideshow": {
     "slide_type": "slide"
    }
   },
   "source": [
    "#### online documentation\n",
    "\n",
    "should be comprehensive of everything!\n",
    "\n",
    "from every page there should be a way of navigating links to reach any other\n",
    "\n",
    "Give multiple path to reach the information!"
   ]
  },
  {
   "cell_type": "markdown",
   "metadata": {
    "slideshow": {
     "slide_type": "slide"
    }
   },
   "source": [
    "## Documentations types"
   ]
  },
  {
   "cell_type": "markdown",
   "metadata": {
    "slideshow": {
     "slide_type": "slide"
    }
   },
   "source": [
    "Theory of documentation for users brought forward by Daniele Procida (https://www.divio.com/blog/documentation/)\n",
    "\n",
    "it divides the documentation in 4 distinct kind of documents, each one with its own goal:\n",
    "* **tutorials**: guided learning of the basics\n",
    "* **how-to guides**: assume complete knowledge, show how to best solve a problem\n",
    "* **reference**: details about the API, functions names, parameters, etc...\n",
    "* **explanation**: the theoretical background and design decisions"
   ]
  },
  {
   "cell_type": "markdown",
   "metadata": {
    "slideshow": {
     "slide_type": "slide"
    }
   },
   "source": [
    "![the layout of the 4 types of documentation](https://documentation.divio.com/_images/overview.png)"
   ]
  },
  {
   "cell_type": "markdown",
   "metadata": {
    "slideshow": {
     "slide_type": "slide"
    }
   },
   "source": [
    "Each of the quadrants is similar to its two neighbours:\n",
    "\n",
    "* **tutorials** and **how-to guides** are both concerned with **describing practical steps**\n",
    "* **how-to guides** and **technical reference** are both what we need when we are at work, **coding**\n",
    "* **reference guides** and **explanation** are both concerned with **theoretical knowledge**\n",
    "* **tutorials** and **explanation** are both most useful when we are **studying**, rather than actually working"
   ]
  },
  {
   "cell_type": "markdown",
   "metadata": {
    "slideshow": {
     "slide_type": "slide"
    }
   },
   "source": [
    "### Jupyter notebooks\n",
    "\n",
    "Jupyter notebooks are great tools for writing documentations, in particular tutorials (such as the slides of this course), as they allow to intermix code and markdown-formatted text.\n",
    "\n",
    "Personally I don't like as development tool, but I find them amazing as a **teaching tool** (for your users)."
   ]
  },
  {
   "cell_type": "markdown",
   "metadata": {
    "slideshow": {
     "slide_type": "slide"
    }
   },
   "source": [
    "It is easy to generate html or markdown files for your documentation from the notebooks, and I suggest you consider doing it!\n",
    "\n",
    "    jupyter nbconvert --to html MyCoolNotebook.ipynb\n",
    "    \n",
    "    jupyter nbconvert --to markdown MyCoolNotebook.ipynb\n",
    "    \n",
    "    jupyter nbconvert --to slides MyCoolNotebook.ipynb"
   ]
  },
  {
   "cell_type": "markdown",
   "metadata": {
    "slideshow": {
     "slide_type": "slide"
    }
   },
   "source": [
    "### Pandoc\n",
    "\n",
    "`pandoc` is a program that can be installed using pip and that allow to easily convert between different file types, such as markdown and docx, or latex and pdf.\n",
    "\n",
    "     pandoc --from=markdown --to=docx --output=test.docx .\\Lesson_AF_08_Documentation_and_API.md\n",
    "     "
   ]
  },
  {
   "cell_type": "markdown",
   "metadata": {
    "slideshow": {
     "slide_type": "slide"
    }
   },
   "source": [
    "## Documenting Code\n",
    "\n",
    "this kind of documentation is necessary for anybody that have to understand and take care of the code in the future.\n",
    "\n",
    "might be other researcher, random people on the internet, or yourself few months from now!\n",
    "\n",
    "for python, the most important ones are:\n",
    "\n",
    "* docstrings\n",
    "* typing\n",
    "* comments\n",
    "* the code itself"
   ]
  },
  {
   "cell_type": "markdown",
   "metadata": {
    "slideshow": {
     "slide_type": "slide"
    }
   },
   "source": [
    "### docstrings\n",
    "\n",
    "IDE like spyder already can create a suggestion of the simplest informations that one needs to put \n",
    "\n",
    "need to have:\n",
    "* short one sentence description of the function\n",
    "* long function explaination\n",
    "* input and output, expected types and meaning\n",
    "* potential exception raised in the code"
   ]
  },
  {
   "cell_type": "markdown",
   "metadata": {
    "slideshow": {
     "slide_type": "slide"
    }
   },
   "source": [
    "good to have:\n",
    "* example of usage of the function\n",
    "* relationships with other functions\n",
    "* explaination of the theory\n",
    "* references for the theory"
   ]
  },
  {
   "cell_type": "markdown",
   "metadata": {
    "slideshow": {
     "slide_type": "slide"
    }
   },
   "source": [
    "One should provide docstrings for:\n",
    "\n",
    "* each module\n",
    "* each function in the module\n",
    "* each class in the module\n",
    "* each method of each class\n",
    "* each test in the test suite (but use the BDD description style instead)"
   ]
  },
  {
   "cell_type": "markdown",
   "metadata": {
    "slideshow": {
     "slide_type": "slide"
    }
   },
   "source": [
    "#### numpy docstring standard:\n",
    "https://numpydoc.readthedocs.io/en/latest/format.html#docstring-standard"
   ]
  },
  {
   "cell_type": "markdown",
   "metadata": {
    "slideshow": {
     "slide_type": "slide"
    }
   },
   "source": [
    "### typing\n",
    "\n",
    "now that python include a semi-decent typing system, leverage it!\n",
    "\n",
    "just remember to keep types as general as possible:\n",
    "* sequences instead of list, unless you use a list specific function\n",
    "* mapping instead of dictionaries\n",
    "* numbers instead of ints and floats"
   ]
  },
  {
   "cell_type": "markdown",
   "metadata": {
    "slideshow": {
     "slide_type": "slide"
    }
   },
   "source": [
    "describe types of input and output, it allows you to:\n",
    "* inform the user of what you can take, removing the need for explicit checks (and the associated unit tests)\n",
    "* allow to use automatic code checking tools\n",
    "* keep track during development of what every object should be\n",
    "* modern IDE can do type inference and provide autocomplete and suggestions"
   ]
  },
  {
   "cell_type": "markdown",
   "metadata": {
    "slideshow": {
     "slide_type": "slide"
    }
   },
   "source": [
    "Python is a dynamic language, but is still strongly typed.\n",
    "One just don't have to declare the typed beforehand.\n",
    "\n",
    "What they introduced is the possibility to annotate the code to express expectations over the type of variables, arguments and functions.\n",
    "This does not have any effect on running the code, but allow type checkers (the most famous one is `mypy`) to assess if the code is correct"
   ]
  },
  {
   "cell_type": "markdown",
   "metadata": {
    "slideshow": {
     "slide_type": "slide"
    }
   },
   "source": [
    "to test your typing you can use the `mypy` application:\n",
    "    \n",
    "    mypy my_file.py"
   ]
  },
  {
   "cell_type": "markdown",
   "metadata": {
    "slideshow": {
     "slide_type": "slide"
    }
   },
   "source": [
    "for example, the following code have a lot of issues, but they migh not be immediately apparent just looking at it.\n",
    "\n",
    "If we don't put any typing information, mypy doesn't complain and doesn't do anything"
   ]
  },
  {
   "cell_type": "code",
   "execution_count": 1,
   "metadata": {
    "slideshow": {
     "slide_type": "slide"
    }
   },
   "outputs": [
    {
     "name": "stdout",
     "output_type": "stream",
     "text": [
      "Overwriting test.py\n"
     ]
    }
   ],
   "source": [
    "%%file test.py\n",
    "\n",
    "def eleva(n):\n",
    "    return n.upper()\n",
    "\n",
    "dati = [1, 2, 3, 4]\n",
    "\n",
    "for dato in dati:\n",
    "    print(1+eleva(dati[dato]))"
   ]
  },
  {
   "cell_type": "code",
   "execution_count": 3,
   "metadata": {
    "slideshow": {
     "slide_type": "fragment"
    }
   },
   "outputs": [
    {
     "name": "stdout",
     "output_type": "stream",
     "text": [
      "\u001b[1m\u001b[32mSuccess: no issues found in 1 source file\u001b[m\r\n"
     ]
    }
   ],
   "source": [
    "!mypy test.py"
   ]
  },
  {
   "cell_type": "markdown",
   "metadata": {
    "slideshow": {
     "slide_type": "slide"
    }
   },
   "source": [
    "I can start introducing types informations and will find progressively more possible mistakes.\n",
    "\n",
    "types are specified with a colon (`:`) after the argument or variable, followed by the type object that it should have.\n",
    "\n",
    "for the return type, one can use an arrow `->`"
   ]
  },
  {
   "cell_type": "code",
   "execution_count": 4,
   "metadata": {
    "slideshow": {
     "slide_type": "slide"
    }
   },
   "outputs": [
    {
     "name": "stdout",
     "output_type": "stream",
     "text": [
      "Overwriting test.py\n"
     ]
    }
   ],
   "source": [
    "%%file test.py\n",
    "\n",
    "def eleva(n: str) -> str:\n",
    "    return n.upper()\n",
    "\n",
    "dati = [1, 2, 3, 4]\n",
    "\n",
    "for dato in dati:\n",
    "    print(1+eleva(dati[dato]))"
   ]
  },
  {
   "cell_type": "code",
   "execution_count": 5,
   "metadata": {
    "slideshow": {
     "slide_type": "slide"
    }
   },
   "outputs": [
    {
     "name": "stdout",
     "output_type": "stream",
     "text": [
      "test.py:8: \u001b[1m\u001b[31merror:\u001b[m Unsupported operand types for + (\u001b[m\u001b[1m\"int\"\u001b[m and \u001b[m\u001b[1m\"str\"\u001b[m)\u001b[m\r\n",
      "test.py:8: \u001b[1m\u001b[31merror:\u001b[m Argument 1 to \u001b[m\u001b[1m\"eleva\"\u001b[m has incompatible type \u001b[m\u001b[1m\"int\"\u001b[m; expected \u001b[m\u001b[1m\"str\"\u001b[m\u001b[m\r\n",
      "\u001b[1m\u001b[31mFound 2 errors in 1 file (checked 1 source file)\u001b[m\r\n"
     ]
    }
   ],
   "source": [
    "!mypy test.py"
   ]
  },
  {
   "cell_type": "code",
   "execution_count": 6,
   "metadata": {
    "slideshow": {
     "slide_type": "slide"
    }
   },
   "outputs": [
    {
     "name": "stdout",
     "output_type": "stream",
     "text": [
      "Overwriting test.py\n"
     ]
    }
   ],
   "source": [
    "%%file test.py\n",
    "\n",
    "from typing import List\n",
    "\n",
    "def eleva(n: str):\n",
    "    return n.upper()\n",
    "\n",
    "dati: List[str] = [1, 2, 3, 4]\n",
    "\n",
    "for dato in dati:\n",
    "    print(eleva(dati[dato]))"
   ]
  },
  {
   "cell_type": "code",
   "execution_count": 7,
   "metadata": {
    "slideshow": {
     "slide_type": "slide"
    }
   },
   "outputs": [
    {
     "name": "stdout",
     "output_type": "stream",
     "text": [
      "test.py:7: \u001b[1m\u001b[31merror:\u001b[m List item 0 has incompatible type \u001b[m\u001b[1m\"int\"\u001b[m; expected \u001b[m\u001b[1m\"str\"\u001b[m\u001b[m\r\n",
      "test.py:7: \u001b[1m\u001b[31merror:\u001b[m List item 1 has incompatible type \u001b[m\u001b[1m\"int\"\u001b[m; expected \u001b[m\u001b[1m\"str\"\u001b[m\u001b[m\r\n",
      "test.py:7: \u001b[1m\u001b[31merror:\u001b[m List item 2 has incompatible type \u001b[m\u001b[1m\"int\"\u001b[m; expected \u001b[m\u001b[1m\"str\"\u001b[m\u001b[m\r\n",
      "test.py:7: \u001b[1m\u001b[31merror:\u001b[m List item 3 has incompatible type \u001b[m\u001b[1m\"int\"\u001b[m; expected \u001b[m\u001b[1m\"str\"\u001b[m\u001b[m\r\n",
      "test.py:10: \u001b[1m\u001b[31merror:\u001b[m No overload variant of \u001b[m\u001b[1m\"__getitem__\"\u001b[m of \u001b[m\u001b[1m\"list\"\u001b[m matches argument type \u001b[m\u001b[1m\"str\"\u001b[m\u001b[m\r\n",
      "test.py:10: \u001b[34mnote:\u001b[m Possible overload variants:\u001b[m\r\n",
      "test.py:10: \u001b[34mnote:\u001b[m     def __getitem__(self, SupportsIndex) -> str\u001b[m\r\n",
      "test.py:10: \u001b[34mnote:\u001b[m     def __getitem__(self, slice) -> List[str]\u001b[m\r\n",
      "\u001b[1m\u001b[31mFound 5 errors in 1 file (checked 1 source file)\u001b[m\r\n"
     ]
    }
   ],
   "source": [
    "!mypy test.py"
   ]
  },
  {
   "cell_type": "markdown",
   "metadata": {
    "slideshow": {
     "slide_type": "slide"
    }
   },
   "source": [
    "this allows me to annotate only the code I **care about** without having to deal with typing everywhere"
   ]
  },
  {
   "cell_type": "markdown",
   "metadata": {
    "slideshow": {
     "slide_type": "slide"
    }
   },
   "source": [
    "I can specify more complex types using the library `typing`, that allows to specify very complex structures"
   ]
  },
  {
   "cell_type": "markdown",
   "metadata": {
    "slideshow": {
     "slide_type": "slide"
    }
   },
   "source": [
    "I would suggest also to leverage the user-defined types to future proof your code, and make it more explicit in its intentions\n",
    "\n",
    "```python\n",
    "from typing import NewType\n",
    "\n",
    "UserId = NewType('UserId', int) # declare a variant of ints used to user IDs\n",
    "some_id = UserId(524313) # it is still an int!\n",
    "```"
   ]
  },
  {
   "cell_type": "markdown",
   "metadata": {
    "slideshow": {
     "slide_type": "slide"
    }
   },
   "source": [
    "leverage generics to express general relationships when working with containers.\n",
    "Also, when possible always specify the type contained inside the containers!\n",
    "\n",
    "```python\n",
    "from typing import Sequence, TypeVar\n",
    "\n",
    "T = TypeVar('T')      # Declare generic type variable\n",
    "\n",
    "def first(l: Sequence[T]) -> T:   # Generic function\n",
    "    return l[0]\n",
    "```"
   ]
  },
  {
   "cell_type": "markdown",
   "metadata": {
    "slideshow": {
     "slide_type": "slide"
    }
   },
   "source": [
    "if you find that writing the type declaration of a function is too complicated, probably you should break the function into smaller chunks!"
   ]
  },
  {
   "cell_type": "markdown",
   "metadata": {
    "slideshow": {
     "slide_type": "slide"
    }
   },
   "source": [
    "#### a note on typing readability\n",
    "\n",
    "Having a lot of typing in you functions and methods could quickly lead to a perception of low readability, due to the \"noise\" that the type declaration adds.\n",
    "\n",
    "there are two solutions for that:\n",
    "\n",
    "* following an appropriate coding style\n",
    "* giving types a descriptive names"
   ]
  },
  {
   "cell_type": "markdown",
   "metadata": {
    "slideshow": {
     "slide_type": "slide"
    }
   },
   "source": [
    "##### descriptive names\n",
    "\n",
    "as discussed earlier, nothing stops us to assign a name to a type and use that in our code"
   ]
  },
  {
   "cell_type": "code",
   "execution_count": 13,
   "metadata": {
    "slideshow": {
     "slide_type": "slide"
    }
   },
   "outputs": [
    {
     "name": "stdout",
     "output_type": "stream",
     "text": [
      "Overwriting test.py\n"
     ]
    }
   ],
   "source": [
    "%%file test.py\n",
    "\n",
    "from typing import Iterable\n",
    "\n",
    "data_list = Iterable[int]\n",
    "\n",
    "def eleva(n: str):\n",
    "    return n.upper()\n",
    "\n",
    "dati: data_list = [1, 2, 3, 4]\n",
    "\n",
    "for dato in dati:\n",
    "    print(eleva(dato))"
   ]
  },
  {
   "cell_type": "code",
   "execution_count": 14,
   "metadata": {
    "slideshow": {
     "slide_type": "fragment"
    }
   },
   "outputs": [
    {
     "name": "stdout",
     "output_type": "stream",
     "text": [
      "test.py:12: \u001b[1m\u001b[31merror:\u001b[m Argument 1 to \u001b[m\u001b[1m\"eleva\"\u001b[m has incompatible type \u001b[m\u001b[1m\"int\"\u001b[m; expected \u001b[m\u001b[1m\"str\"\u001b[m\u001b[m\r\n",
      "\u001b[1m\u001b[31mFound 1 error in 1 file (checked 1 source file)\u001b[m\r\n"
     ]
    }
   ],
   "source": [
    "!mypy test.py"
   ]
  },
  {
   "cell_type": "markdown",
   "metadata": {
    "slideshow": {
     "slide_type": "slide"
    }
   },
   "source": [
    "##### coding style\n",
    "\n",
    "a commonly recommended coding style (such as the one enforced by `black`) suggests to put all arguments of a function in a new line, with one level of indentation, and a new line with the closing parenthesis.\n",
    "\n",
    "This gives plenty of space for typing informations and *ad-hoc* comments"
   ]
  },
  {
   "cell_type": "markdown",
   "metadata": {
    "slideshow": {
     "slide_type": "slide"
    }
   },
   "source": [
    "following these kind of guideline, a function written as:\n",
    "\n",
    "```python\n",
    "def my_function(arg_1, arg_2, arg_3, arg_4, args_5):\n",
    "    \"\"\"docstring\"\"\"\n",
    "    function body\n",
    "```\n",
    "\n",
    "would be rewritten as:\n",
    "\n",
    "```python\n",
    "def my_function(\n",
    "    arg_1: type_1, # some comment\n",
    "    arg_2: type_2, # more comment\n",
    "    arg_3: type_3, # let's discuss this\n",
    "    arg_4: type_4, # I used this name because ...\n",
    "    args_5: type_5, # etc...\n",
    ") -> return_type:\n",
    "    \"\"\"docstring\"\"\"\n",
    "    function body\n",
    "```"
   ]
  },
  {
   "cell_type": "markdown",
   "metadata": {
    "slideshow": {
     "slide_type": "slide"
    }
   },
   "source": [
    "This approach is also **way more friendly** for version control, as it allows to recognize modifications to single arguments in the diffs.\n",
    "\n",
    "**IMPORTANT: there are variations and preferences in this, do not feel restrained!**\n",
    "\n",
    "you can read a more detailed argument here, from the writer of `black`:\n",
    "\n",
    "* [Why the sad face?](https://lukasz.langa.pl/1d1a43c4-9c8a-4c5f-a366-7f22ce6a49fc/)"
   ]
  },
  {
   "cell_type": "markdown",
   "metadata": {
    "slideshow": {
     "slide_type": "slide"
    }
   },
   "source": [
    "you can find more info about tye checking and how to use it on this blog posts:\n",
    "  \n",
    "#### a general overview of the type systems\n",
    "* [the state of type hints in python](https://www.bernat.tech/the-state-of-type-hints-in-python/)\n",
    "\n",
    "#### an in-depth discussion of how the type system works and how to use it\n",
    "* [S01E01 - First Steps with Python Type System](https://blog.daftcode.pl/first-steps-with-python-type-system-30e4296722af)\n",
    "* [S01E02 - Next Steps with Python Type System](https://blog.daftcode.pl/next-steps-with-python-type-system-efc4df5251c9)\n",
    "* [S02E01 - Understanding Contravariance](https://blog.daftcode.pl/csi-python-type-system-episode-1-1c2ee1f8047c)\n",
    "* [S02E02 - Dealing With the Contravariance Related Bug](https://blog.daftcode.pl/csi-python-type-system-episode-2-baf5168038c0)\n",
    "* [S02E03 - Covariance, Contravariance, and Invariance](https://blog.daftcode.pl/covariance-contravariance-and-invariance-the-ultimate-python-guide-8fabc0c24278)"
   ]
  },
  {
   "cell_type": "markdown",
   "metadata": {
    "slideshow": {
     "slide_type": "slide"
    }
   },
   "source": [
    "### comments\n",
    "\n",
    "comments can be seens as a form of documentations as any other, but with the developer in mind instead of the user.\n",
    "\n",
    "the following is my personal opinion:\n",
    "* try to be conservative with the number of comments you write\n",
    "* focus on \"why\" and not on what\n",
    "* use them to fill the \"negative space\""
   ]
  },
  {
   "cell_type": "markdown",
   "metadata": {
    "slideshow": {
     "slide_type": "slide"
    }
   },
   "source": [
    "#### focus on \"why\" and not \"what\"\n",
    "\n",
    "if the code is written with good style, and read by someone half competent, describing the line of code in a comment is redundant at best\n",
    "\n",
    "```python\n",
    "# increase the width by 1\n",
    "width += 1\n",
    "```\n"
   ]
  },
  {
   "cell_type": "markdown",
   "metadata": {
    "slideshow": {
     "slide_type": "slide"
    }
   },
   "source": [
    "explaining **why** a piece of code exists, is way more important\n",
    "\n",
    "```python\n",
    "# need to increase the width of the window to compensate a off-by-one\n",
    "# error due to the window management system (see bug#12345)\n",
    "width += 1\n",
    "```"
   ]
  },
  {
   "cell_type": "markdown",
   "metadata": {
    "slideshow": {
     "slide_type": "slide"
    }
   },
   "source": [
    "#### code negative space\n",
    "\n",
    "related to the idea of self-documenting code.\n",
    "\n",
    "even the most readable code can't explain why some code IS NOT THERE.\n",
    "\n",
    "one needs comments to explain:\n",
    "\n",
    "* why certain \"expected\" procedures have been removed by a piece of code\n",
    "* what approaches has been tested but failed, and why"
   ]
  },
  {
   "cell_type": "markdown",
   "metadata": {
    "slideshow": {
     "slide_type": "slide"
    }
   },
   "source": [
    "#### comments with markup\n",
    "\n",
    "most IDE recognize comments that contains specific markups, and they are very useful to keep track of the state of code.\n",
    "\n",
    "some commonly recognized ones are:\n",
    "* **TODO** - there is some code that should be put here\n",
    "* **FIXME** - there is a known error case, but not implemented yet\n",
    "* **HACK** - solve an issue, but is a sloppy way, improve if possible\n",
    "* **BUG** - there is a problem in this point in the code, but the solution is not clear\n",
    "* **NOTE** - some information about the following code\n"
   ]
  },
  {
   "cell_type": "markdown",
   "metadata": {
    "slideshow": {
     "slide_type": "slide"
    }
   },
   "source": [
    "for example a reference can be found in the (rejected) PEP 350:\n",
    "* https://www.python.org/dev/peps/pep-0350/"
   ]
  },
  {
   "cell_type": "markdown",
   "metadata": {
    "slideshow": {
     "slide_type": "slide"
    }
   },
   "source": [
    "many systems are able to render also the markdown in these comments, so feel free to leverage them!\n",
    "\n",
    "```markdown\n",
    "- [x] SLA\n",
    "- [ ] Contact Info\n",
    "```\n",
    "\n",
    "- [x] SLA\n",
    "- [ ] Contact Info"
   ]
  },
  {
   "cell_type": "markdown",
   "metadata": {
    "slideshow": {
     "slide_type": "slide"
    }
   },
   "source": [
    "### self documenting code\n",
    "\n",
    "This is the hardest level to reach, but also one you shold strive for:\n",
    "\n",
    "**writing code with clear name and relationships, that allow to understand what is happening by just reading it**\n",
    "\n",
    "* Everybody wants to do it (because it sounds less effort than writing documentation... Oh, my sweet summer child!)\n",
    "* most think they manage to\n",
    "* almost everybody fails (and I'm being generous by using *almost*).\n",
    "\n",
    "One should still aim to reach this state, and it is always good to refactor to get closer to this state\n"
   ]
  },
  {
   "cell_type": "markdown",
   "metadata": {
    "slideshow": {
     "slide_type": "slide"
    }
   },
   "source": [
    "## Documenting Changes\n",
    "\n",
    "This is for developers and users alike: if you change your library/program, explain what has been changed.\n",
    "\n",
    "your goal is to improve your code over time, but also to allow your users to keep using it proficently\n",
    "\n",
    "* semantic versioning\n",
    "* changelogs"
   ]
  },
  {
   "cell_type": "markdown",
   "metadata": {
    "slideshow": {
     "slide_type": "slide"
    }
   },
   "source": [
    "### semantic versioning (https://semver.org/)\n",
    "\n",
    "The program version is a number or a string that is used to indicate the successive releases of the software.\n",
    "\n",
    "I will explain here the so-called semantic vesioning, a widely used standard to convey informations about the compatibility of software over time.\n",
    "\n",
    "It is not the only approach:\n",
    "* many prefers to use the date of release\n",
    "* there are many (valid) criticisms of a \"pure\" semver approach"
   ]
  },
  {
   "cell_type": "markdown",
   "metadata": {
    "slideshow": {
     "slide_type": "slide"
    }
   },
   "source": [
    "#### basic structure\n",
    "\n",
    "    major.minor.patch\n",
    "    \n",
    "**patch** are simple changes that correct bugs in the code and don't change the API\n",
    "\n",
    "**minors** are changes that are backward compatible (at least with the previous minor), don't change the general structure of the code, usually add features and expand the API\n",
    "\n",
    "**majors** are changes that definitely breaks backward compatibility and possibily the structure and logic of the API"
   ]
  },
  {
   "cell_type": "markdown",
   "metadata": {
    "slideshow": {
     "slide_type": "slide"
    }
   },
   "source": [
    "### changelog\n",
    "\n",
    "changelogs are documents describing the changes between versions.\n",
    "\n",
    "Usually it's a document that is constantly updated, with the last realeases **on the top** of the page.\n",
    "\n",
    "It's better to keep it updated while you write code, otherwise they will be overwhelming to write.\n",
    "\n",
    "as a good practice, it is often a good idea to update the changelog with what you're planning to do before even doing, to help yourself to not stray off path and getting distracted"
   ]
  },
  {
   "cell_type": "markdown",
   "metadata": {
    "slideshow": {
     "slide_type": "slide"
    }
   },
   "source": [
    "Usually they contains the following informations:\n",
    "\n",
    "* bug corrected (possibly with reference to the the issue of the bug on the ticket management system, such as the github one)\n",
    "* code improvement (performances)\n",
    "* new functionalities\n",
    "* extension of old API\n",
    "* future deprecations\n",
    "* deprecations\n",
    "\n",
    "for the features that break old code, show example on how to convert it to the new version!"
   ]
  },
  {
   "cell_type": "markdown",
   "metadata": {
    "slideshow": {
     "slide_type": "slide"
    }
   },
   "source": [
    "Useful reads: \n",
    "* https://jaxenter.com/dos-donts-keeping-changelog-147373.html\n",
    "* https://keepachangelog.com/en/1.0.0/"
   ]
  },
  {
   "cell_type": "markdown",
   "metadata": {
    "slideshow": {
     "slide_type": "slide"
    }
   },
   "source": [
    "#### api evolution notes\n",
    "\n",
    "* if you want to deprecate a features, always put a warning for at least one minor version to give time to your users\n",
    "* small functions with small signatures are easier to evolve over time"
   ]
  },
  {
   "cell_type": "markdown",
   "metadata": {
    "slideshow": {
     "slide_type": "fragment"
    }
   },
   "source": [
    "\n",
    "suggested reading:\n",
    "* https://emptysqua.re/blog/api-evolution-the-right-way/\n"
   ]
  },
  {
   "cell_type": "markdown",
   "metadata": {
    "slideshow": {
     "slide_type": "slide"
    }
   },
   "source": [
    "## Documentation generation using Sphinx e readthedocs\n",
    "\n",
    "* www.sphinx-doc.org\n",
    "* www.readthedocs.io\n",
    "\n",
    "Sphinx is a program that allows you to semi-automatically generate web-pages containing documentation for your code.\n",
    "\n",
    "Readthedocs is a free hosting platform connected with github that provides a platform for the documentation of Open Source Software.\n",
    "\n",
    "You will still have to write the documentation, they will not do magic for you!"
   ]
  },
  {
   "cell_type": "code",
   "execution_count": 4,
   "metadata": {
    "slideshow": {
     "slide_type": "slide"
    }
   },
   "outputs": [],
   "source": [
    "!mkdir -p ./myapp/docs"
   ]
  },
  {
   "cell_type": "markdown",
   "metadata": {
    "slideshow": {
     "slide_type": "-"
    }
   },
   "source": [
    "Sphinx provides a quickstart program to setup your documentation is a simple-to compile way using a makefile."
   ]
  },
  {
   "cell_type": "code",
   "execution_count": null,
   "metadata": {
    "slideshow": {
     "slide_type": "-"
    }
   },
   "outputs": [],
   "source": [
    "%% bash\n",
    "cd docs\n",
    "sphinx-quickstart"
   ]
  },
  {
   "cell_type": "markdown",
   "metadata": {
    "slideshow": {
     "slide_type": "-"
    }
   },
   "source": [
    "once one accept the default and provides some basic info (such as the project name) sphinx will create the whole backbone of the documentation project "
   ]
  },
  {
   "cell_type": "code",
   "execution_count": 5,
   "metadata": {
    "slideshow": {
     "slide_type": "-"
    }
   },
   "outputs": [
    {
     "name": "stdout",
     "output_type": "stream",
     "text": [
      "_build\tconf.py  index.rst  make.bat  Makefile\t_static  _templates\r\n"
     ]
    }
   ],
   "source": [
    "!ls ./myapp/docs/"
   ]
  },
  {
   "cell_type": "markdown",
   "metadata": {
    "slideshow": {
     "slide_type": "slide"
    }
   },
   "source": [
    "the main two files are the conf.py and the index.rst.\n",
    "\n",
    "index.rst is the actual home page, while conf.py tells sphinx how to compile it"
   ]
  },
  {
   "cell_type": "code",
   "execution_count": 7,
   "metadata": {
    "slideshow": {
     "slide_type": "slide"
    }
   },
   "outputs": [
    {
     "name": "stdout",
     "output_type": "stream",
     "text": [
      ".. myapp documentation master file, created by\r\n",
      "   sphinx-quickstart on Mon May  3 11:40:01 2021.\r\n",
      "   You can adapt this file completely to your liking, but it should at least\r\n",
      "   contain the root `toctree` directive.\r\n",
      "\r\n",
      "Welcome to myapp's documentation!\r\n",
      "=================================\r\n",
      "\r\n",
      ".. toctree::\r\n",
      "   :maxdepth: 2\r\n",
      "   :caption: Contents:\r\n",
      "\r\n",
      "\r\n",
      "\r\n",
      "Indices and tables\r\n",
      "==================\r\n",
      "\r\n",
      "* :ref:`genindex`\r\n",
      "* :ref:`modindex`\r\n",
      "* :ref:`search`\r\n"
     ]
    }
   ],
   "source": [
    "!cat ./myapp/docs/index.rst"
   ]
  },
  {
   "cell_type": "markdown",
   "metadata": {
    "slideshow": {
     "slide_type": "slide"
    }
   },
   "source": [
    "to create the actual web site, one just need to call `make html` from the docs folder"
   ]
  },
  {
   "cell_type": "code",
   "execution_count": null,
   "metadata": {
    "slideshow": {
     "slide_type": "skip"
    }
   },
   "outputs": [],
   "source": [
    "!make html"
   ]
  },
  {
   "cell_type": "code",
   "execution_count": 9,
   "metadata": {
    "slideshow": {
     "slide_type": "skip"
    }
   },
   "outputs": [],
   "source": [
    "from IPython.display import display, HTML"
   ]
  },
  {
   "cell_type": "code",
   "execution_count": 10,
   "metadata": {
    "slideshow": {
     "slide_type": "-"
    }
   },
   "outputs": [
    {
     "data": {
      "text/html": [
       "\n",
       "<!DOCTYPE html>\n",
       "\n",
       "<html>\n",
       "  <head>\n",
       "    <meta charset=\"utf-8\" />\n",
       "    <meta name=\"viewport\" content=\"width=device-width, initial-scale=1.0\" /><meta name=\"generator\" content=\"Docutils 0.17.1: http://docutils.sourceforge.net/\" />\n",
       "\n",
       "    <title>Welcome to myapp’s documentation! &#8212; myapp 2021-05-03 documentation</title>\n",
       "    <link rel=\"stylesheet\" href=\"_static/pygments.css\" type=\"text/css\" />\n",
       "    <link rel=\"stylesheet\" href=\"_static/alabaster.css\" type=\"text/css\" />\n",
       "    <script id=\"documentation_options\" data-url_root=\"./\" src=\"_static/documentation_options.js\"></script>\n",
       "    <script src=\"_static/jquery.js\"></script>\n",
       "    <script src=\"_static/underscore.js\"></script>\n",
       "    <script src=\"_static/doctools.js\"></script>\n",
       "    <link rel=\"index\" title=\"Index\" href=\"genindex.html\" />\n",
       "    <link rel=\"search\" title=\"Search\" href=\"search.html\" />\n",
       "   \n",
       "  <link rel=\"stylesheet\" href=\"_static/custom.css\" type=\"text/css\" />\n",
       "  \n",
       "  \n",
       "  <meta name=\"viewport\" content=\"width=device-width, initial-scale=0.9, maximum-scale=0.9\" />\n",
       "\n",
       "  </head><body>\n",
       "  \n",
       "\n",
       "    <div class=\"document\">\n",
       "      <div class=\"documentwrapper\">\n",
       "        <div class=\"bodywrapper\">\n",
       "          \n",
       "\n",
       "          <div class=\"body\" role=\"main\">\n",
       "            \n",
       "  <section id=\"welcome-to-myapp-s-documentation\">\n",
       "<h1>Welcome to myapp’s documentation!<a class=\"headerlink\" href=\"#welcome-to-myapp-s-documentation\" title=\"Permalink to this headline\">¶</a></h1>\n",
       "<div class=\"toctree-wrapper compound\">\n",
       "</div>\n",
       "</section>\n",
       "<section id=\"indices-and-tables\">\n",
       "<h1>Indices and tables<a class=\"headerlink\" href=\"#indices-and-tables\" title=\"Permalink to this headline\">¶</a></h1>\n",
       "<ul class=\"simple\">\n",
       "<li><p><a class=\"reference internal\" href=\"genindex.html\"><span class=\"std std-ref\">Index</span></a></p></li>\n",
       "<li><p><a class=\"reference internal\" href=\"py-modindex.html\"><span class=\"std std-ref\">Module Index</span></a></p></li>\n",
       "<li><p><a class=\"reference internal\" href=\"search.html\"><span class=\"std std-ref\">Search Page</span></a></p></li>\n",
       "</ul>\n",
       "</section>\n",
       "\n",
       "\n",
       "          </div>\n",
       "          \n",
       "        </div>\n",
       "      </div>\n",
       "      <div class=\"sphinxsidebar\" role=\"navigation\" aria-label=\"main navigation\">\n",
       "        <div class=\"sphinxsidebarwrapper\">\n",
       "<h1 class=\"logo\"><a href=\"#\">myapp</a></h1>\n",
       "\n",
       "\n",
       "\n",
       "\n",
       "\n",
       "\n",
       "\n",
       "\n",
       "<h3>Navigation</h3>\n",
       "\n",
       "<div class=\"relations\">\n",
       "<h3>Related Topics</h3>\n",
       "<ul>\n",
       "  <li><a href=\"#\">Documentation overview</a><ul>\n",
       "  </ul></li>\n",
       "</ul>\n",
       "</div>\n",
       "<div id=\"searchbox\" style=\"display: none\" role=\"search\">\n",
       "  <h3 id=\"searchlabel\">Quick search</h3>\n",
       "    <div class=\"searchformwrapper\">\n",
       "    <form class=\"search\" action=\"search.html\" method=\"get\">\n",
       "      <input type=\"text\" name=\"q\" aria-labelledby=\"searchlabel\" />\n",
       "      <input type=\"submit\" value=\"Go\" />\n",
       "    </form>\n",
       "    </div>\n",
       "</div>\n",
       "<script>$('#searchbox').show(0);</script>\n",
       "\n",
       "\n",
       "\n",
       "\n",
       "\n",
       "\n",
       "\n",
       "\n",
       "        </div>\n",
       "      </div>\n",
       "      <div class=\"clearer\"></div>\n",
       "    </div>\n",
       "    <div class=\"footer\">\n",
       "      &copy;2021, Enrico Giampieri.\n",
       "      \n",
       "      |\n",
       "      Powered by <a href=\"http://sphinx-doc.org/\">Sphinx 3.5.3</a>\n",
       "      &amp; <a href=\"https://github.com/bitprophet/alabaster\">Alabaster 0.7.12</a>\n",
       "      \n",
       "      |\n",
       "      <a href=\"_sources/index.rst.txt\"\n",
       "          rel=\"nofollow\">Page source</a>\n",
       "    </div>\n",
       "\n",
       "    \n",
       "\n",
       "    \n",
       "  </body>\n",
       "</html>"
      ],
      "text/plain": [
       "<IPython.core.display.HTML object>"
      ]
     },
     "execution_count": 10,
     "metadata": {},
     "output_type": "execute_result"
    }
   ],
   "source": [
    "HTML(\"./myapp/docs/_build/html/index.html\")"
   ]
  },
  {
   "cell_type": "markdown",
   "metadata": {
    "slideshow": {
     "slide_type": "slide"
    }
   },
   "source": [
    "### automatic docstring inclusion\n",
    "\n",
    "sphinx can automatically load and parse the docstring (in rst format) that have been written\n",
    "\n",
    "one needs to include in the `conf.py` the `autodoc` module:\n",
    "\n",
    "```python\n",
    "extensions = ['sphinx.ext.autodoc']\n",
    "```\n",
    "    \n",
    "and to document a module/function use anywhere in the rst files:\n",
    "\n",
    "```rst\n",
    ".. autofunction:: io.open\n",
    "```"
   ]
  },
  {
   "cell_type": "markdown",
   "metadata": {
    "slideshow": {
     "slide_type": "slide"
    }
   },
   "source": [
    "the module needs to be importable for sphinx to be able to parse it!\n",
    "\n",
    "for example, once we install our module with `pip --editable` we could import on of the main functions as:\n",
    "\n",
    "```python\n",
    "from myapp.__main__ import main_square\n",
    "```\n",
    "\n",
    "so to document this function we would put:\n",
    "\n",
    "```rst\n",
    ".. autofunction:: myapp.__main__.main_square\n",
    "```"
   ]
  },
  {
   "cell_type": "code",
   "execution_count": 12,
   "metadata": {
    "slideshow": {
     "slide_type": "slide"
    }
   },
   "outputs": [
    {
     "data": {
      "text/html": [
       "\n",
       "<!DOCTYPE html>\n",
       "\n",
       "<html>\n",
       "  <head>\n",
       "    <meta charset=\"utf-8\" />\n",
       "    <meta name=\"viewport\" content=\"width=device-width, initial-scale=1.0\" /><meta name=\"generator\" content=\"Docutils 0.17.1: http://docutils.sourceforge.net/\" />\n",
       "\n",
       "    <title>Welcome to myapp’s documentation! &#8212; myapp 2021-05-03 documentation</title>\n",
       "    <link rel=\"stylesheet\" href=\"_static/pygments.css\" type=\"text/css\" />\n",
       "    <link rel=\"stylesheet\" href=\"_static/alabaster.css\" type=\"text/css\" />\n",
       "    <script id=\"documentation_options\" data-url_root=\"./\" src=\"_static/documentation_options.js\"></script>\n",
       "    <script src=\"_static/jquery.js\"></script>\n",
       "    <script src=\"_static/underscore.js\"></script>\n",
       "    <script src=\"_static/doctools.js\"></script>\n",
       "    <link rel=\"index\" title=\"Index\" href=\"genindex.html\" />\n",
       "    <link rel=\"search\" title=\"Search\" href=\"search.html\" />\n",
       "   \n",
       "  <link rel=\"stylesheet\" href=\"_static/custom.css\" type=\"text/css\" />\n",
       "  \n",
       "  \n",
       "  <meta name=\"viewport\" content=\"width=device-width, initial-scale=0.9, maximum-scale=0.9\" />\n",
       "\n",
       "  </head><body>\n",
       "  \n",
       "\n",
       "    <div class=\"document\">\n",
       "      <div class=\"documentwrapper\">\n",
       "        <div class=\"bodywrapper\">\n",
       "          \n",
       "\n",
       "          <div class=\"body\" role=\"main\">\n",
       "            \n",
       "  <section id=\"welcome-to-myapp-s-documentation\">\n",
       "<h1>Welcome to myapp’s documentation!<a class=\"headerlink\" href=\"#welcome-to-myapp-s-documentation\" title=\"Permalink to this headline\">¶</a></h1>\n",
       "<div class=\"toctree-wrapper compound\">\n",
       "</div>\n",
       "</section>\n",
       "<section id=\"indices-and-tables\">\n",
       "<h1>Indices and tables<a class=\"headerlink\" href=\"#indices-and-tables\" title=\"Permalink to this headline\">¶</a></h1>\n",
       "<ul class=\"simple\">\n",
       "<li><p><a class=\"reference internal\" href=\"genindex.html\"><span class=\"std std-ref\">Index</span></a></p></li>\n",
       "<li><p><a class=\"reference internal\" href=\"py-modindex.html\"><span class=\"std std-ref\">Module Index</span></a></p></li>\n",
       "<li><p><a class=\"reference internal\" href=\"search.html\"><span class=\"std std-ref\">Search Page</span></a></p></li>\n",
       "</ul>\n",
       "<dl class=\"py function\">\n",
       "<dt id=\"myapp.__main__.main_square\">\n",
       "<code class=\"sig-prename descclassname\"><span class=\"pre\">myapp.__main__.</span></code><code class=\"sig-name descname\"><span class=\"pre\">main_square</span></code><span class=\"sig-paren\">(</span><em class=\"sig-param\"><span class=\"n\"><span class=\"pre\">args</span></span></em><span class=\"sig-paren\">)</span><a class=\"headerlink\" href=\"#myapp.__main__.main_square\" title=\"Permalink to this definition\">¶</a></dt>\n",
       "<dd><p>main function to parse the arguments</p>\n",
       "</dd></dl>\n",
       "\n",
       "</section>\n",
       "\n",
       "\n",
       "          </div>\n",
       "          \n",
       "        </div>\n",
       "      </div>\n",
       "      <div class=\"sphinxsidebar\" role=\"navigation\" aria-label=\"main navigation\">\n",
       "        <div class=\"sphinxsidebarwrapper\">\n",
       "<h1 class=\"logo\"><a href=\"#\">myapp</a></h1>\n",
       "\n",
       "\n",
       "\n",
       "\n",
       "\n",
       "\n",
       "\n",
       "\n",
       "<h3>Navigation</h3>\n",
       "\n",
       "<div class=\"relations\">\n",
       "<h3>Related Topics</h3>\n",
       "<ul>\n",
       "  <li><a href=\"#\">Documentation overview</a><ul>\n",
       "  </ul></li>\n",
       "</ul>\n",
       "</div>\n",
       "<div id=\"searchbox\" style=\"display: none\" role=\"search\">\n",
       "  <h3 id=\"searchlabel\">Quick search</h3>\n",
       "    <div class=\"searchformwrapper\">\n",
       "    <form class=\"search\" action=\"search.html\" method=\"get\">\n",
       "      <input type=\"text\" name=\"q\" aria-labelledby=\"searchlabel\" />\n",
       "      <input type=\"submit\" value=\"Go\" />\n",
       "    </form>\n",
       "    </div>\n",
       "</div>\n",
       "<script>$('#searchbox').show(0);</script>\n",
       "\n",
       "\n",
       "\n",
       "\n",
       "\n",
       "\n",
       "\n",
       "\n",
       "        </div>\n",
       "      </div>\n",
       "      <div class=\"clearer\"></div>\n",
       "    </div>\n",
       "    <div class=\"footer\">\n",
       "      &copy;2021, Enrico Giampieri.\n",
       "      \n",
       "      |\n",
       "      Powered by <a href=\"http://sphinx-doc.org/\">Sphinx 3.5.3</a>\n",
       "      &amp; <a href=\"https://github.com/bitprophet/alabaster\">Alabaster 0.7.12</a>\n",
       "      \n",
       "      |\n",
       "      <a href=\"_sources/index.rst.txt\"\n",
       "          rel=\"nofollow\">Page source</a>\n",
       "    </div>\n",
       "\n",
       "    \n",
       "\n",
       "    \n",
       "  </body>\n",
       "</html>"
      ],
      "text/plain": [
       "<IPython.core.display.HTML object>"
      ]
     },
     "metadata": {},
     "output_type": "display_data"
    }
   ],
   "source": [
    "display(HTML(\"./myapp/docs/_build/html/index.html\"))"
   ]
  },
  {
   "cell_type": "markdown",
   "metadata": {
    "slideshow": {
     "slide_type": "slide"
    }
   },
   "source": [
    "Once the documentation is ready, one can include it in the repository on github.\n",
    "\n",
    "The next step is to make an account of readthedocs, from which one can import the documentation from the repository in a more or less automated way, and have it online and aligned with the latest version of the repository."
   ]
  },
  {
   "cell_type": "markdown",
   "metadata": {
    "slideshow": {
     "slide_type": "slide"
    }
   },
   "source": [
    "suggested read:\n",
    "\n",
    "An introduction to Sphinx and Read the Docs for Technical Writers: \n",
    "* https://www.ericholscher.com/blog/2016/jul/1/sphinx-and-rtd-for-writers/"
   ]
  }
 ],
 "metadata": {
  "celltoolbar": "Slideshow",
  "kernelspec": {
   "display_name": "Python 3 (ipykernel)",
   "language": "python",
   "name": "python3"
  },
  "language_info": {
   "codemirror_mode": {
    "name": "ipython",
    "version": 3
   },
   "file_extension": ".py",
   "mimetype": "text/x-python",
   "name": "python",
   "nbconvert_exporter": "python",
   "pygments_lexer": "ipython3",
   "version": "3.9.15"
  }
 },
 "nbformat": 4,
 "nbformat_minor": 4
}
