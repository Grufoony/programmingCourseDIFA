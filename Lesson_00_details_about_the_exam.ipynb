{
 "cells": [
  {
   "cell_type": "markdown",
   "metadata": {
    "slideshow": {
     "slide_type": "slide"
    }
   },
   "source": [
    "# The exam\n",
    "\n",
    "This document describes the idea behind the test for the module 1 of the Software and Computing course, and the module 2 for the Applied Physics branch of the same course."
   ]
  },
  {
   "cell_type": "markdown",
   "metadata": {
    "slideshow": {
     "slide_type": "slide"
    }
   },
   "source": [
    "## general guidelines\n",
    "\n",
    "* You will be evaluated on a programming project;\n",
    "* this project needs to be hosted on a public repository;\n",
    "* you are free to choose the programming language of the project;\n",
    "* accepted control version systems are git and fossil;"
   ]
  },
  {
   "cell_type": "markdown",
   "metadata": {
    "slideshow": {
     "slide_type": "slide"
    }
   },
   "source": [
    "## topics of evaluation\n",
    "\n",
    "The project must be executable on a different machine from the one you have developed it into.\n",
    "Limitations can be put on the operative system and platform version required, but if so they must be explicitely specified.\n",
    "\n",
    "* clarity of the repository commit history\n",
    "* organization and clarity of the source code\n",
    "* organization and clarity of the documentation\n",
    "* presence and executability of test routines"
   ]
  },
  {
   "cell_type": "markdown",
   "metadata": {
    "slideshow": {
     "slide_type": "slide"
    }
   },
   "source": [
    "### optional bonuses (don't rely on them)\n",
    "* Usage of innovative technologies and libraries\n",
    "* Contribution to open source projects"
   ]
  },
  {
   "cell_type": "markdown",
   "metadata": {
    "slideshow": {
     "slide_type": "slide"
    }
   },
   "source": [
    "### exam progression\n",
    "\n",
    "Please start discussing your exam project **before** starting to work on it.\n",
    "Discussing it early will avoid wasting effort and time for something that is not appropriate for the exam!\n",
    "\n",
    "possible projects:\n",
    "* an idea that you find interesting (please discuss it first)\n",
    "* deciding a project together\n",
    "* Sharing the project with other exams or thesis "
   ]
  },
  {
   "cell_type": "markdown",
   "metadata": {
    "slideshow": {
     "slide_type": "slide"
    }
   },
   "source": [
    "## The spirit of the exam\n",
    "\n",
    "The goal of the exam IS NOT to assess if you can write a very complicated simulation.\n",
    "\n",
    "The goal is to show that you are able to write a software that can be used by other researcher and that it can pass the \"bus test\": if tomorrow you are unable to work on this project, would other people be able to keep it alive?"
   ]
  },
  {
   "cell_type": "markdown",
   "metadata": {
    "slideshow": {
     "slide_type": "slide"
    }
   },
   "source": [
    "To fullfill this goal, it is not useful to perform virtuosisms of computational skills.\n",
    "The project does not have to be complicated.\n",
    "It has to be reliable and understandable by others.\n",
    "\n",
    "This other person should not be burdained of effort to understand your code.\n",
    "\n",
    "**\"Go and read the source code\"** it's not a reasonable answer.\n",
    "\n",
    "**\"Go and edit the source code\"** to use it is even less so."
   ]
  },
  {
   "cell_type": "markdown",
   "metadata": {
    "slideshow": {
     "slide_type": "slide"
    }
   },
   "source": [
    "They should be able to install your code, run it and replicate your results.\n",
    "\n",
    "consider giving the software a command line interface that can be run with some parameters, rather than having to explicitely run a bunch of scripts in a non explicit sequence."
   ]
  },
  {
   "cell_type": "markdown",
   "metadata": {
    "slideshow": {
     "slide_type": "slide"
    }
   },
   "source": [
    "## General guidelines on the various topics of evaluation\n",
    "\n",
    "### Documentation\n",
    "\n",
    "Documentation should be written in English, with proper sentences and coherent structure.\n",
    "The whole documentation should be accessible from the landing page of the repository, either in the readme or using hypertextual links: the user should not be left guessing on where to find it."
   ]
  },
  {
   "cell_type": "markdown",
   "metadata": {
    "slideshow": {
     "slide_type": "slide"
    }
   },
   "source": [
    "The documentation should explain:\n",
    "* what problem is the function or program trying to solve\n",
    "* what are the parameters that are exposed to the user and, if there are defaults parameters, what they are\n",
    "* how it is implemented (does it use specific algorithms? do have any peculiar assumption about the input data?)"
   ]
  },
  {
   "cell_type": "markdown",
   "metadata": {
    "slideshow": {
     "slide_type": "slide"
    }
   },
   "source": [
    "If possible the documentation should also include examples of execution, configurations and results, so that the user can understand the basic uses of the program/library, and could test on their own.\n",
    "\n",
    "a good reference for writing documentation is https://www.divio.com/blog/documentation/"
   ]
  },
  {
   "cell_type": "markdown",
   "metadata": {
    "slideshow": {
     "slide_type": "slide"
    }
   },
   "source": [
    "### Testing\n",
    "\n",
    "Testing should involve all the functions exposed to the user, and should ideally cover any combination of parameters.\n",
    "This means that in general is a good idea to keep the functions simple and composable, to avoid overly brittle and complicated test suites.\n",
    "\n",
    "The test name should be indicative of what the test is trying to achieve. `test_1` is not a clear name `test_function_is_even` is more clear.\n",
    "\n",
    "Is possible, write documentations (docstrings) for your tests as well, following the principle of explaining WHY the test is being performed, alongside WHAT is testing."
   ]
  },
  {
   "cell_type": "markdown",
   "metadata": {
    "slideshow": {
     "slide_type": "slide"
    }
   },
   "source": [
    "**REMEMBER THAT FLOATING POINT NUMBERS HAVE ISSUES WITH EQUALITY TESTING!!!**\n",
    "\n",
    "Make sure that any test could only fail for a single reason: if a test have several failing conditions, it will be difficult to pinpoint the exact cause."
   ]
  },
  {
   "cell_type": "markdown",
   "metadata": {
    "slideshow": {
     "slide_type": "slide"
    }
   },
   "source": [
    "Every time you find a bug, write an associated test **before** solving the bug, make sure that it fails and then solve it (making it sure that now it passes).\n",
    "This will prevent the bug from showing again in the future.\n",
    "\n",
    "Tests are a way to also establish the interface of your program. They are a promise to your users: if something is tested it should work. This means that every commit should be tested and only submitted if **all** the tests passes."
   ]
  },
  {
   "cell_type": "markdown",
   "metadata": {
    "slideshow": {
     "slide_type": "slide"
    }
   },
   "source": [
    "Even if not compulsory, I strongly suggest to use a coverage test system (with libraries such as [*coverage.py*](https://coverage.readthedocs.io/en/coverage-5.0.3/)) and try to achieve 100% coverage.\n",
    "\n",
    "test code should be well separated from the library (or simulation) code, and definitely not mixed in the same file.\n",
    "\n",
    "testing does not need to verify that the code can be run (this should be taken for granted), but that upon executino the results are the one expected.\n",
    "This is the reason to use asserts."
   ]
  },
  {
   "cell_type": "markdown",
   "metadata": {
    "slideshow": {
     "slide_type": "slide"
    }
   },
   "source": [
    "#### visualization functions - no testing needed\n",
    "\n",
    "Your code might contains faunctions that, given some data in input, will generate some visualization of those data.\n",
    "\n",
    "In general, it's accepted that this kind of functions don't require testing, as the effort necessary to have a robust test will overwhelm any benefit.\n",
    "\n",
    "Of course, a function of this kind should not contain ANY PREPROCESSING of the data, but just the visualization itself."
   ]
  },
  {
   "cell_type": "markdown",
   "metadata": {
    "slideshow": {
     "slide_type": "slide"
    }
   },
   "source": [
    "#### Testing functions and printing\n",
    "Testing function should not print or return anything, as this would only confuse the result of the testing suite.\n",
    "\n",
    "#### Use of Hypothesis\n",
    "The use of the hypothesis library is welcome, but only once there is a proper test suite in place with more simple tools such as unittest or pytest"
   ]
  },
  {
   "cell_type": "markdown",
   "metadata": {
    "slideshow": {
     "slide_type": "slide"
    }
   },
   "source": [
    "### Code organization and clarity\n",
    "\n",
    "Follow a consistent programming style.\n",
    "A good starting point is the [PEP8](https://www.python.org/dev/peps/pep-0008/).\n",
    "There are many guidelines out there, pick one and follow it.\n",
    "\n",
    "Use proper naming, both explanatory and consistent.\n",
    "This helps the user using your library.\n",
    "If in one part of the library you have functions such as `has_property`, don't change the style in another part to something like `is_something`"
   ]
  },
  {
   "cell_type": "markdown",
   "metadata": {
    "slideshow": {
     "slide_type": "slide"
    }
   },
   "source": [
    "Avoid dependency from global states as much as possible. \n",
    "The only tolerated exception is for configuration values that are never modified.\n",
    "Do not write on the global state. \n",
    "No, yours is not a special enough case."
   ]
  },
  {
   "cell_type": "markdown",
   "metadata": {
    "slideshow": {
     "slide_type": "slide"
    }
   },
   "source": [
    "leverage the power of functions to avoid useless code repetition and make your code easier to read for someone new to it.\n",
    "Functions should ideally do a single thing: huge number of parameters in the call is usually indicative that the function is trying to do to much.\n",
    "\n",
    "functions should be decorrelated, meaning that there should not be a fixed order to call them otherwise weird error arises.\n",
    "If a group of functions needs to be called in a fixed order, you are probably trying to write an object without realizing it.\n",
    "In some cases this can be simplified using [*partial*](https://docs.python.org/3/library/functools.html#functools.partial) functions and [*contextmanager*](https://docs.python.org/3/library/contextlib.html#contextlib.contextmanager) decorators."
   ]
  },
  {
   "cell_type": "markdown",
   "metadata": {
    "slideshow": {
     "slide_type": "slide"
    }
   },
   "source": [
    "If your code dependes on external libraries, remember to point out which ones, and which is the minimum (and possibly maximum) version that are necessary.\n",
    "In general try to balance out how many libraries your code dependes on.\n",
    "Some libraries are commonly used by most users in the same community, and those are not a problem (such as numpy, scipy, pandas and scikit.learn for the scientific python community), but try to limit dependencies from *unorthodox* libraries"
   ]
  },
  {
   "cell_type": "markdown",
   "metadata": {
    "slideshow": {
     "slide_type": "slide"
    }
   },
   "source": [
    "if you need to connect to online services, consider [*caching*](https://docs.python.org/3/library/functools.html#functools.lru_cache) or, at least, minimize the number of connections used to avoid bogging them down.\n",
    "\n",
    "**Make sure that there are no reference to specifi paths of your computer in the code!**\n",
    "Asking the library to load a file in the directory `\\home\\myname\\myprojects\\SandCexam` is unacceptable.\n",
    "It is suggested to use a third party continuous integration service such as [TravisCI](https://travis-ci.org/), as it will show most of these brittle errors.\n",
    "I need to be able to run the software on my computer, this is a prerequisite, and as such this kind of mistake precludes the project to receive and evaluation!"
   ]
  },
  {
   "cell_type": "markdown",
   "metadata": {
    "slideshow": {
     "slide_type": "slide"
    }
   },
   "source": [
    "### comments\n",
    "\n",
    "Remember to comment the code: comments should indicate WHY the code is doing something, not describe WHAT is doing.\n",
    "Proper function and variable naming can help reduce the needs for comments.\n",
    "\n",
    "bad:\n",
    "```python\n",
    "lenght = min(lenght, 80)\n",
    "```"
   ]
  },
  {
   "cell_type": "markdown",
   "metadata": {
    "slideshow": {
     "slide_type": "slide"
    }
   },
   "source": [
    "better:\n",
    "```python\n",
    "# limit the text lenght to avoid overflow issues\n",
    "lenght = min(lenght, 80)\n",
    "```"
   ]
  },
  {
   "cell_type": "markdown",
   "metadata": {
    "slideshow": {
     "slide_type": "slide"
    }
   },
   "source": [
    "best:\n",
    "```python\n",
    "# limit the text lenght to avoid overflow issues\n",
    "terminal_character_limit = 80\n",
    "text_line_lenght = min(text_line_lenght, \n",
    "                       terminal_character_limit)\n",
    "```"
   ]
  },
  {
   "cell_type": "markdown",
   "metadata": {
    "slideshow": {
     "slide_type": "slide"
    }
   },
   "source": [
    "### assert and exceptions\n",
    "In python don't be overly defensive with testing the input for a function.\n",
    "If your function need to insert some values in a dict, you don't need to test that the input is a dict, but only that is a mappable (does have a `set_item` function).\n",
    "\n",
    "Even better, don't try to verify beforehand but rather use a try except clause in the code and explain the problem to the user."
   ]
  },
  {
   "cell_type": "markdown",
   "metadata": {
    "slideshow": {
     "slide_type": "slide"
    }
   },
   "source": [
    "**Don't use `assert` to check for important conditions**, but use if-else clause and raise an approriate exception (subclassing one of the existing one, if needed) if the condition is not valid.\n",
    "\n",
    "Asserts are supposed to be used at the end of the code to make the code invariant explicit (for example that the two returned arrays are of the same lenght).\n",
    "In a reasonable condition one should never expect to see one of these `assert` fail: they are used to communicate infomations to the reader."
   ]
  },
  {
   "cell_type": "markdown",
   "metadata": {
    "slideshow": {
     "slide_type": "slide"
    }
   },
   "source": [
    "bad:\n",
    "```python\n",
    "def add_key(mappable, key, value):\n",
    "    assert isinstance(mappable, dict)\n",
    "    mappable[key] = value\n",
    "```"
   ]
  },
  {
   "cell_type": "markdown",
   "metadata": {
    "slideshow": {
     "slide_type": "slide"
    }
   },
   "source": [
    "better:\n",
    "```python\n",
    "def add_key(mappable, key, value):\n",
    "    if not isinstance(mappable, dict):\n",
    "        raise TypeError(\"the mappable object should be a dict\")\n",
    "    mappable[key] = value\n",
    "```"
   ]
  },
  {
   "cell_type": "markdown",
   "metadata": {
    "slideshow": {
     "slide_type": "slide"
    }
   },
   "source": [
    "even better:\n",
    "```python\n",
    "def add_key(mappable, key, value):\n",
    "    try:\n",
    "        mappable[key] = value\n",
    "    except TypeError as e:\n",
    "        err = \"object does not support item assignment\"\n",
    "        if err in e.args[0]:\n",
    "            msg = \"{} doesn't support item assignment\"\n",
    "            msg = msg.format(type(mappable))\n",
    "            raise TypeError(msg) from None\n",
    "```"
   ]
  },
  {
   "cell_type": "markdown",
   "metadata": {
    "slideshow": {
     "slide_type": "slide"
    }
   },
   "source": [
    "best:\n",
    "```python\n",
    "def add_key(mappable, key, value):\n",
    "    mappable[key] = value\n",
    "```"
   ]
  },
  {
   "cell_type": "markdown",
   "metadata": {
    "slideshow": {
     "slide_type": "slide"
    }
   },
   "source": [
    "### Version control commits\n",
    "\n",
    "**DO NOT UPLOAD PASSOWORDS OR ANY OTHER SECURITY INFORMATION!!!**\n",
    "This includes also the ip address of servers, usernames, personal informations or anything of the sort.\n",
    "Include them in a separate text file if you really need them and only include in the commit a dummy file with fake informations.\n",
    "\n",
    "All commits should have a brief and descriptive title.\n",
    "\"some edits\" is not a good description."
   ]
  },
  {
   "cell_type": "markdown",
   "metadata": {
    "slideshow": {
     "slide_type": "slide"
    }
   },
   "source": [
    "Each commit should be a single kind of edit.\n",
    "Editing a function might need to update also the documentation and testing, and possibly other code that relies on that function.\n",
    "But don't mix random extensions of the documentation, code editing, and so on.\n",
    "\n",
    "try to avoid including temporary files (such as the `__pycache__` folder) in the commits, as they make the repository bigger and harder to understand."
   ]
  },
  {
   "cell_type": "markdown",
   "metadata": {
    "slideshow": {
     "slide_type": "slide"
    }
   },
   "source": [
    "avoid including very big files in the repository, unless necessary.\n",
    "Consider the possibility of dynamically generate them during the installation or the first run.\n",
    "\n",
    "Having multiple smaller commits is absolutely ok.\n",
    "Projects with hundreds of commits are absolutely normal, don't be afraid to commit multiple time a day."
   ]
  },
  {
   "cell_type": "markdown",
   "metadata": {
    "slideshow": {
     "slide_type": "slide"
    }
   },
   "source": [
    "Do not upload datasets, especially if they are from an experiment that you're collaborating with, as you might have copyright and intellectual property issues."
   ]
  },
  {
   "cell_type": "markdown",
   "metadata": {
    "slideshow": {
     "slide_type": "slide"
    }
   },
   "source": [
    "## Kind of possible projects and gotchas of each one\n",
    "\n",
    "* libraries\n",
    "* simulations\n",
    "\n",
    "these are not the only possible ones (frameworks, web services, etc... would be accepted upon discussion), but they are the vast majority of the projects."
   ]
  },
  {
   "cell_type": "markdown",
   "metadata": {
    "slideshow": {
     "slide_type": "slide"
    }
   },
   "source": [
    "## management of simulations\n",
    "If the project is a simulation, the main goal is to be able to replicate the results, and to batch execute them.\n",
    "\n",
    "* there should be no hard dependency on pathways or files from your computer\n",
    "* random elements should be managed explicitely using a random seed"
   ]
  },
  {
   "cell_type": "markdown",
   "metadata": {
    "slideshow": {
     "slide_type": "slide"
    }
   },
   "source": [
    "* the simulation, analysis and plotting steps should be separated, so that the analysis can be repeated without performing the simulation again. Ideally should be possible performing batch analysis of the results of several simulations.\n",
    "* different configurations for the simulation should be included in a separate configuration file, that could be provided by the user"
   ]
  },
  {
   "cell_type": "markdown",
   "metadata": {
    "slideshow": {
     "slide_type": "slide"
    }
   },
   "source": [
    "## management of libraries\n",
    "\n",
    "if the project is a library, the main goal is for a user to be able to use it in their own libraries and simulations.\n",
    "\n",
    "* the API of the library (i.e. the functions and how they are related) should be properly designed and explained\n",
    "* include examples and tutorial in the documentation"
   ]
  },
  {
   "cell_type": "markdown",
   "metadata": {
    "slideshow": {
     "slide_type": "slide"
    }
   },
   "source": [
    "* configuration of the library should be transparent to the user, and should not rely on weird system states\n",
    "* be clear on the algorithms used and possible limitations of the method (memory, disk space, parallelism, etc...)"
   ]
  },
  {
   "cell_type": "markdown",
   "metadata": {
    "slideshow": {
     "slide_type": "slide"
    }
   },
   "source": [
    "## Jupyter notebooks\n",
    "\n",
    "Do not use Jupyter notebooks to store functions, classes and testing.\n",
    "\n",
    "Palce them in separate files and import them in the notebook.\n",
    "\n",
    "Jupyter notebooks are not designed for lont term, clean code storage, but rather to keep trace of the execution of said code. \n",
    "They are ideal for tutorial, how-to and similar, and their use is welcome to show an actual execution of your code."
   ]
  },
  {
   "cell_type": "markdown",
   "metadata": {
    "slideshow": {
     "slide_type": "slide"
    }
   },
   "source": [
    "## examples of repositories from other students\n",
    "\n",
    "these are some repositories that obtained the full mark in the exam (for the applied physics course), and could be used as a reference.\n",
    "\n",
    "* [https://github.com/JonathanFrassineti/Software-Project](https://github.com/JonathanFrassineti/Software-Project)\n",
    "* [https://github.com/filippocastelli/KEGGutils](https://github.com/filippocastelli/KEGGutils)\n",
    "* [https://github.com/riccardoscheda/AnomalousDiffusion](https://github.com/riccardoscheda/AnomalousDiffusion)"
   ]
  }
 ],
 "metadata": {
  "celltoolbar": "Slideshow",
  "kernelspec": {
   "display_name": "Python 3 (ipykernel)",
   "language": "python",
   "name": "python3"
  },
  "language_info": {
   "codemirror_mode": {
    "name": "ipython",
    "version": 3
   },
   "file_extension": ".py",
   "mimetype": "text/x-python",
   "name": "python",
   "nbconvert_exporter": "python",
   "pygments_lexer": "ipython3",
   "version": "3.9.15"
  }
 },
 "nbformat": 4,
 "nbformat_minor": 2
}
